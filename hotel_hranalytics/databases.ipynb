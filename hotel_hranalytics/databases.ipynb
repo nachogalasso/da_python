{
 "cells": [
  {
   "cell_type": "markdown",
   "metadata": {},
   "source": [
    "# HOTEL HR PEOPLE ANALYTICS\n",
    "\n",
    "### Hotel Analysis from a People Analytics perspective.\n",
    "<p>This project will try to emulate HR analytics to continue practicing my analytical skills. Also, with this project, I want to <u>strengthen my knowledge</u> in <b><i>MySql</b></i> <b><i>and SQL</i></b>. I will use <b><i>Python</i></b> and <b><i>Power BI</i></b> for the data analysis.</p>\n",
    "<p>I will start with doing a little of data engineering to design the databases I am going to work with. I will use <b><i>Figma</i></b> to draft the databases and the relationships between each other. Then I will fill the databases with the data, and later I will start the data analysis.</p>"
   ]
  },
  {
   "cell_type": "markdown",
   "metadata": {},
   "source": [
    "### 1. Import libraries"
   ]
  },
  {
   "cell_type": "code",
   "execution_count": 1,
   "metadata": {},
   "outputs": [],
   "source": [
    "# Libraries to manipulate the data\n",
    "import pandas as pd\n",
    "import numpy as np\n",
    "from datetime import datetime\n",
    "\n",
    "# Library to deploy charts with the data\n",
    "import seaborn as sns\n",
    "import matplotlib.pyplot as plt\n",
    "\n",
    "# Statmodels for predictions\n",
    "import statsmodels.api as sm\n",
    "import statsmodels.formula.api as smf\n",
    "\n",
    "# This is to ignore warnings.\n",
    "import warnings\n",
    "warnings.filterwarnings('ignore')"
   ]
  },
  {
   "cell_type": "markdown",
   "metadata": {},
   "source": [
    "### 2. Creating the data bases\n",
    "\n",
    "<p>Let's create the databases acording to the <u>draft</u> I have created in <b><i>Figma</b></i>.</p>\n",
    "\n",
    "<p>The first database I will create is the Employee's database, because it is the one that will connect most of the other databases.</p>"
   ]
  },
  {
   "cell_type": "code",
   "execution_count": 9,
   "metadata": {},
   "outputs": [
    {
     "name": "stdout",
     "output_type": "stream",
     "text": [
      "Empty DataFrame\n",
      "Columns: [emp_id, Name, Surname, Birthday, Age, Gender, on_license, Entry_date, hotel_id]\n",
      "Index: []\n"
     ]
    },
    {
     "data": {
      "text/plain": [
       "emp_id        object\n",
       "Name          object\n",
       "Surname       object\n",
       "Birthday      object\n",
       "Age            int64\n",
       "Gender        object\n",
       "on_license      bool\n",
       "Entry_date    object\n",
       "hotel_id      object\n",
       "dtype: object"
      ]
     },
     "execution_count": 9,
     "metadata": {},
     "output_type": "execute_result"
    }
   ],
   "source": [
    "# Employee's database\n",
    "emp_schema = {'emp_id':'str', 'Name':'str', 'Surname':'str', 'Birthday':'object', 'Age':'int64', 'Gender':'str', 'on_license':'bool','Entry_date':'object','hotel_id':'str'}\n",
    "emp_df = pd.DataFrame(columns=emp_schema.keys()).astype(emp_schema)\n",
    "\n",
    "print(emp_df)\n",
    "emp_df.dtypes"
   ]
  },
  {
   "cell_type": "code",
   "execution_count": 10,
   "metadata": {},
   "outputs": [
    {
     "name": "stdout",
     "output_type": "stream",
     "text": [
      "Empty DataFrame\n",
      "Columns: [emp_id, Name, Surname, Birthday, Age, Gender, on_license, Entry_date, hotel_id]\n",
      "Index: []\n"
     ]
    },
    {
     "data": {
      "text/plain": [
       "hotel_id            object\n",
       "Name                object\n",
       "Location            object\n",
       "Opening             object\n",
       "mgr_id              object\n",
       "Stars                int64\n",
       "Budget             float64\n",
       "Total_employees      int64\n",
       "dtype: object"
      ]
     },
     "execution_count": 10,
     "metadata": {},
     "output_type": "execute_result"
    }
   ],
   "source": [
    "# Hotel's database\n",
    "hotel_schema = {'hotel_id':'str', 'Name':'str', 'Location':'str', 'Opening':'object', 'mgr_id':'str', 'Stars':'int64', 'Budget':'float64'}\n",
    "hotel_df = pd.DataFrame(columns=hotel_schema.keys()).astype(hotel_schema)\n",
    "\n",
    "print(hotel_df)\n",
    "hotel_df.dtypes"
   ]
  },
  {
   "cell_type": "code",
   "execution_count": 11,
   "metadata": {},
   "outputs": [
    {
     "name": "stdout",
     "output_type": "stream",
     "text": [
      "Empty DataFrame\n",
      "Columns: [hc_id, Area, Department, Active_employees, Emp_with_license, Total_employees]\n",
      "Index: []\n"
     ]
    },
    {
     "data": {
      "text/plain": [
       "hc_id               object\n",
       "Area                object\n",
       "Department          object\n",
       "Active_employees     int64\n",
       "Emp_with_license     int64\n",
       "Total_employees      int64\n",
       "dtype: object"
      ]
     },
     "execution_count": 11,
     "metadata": {},
     "output_type": "execute_result"
    }
   ],
   "source": [
    "# Hotel's Composition\n",
    "hcomp_schema = {'hc_id':'str', 'Area':'str', 'Department':'str', 'Active_employees':'int64', 'Emp_with_license':'int64', 'Total_employees':'int64'}\n",
    "hcomp_df = pd.DataFrame(columns=hcomp_schema.keys()).astype(hcomp_schema)\n",
    "\n",
    "print(hcomp_df)\n",
    "hcomp_df.dtypes"
   ]
  },
  {
   "cell_type": "code",
   "execution_count": 12,
   "metadata": {},
   "outputs": [
    {
     "name": "stdout",
     "output_type": "stream",
     "text": [
      "Empty DataFrame\n",
      "Columns: [wkc_id, Area, Department, Position, years_at_position, years_working, Staff, emp_id, hotel_id]\n",
      "Index: []\n"
     ]
    },
    {
     "data": {
      "text/plain": [
       "wkc_id               object\n",
       "Area                 object\n",
       "Department           object\n",
       "Position             object\n",
       "years_at_position     int64\n",
       "years_working         int64\n",
       "Staff                 int64\n",
       "emp_id               object\n",
       "hotel_id             object\n",
       "dtype: object"
      ]
     },
     "execution_count": 12,
     "metadata": {},
     "output_type": "execute_result"
    }
   ],
   "source": [
    "# Workforce Composition\n",
    "wfc_schema = {'wkc_id':'str', 'Area':'str', 'Department':'str', 'Position':'str', 'years_at_position':'int64', 'years_working':'int64', 'Staff':'int64', 'emp_id':'str', 'hotel_id':'str'}\n",
    "wfc_df = pd.DataFrame(columns=wfc_schema.keys()).astype(wfc_schema)\n",
    "\n",
    "print(wfc_df)\n",
    "wfc_df.dtypes"
   ]
  },
  {
   "cell_type": "code",
   "execution_count": 14,
   "metadata": {},
   "outputs": [
    {
     "name": "stdout",
     "output_type": "stream",
     "text": [
      "Empty DataFrame\n",
      "Columns: [emp_wag_id, Hours_worked, Work_overtime, Salary, Gross_pay, Deductions_3%, Total_Payment, emp_id, hotel_id]\n",
      "Index: []\n"
     ]
    },
    {
     "data": {
      "text/plain": [
       "emp_wag_id        object\n",
       "Hours_worked     float64\n",
       "Work_overtime    float64\n",
       "Salary           float64\n",
       "Gross_pay        float64\n",
       "Deductions_3%    float64\n",
       "Total_Payment    float64\n",
       "emp_id            object\n",
       "hotel_id          object\n",
       "dtype: object"
      ]
     },
     "execution_count": 14,
     "metadata": {},
     "output_type": "execute_result"
    }
   ],
   "source": [
    "# Employee's Wage database\n",
    "emp_wages_schema = {'emp_wag_id':'str', 'Hours_worked':'float64', 'Work_overtime':'float64', 'Salary':'float64', 'Gross_pay':'float64', 'Deductions_3%':'float64', 'Total_Payment':'float64','emp_id':'str', 'hotel_id':'str'}\n",
    "emp_wages_df = pd.DataFrame(columns=emp_wages_schema.keys()).astype(emp_wages_schema)\n",
    "\n",
    "print(emp_wages_df)\n",
    "emp_wages_df.dtypes"
   ]
  }
 ],
 "metadata": {
  "kernelspec": {
   "display_name": "base",
   "language": "python",
   "name": "python3"
  },
  "language_info": {
   "codemirror_mode": {
    "name": "ipython",
    "version": 3
   },
   "file_extension": ".py",
   "mimetype": "text/x-python",
   "name": "python",
   "nbconvert_exporter": "python",
   "pygments_lexer": "ipython3",
   "version": "3.11.4"
  }
 },
 "nbformat": 4,
 "nbformat_minor": 2
}
