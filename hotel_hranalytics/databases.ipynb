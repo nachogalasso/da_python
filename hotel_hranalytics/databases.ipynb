{
 "cells": [
  {
   "cell_type": "markdown",
   "metadata": {},
   "source": [
    "# HOTEL HR PEOPLE ANALYTICS\n",
    "\n",
    "### Hotel Analysis from a People Analytics perspective.\n",
    "<p>This project will try to emulate HR analytics to continue practicing my analytical skills. Also, with this project, I want to <u>strengthen my knowledge</u> in <b><i>MySql</b></i> <b><i>and SQL</i></b>. I will use <b><i>Python</i></b> and <b><i>Power BI</i></b> for the data analysis.</p>\n",
    "<p>I will start with doing a little of data engineering to design the databases I am going to work with. I will use <b><i>Figma</i></b> to draft the databases and the relationships between each other. Then I will fill the databases with the data, and later I will start the data analysis.</p>"
   ]
  },
  {
   "cell_type": "markdown",
   "metadata": {},
   "source": [
    "### 1. Import libraries"
   ]
  },
  {
   "cell_type": "code",
   "execution_count": 1,
   "metadata": {},
   "outputs": [],
   "source": [
    "# Libraries to manipulate the data\n",
    "import pandas as pd\n",
    "import numpy as np\n",
    "from datetime import datetime\n",
    "import random\n",
    "import string\n",
    "\n",
    "# Library to deploy charts with the data\n",
    "import seaborn as sns\n",
    "import matplotlib.pyplot as plt\n",
    "\n",
    "# Statmodels for predictions\n",
    "import statsmodels.api as sm\n",
    "import statsmodels.formula.api as smf\n",
    "\n",
    "# This is to ignore warnings.\n",
    "import warnings\n",
    "warnings.filterwarnings('ignore')"
   ]
  },
  {
   "cell_type": "markdown",
   "metadata": {},
   "source": [
    "### 2. Creating the data bases\n",
    "\n",
    "<p>Let's create the databases acording to the <u>draft</u> I have created in <b><i>Figma</b></i>.</p>\n",
    "\n",
    "<p>The first database I will create is the Employee's database, because it is the one that will connect most of the other databases.</p>"
   ]
  },
  {
   "cell_type": "code",
   "execution_count": 2,
   "metadata": {},
   "outputs": [
    {
     "name": "stdout",
     "output_type": "stream",
     "text": [
      "Empty DataFrame\n",
      "Columns: [emp_id, Name, Surname, Birthday, Age, Gender, on_license, Entry_date, hotel_id]\n",
      "Index: []\n"
     ]
    },
    {
     "data": {
      "text/plain": [
       "emp_id        object\n",
       "Name          object\n",
       "Surname       object\n",
       "Birthday      object\n",
       "Age            int64\n",
       "Gender        object\n",
       "on_license      bool\n",
       "Entry_date    object\n",
       "hotel_id      object\n",
       "dtype: object"
      ]
     },
     "execution_count": 2,
     "metadata": {},
     "output_type": "execute_result"
    }
   ],
   "source": [
    "# Employee's database\n",
    "emp_schema = {'emp_id':'str', 'Name':'str', 'Surname':'str', 'Birthday':'object', 'Age':'int64', 'Gender':'str', 'on_license':'bool','Entry_date':'object','hotel_id':'str'}\n",
    "emp_df = pd.DataFrame(columns=emp_schema.keys()).astype(emp_schema)\n",
    "\n",
    "print(emp_df)\n",
    "emp_df.dtypes"
   ]
  },
  {
   "cell_type": "code",
   "execution_count": 6,
   "metadata": {},
   "outputs": [
    {
     "name": "stdout",
     "output_type": "stream",
     "text": [
      "505 505 505\n",
      "267 238\n"
     ]
    }
   ],
   "source": [
    "# Let's create an add the data to our database\n",
    "names = [\n",
    "    \"James\", \"John\", \"Robert\", \"Michael\", \"William\", \"David\", \"Richard\", \"Joseph\", \"Charles\", \"Thomas\", \n",
    "    \"Christopher\", \"Daniel\", \"Matthew\", \"Anthony\", \"Mark\", \"Donald\", \"Steven\", \"Paul\", \"Andrew\", \"Joshua\", \n",
    "    \"Kenneth\", \"Kevin\", \"Brian\", \"George\", \"Edward\", \"Ronald\", \"Timothy\", \"Jason\", \"Jeffrey\", \"Ryan\", \n",
    "    \"Jacob\", \"Gary\", \"Nicholas\", \"Eric\", \"Stephen\", \"Jonathan\", \"Larry\", \"Justin\",\"Scott\", \"Brandon\",  \n",
    "    \"Benjamin\", \"Samuel\", \"Gregory\", \"Frank\", \"Alexander\", \"Raymond\", \"Patrick\", \"Jack\", \"Dennis\", \"Jerry\",\n",
    "    \"Tyler\", \"Aaron\", \"Jose\", \"Henry\", \"Adam\", \"Douglas\", \"Nathan\", \"Peter\", \"Zachary\", \"Kyle\", \n",
    "    \"Walter\", \"Harold\", \"Jeremy\", \"Ethan\", \"Carl\", \"Keith\", \"Roger\", \"Gerald\", \"Christian\", \"Terry\", \n",
    "    \"Sean\", \"Arthur\", \"Austin\", \"Noah\", \"Jesse\", \"Joe\", \"Albert\", \"Bryan\", \"Billy\", \"Bruce\", \n",
    "    \"Willie\", \"Jordan\", \"Dylan\", \"Alan\", \"Ralph\", \"Gabriel\", \"Roy\", \"Juan\", \"Wayne\", \"Eugene\", \n",
    "    \"Logan\", \"Randy\", \"Louis\", \"Russell\", \"Vincent\", \n",
    "    \"Mary\", \"Patricia\", \"Jennifer\", \"Linda\", \"Elizabeth\", \"Barbara\", \"Susan\", \"Jessica\", \"Sarah\", \"Karen\", \n",
    "    \"Nancy\", \"Margaret\", \"Lisa\", \"Betty\", \"Dorothy\", \"Sandra\", \"Ashley\", \"Kimberly\", \"Donna\", \"Emily\", \n",
    "    \"Michelle\", \"Carol\", \"Amanda\", \"Melissa\", \"Deborah\", \"Stephanie\", \"Rebecca\", \"Sharon\", \"Laura\", \"Cynthia\", \n",
    "    \"Kathleen\", \"Amy\", \"Shirley\", \"Angela\", \"Helen\", \"Anna\", \"Brenda\", \"Pamela\", \"Nicole\", \"Emma\", \n",
    "    \"Samantha\", \"Katherine\", \"Christine\", \"Debra\", \"Rachel\", \"Catherine\", \"Carolyn\", \"Janet\", \"Ruth\", \"Maria\", \n",
    "    \"Heather\", \"Diane\", \"Virginia\", \"Julie\", \"Joyce\", \"Victoria\", \"Olivia\", \"Kelly\", \"Christina\", \"Lauren\", \n",
    "    \"Joan\", \"Evelyn\", \"Judith\", \"Megan\", \"Cheryl\", \"Andrea\", \"Hannah\", \"Martha\", \"Jacqueline\", \"Frances\", \n",
    "    \"Gloria\", \"Mark\", \"Donald\", \"Steven\", \"Paul\", \"Andrew\", \"Joshua\", \"Frank\", \"Alexander\", \"Raymond\", \"Patrick\", \"Jack\", \"Dennis\",  \"Jerry\", \n",
    "    \"Tyler\", \"Aaron\", \"Jose\", \"Henry\", \"Adam\", \"Douglas\", \"Nathan\", \n",
    "    \"Kenneth\", \"Kevin\", \"Brian\", \"George\", \"Edward\", \"Ronald\", \"Timothy\", \"Jason\", \"Jeffrey\", \"Ryan\", \n",
    "    \"Jacob\", \"Gary\", \"Nicholas\", \"Eric\", \"Stephen\", \"Jonathan\", \"Larry\", \"Justin\", \"Scott\", \"Brandon\", \n",
    "    \"Benjamin\", \"Samuel\", \"Gregory\", \"Willie\", \"Jordan\", \"Dylan\", \"Alan\", \"Ralph\", \"Gabriel\", \"Roy\", \"Juan\", \"Wayne\", \"Eugene\", \n",
    "    \"Logan\", \"Randy\", \"Ethan\", \"Carl\", \"Keith\", \"Roger\", \"Gerald\", \"Christian\", \"Terry\", \n",
    "    \"Sean\", \"Arthur\", \"Austin\", \"Noah\", \"Jesse\",\n",
    "    \"James\", \"John\", \"Robert\", \"Michael\", \"William\", \"David\", \"Richard\", \"Joseph\", \"Charles\", \"Thomas\", \n",
    "    \"Christopher\", \"Daniel\", \"Matthew\", \"Anthony\",\"Peter\", \"Zachary\", \"Kyle\", \n",
    "    \"Walter\", \"Harold\", \"Jeremy\",  \"Joe\", \"Albert\", \"Bryan\", \"Billy\", \"Bruce\", \"Elizabeth\", \"Barbara\", \"Susan\", \"Jessica\", \"Sarah\", \"Karen\", \n",
    "    \"Nancy\", \"Margaret\", \"Judith\", \"Megan\", \"Cheryl\", \"Andrea\", \"Hannah\", \"Martha\", \"Jacqueline\", \"Frances\", \n",
    "    \"Gloria\", \"Ann\", \"Teresa\", \"Clarisa\", \"Dolores\", \"Ingrid\", \"Fernanda\", \"Costanza\", \"Louisa\", \"Virginia\", \n",
    "    \"Julia\", \"Jennifer\", \"Lisa\", \"Betty\", \"Dorothy\", \"Sandra\", \"Ashley\", \"Kimberly\", \"Donna\", \"Emily\", \n",
    "    \"Michelle\", \"Carol\", \"Amanda\", \"Melissa\", \"Deborah\", \"Stephanie\", \"Rebecca\", \"Sharon\", \"Laura\", \"Cynthia\", \n",
    "    \"Kathleen\", \"Amy\", \"Virginia\", \"Julie\", \"Joyce\", \"Victoria\", \"Olivia\", \"Kelly\", \"Christina\", \"Lauren\", \n",
    "    \"Joan\", \"Evelyn\", \"Shirley\", \"Angela\", \"Helen\", \"Anna\", \"Brenda\", \"Pamela\", \"Nicole\", \"Emma\", \n",
    "    \"Samantha\", \"Katherine\", \"Christine\", \"Debra\", \"Rachel\", \"Catherine\", \"Carolyn\", \"Janet\", \"Ruth\", \"Maria\", \n",
    "    \"Heather\", \"Diane\", \"Mary\", \"Patricia\", \"Jennifer\", \"Linda\", \"Walter\", \"Harold\", \"Jeremy\", \"Ethan\", \"Carl\", \"Keith\", \"Roger\", \"Gerald\", \"Christian\", \"Terry\", \n",
    "    \"Sean\", \"Arthur\", \"Austin\", \"Noah\", \"Jesse\", \"Joe\", \"Albert\", \"Bryan\", \"Billy\", \"Bruce\",\"James\", \"John\", \"Robert\", \"Michael\", \"William\", \"David\", \"Richard\", \"Joseph\", \"Charles\", \"Thomas\", \"Jonathan\", \"Larry\", \"Justin\", \"Scott\", \"Brandon\", \n",
    "    \"Benjamin\", \"Samuel\", \"Gregory\", \"Frank\", \"Alexander\", \"Henry\", \"Adam\", \"Douglas\", \"Nathan\", \"Peter\", \"Zachary\", \"Kyle\", \n",
    "    \"Christopher\", \"Daniel\", \"Matthew\", \"Anthony\", \"Mark\", \"Donald\", \"Steven\", \"Paul\", \"Andrew\", \"Joshua\", \n",
    "    \"Kenneth\", \"Timothy\", \"Jason\", \"Jeffrey\", \"Ryan\", \n",
    "    \"Jacob\", \"Gary\", \"Nicholas\", \"Eric\", \"Stephen\",  \"Raymond\", \"Patrick\", \"Jack\", \"Dennis\",  \"Jerry\", \n",
    "    \"Tyler\", \"Aaron\", \"Jose\",  \"Kevin\", \"Brian\", \"George\", \"Edward\", \"Ronald\", \"Ann\", \"Teresa\", \"Clarisa\", \"Dolores\", \"Ingrid\", \"Mary\", \"Patricia\", \"Jennifer\", \"Linda\", \"Elizabeth\", \"Barbara\", \"Susan\", \"Jessica\", \"Sarah\", \"Karen\",  \"Shirley\", \"Angela\", \"Helen\", \"Anna\", \"Brenda\", \"Pamela\", \"Nicole\", \"Emma\", \n",
    "    \"Samantha\", \"Katherine\", \"Christine\", \"Olivia\", \"Kelly\", \"Christina\", \"Lauren\", \n",
    "    \"Joan\", \"Evelyn\", \"Judith\", \"Megan\", \"Cheryl\", \"Andrea\", \"Hannah\", \"Diane\", \"Virginia\", \"Julie\", \"Joyce\", \"Victoria\",  \"Martha\",\n",
    "    \"Nancy\", \"Margaret\", \"Lisa\", \"Betty\", \"Dorothy\", \"Sandra\", \"Ashley\", \"Kimberly\", \"Donna\", \"Emily\", \n",
    "    \"Michelle\", \"Carol\", \"Amanda\", \"Melissa\", \"Deborah\", \"Stephanie\", \"Rebecca\", \"Sharon\", \"Laura\", \"Cynthia\", \n",
    "    \"Kathleen\", \"Amy\", \"Debra\", \"Rachel\", \"Catherine\", \"Carolyn\", \"Janet\", \"Ruth\", \"Maria\", \n",
    "    \"Heather\",  \"Jacqueline\", \"Frances\",  \"Julia\", \"Jennifer\", \"Luciana\", \"Victoria\", \"Carmen\",\n",
    "    \"Gloria\",  \"Fernanda\", \"Costanza\", \"Louisa\", \"Virginia\"\n",
    "]\n",
    "\n",
    "surnames = [\n",
    "    \"Smith\", \"Johnson\", \"Williams\", \"Brown\", \"Jones\", \"Garcia\", \"Miller\", \"Davis\", \"Rodriguez\", \"Martinez\", \"Hernandez\", \"Lopez\", \"Torres\", \"Nguyen\", \"Hill\", \"Flores\", \"Green\", \"Adams\", \"Nelson\", \"Baker\", \"Hall\", \"Rivera\", \"Campbell\", \"Mitchell\", \"Carter\", \"Roberts\", \"Gomez\", \"Phillips\", \"Evans\", \"Turner\", \"Kim\", \"Cox\", \"Ward\", \"Richardson\", \"Watson\", \"Brooks\", \"Chavez\", \"Wood\", \"James\", \"Bennett\", \"Gray\", \"Mendoza\", \"Ruiz\", \"Hughes\", \"Price\", \"Alvarez\", \"Castillo\", \"Sanders\", \"Patel\", \"Myers\", \"Long\", \"Ross\", \"Foster\", \"Jimenez\", \"Powell\", \"Jenkins\", \"Perry\", \"Russell\", \"Sullivan\", \"Bell\", \"Coleman\", \"Butler\", \"Henderson\", \"Barnes\", \"Gonzales\", \"Diaz\", \"Parker\", \"Cruz\", \"Edwards\", \"Collins\", \"Reyes\", \"Stewart\",  \"Gonzalez\", \"Wilson\", \"Anderson\", \"Thomas\", \"Taylor\", \"Moore\", \"Jackson\", \"Martin\", \n",
    "    \"Lee\", \"Perez\", \"Thompson\", \"White\", \"Harris\", \"Sanchez\", \"Clark\", \"Ramirez\", \"Lewis\", \"Robinson\", \"Walker\", \"Young\", \"Allen\", \"King\", \"Wright\", \"Scott\",  \"Gonzalez\", \"Wilson\", \"Anderson\", \"Thomas\", \"Taylor\", \"Moore\", \"Jackson\", \"Martin\",  \"Long\", \"Ross\", \"Foster\", \"Jimenez\", \"Powell\", \"Jenkins\", \"Perry\", \"Russell\", \"Sullivan\", \"Bell\", \"Coleman\", \"Butler\", \"Henderson\", \"Lee\", \"Perez\", \"Thompson\", \"White\", \"Harris\", \"Sanchez\", \"Butler\", \"Henderson\", \"Barnes\", \"Gonzales\", \"Fisher\", \"Vasquez\", \"Simmons\", \"Romero\", \"Jordan\", \"Patterson\", \"Alexander\",  \"Murray\", \"Ford\", \"Castro\", \"Marshall\", \"Owens\", \"Harrison\", \"Fernandez\", \"McDonald\", \"Woods\", \"Patterson\", \"Alexander\", \"Hamilton\", \"Graham\", \"Reynolds\", \"Griffin\", \"Wallace\", \"Moreno\", \"West\", \"Cole\", \"Hayes\", \"Bryant\", \"Washington\", \"Kennedy\", \"Wells\", \"Morris\", \"Morales\", \"Murphy\", \"Cook\", \"Rogers\", \"Gutierrez\", \"Ortiz\", \"Morgan\", \"Cooper\", \"Peterson\", \"Bailey\", \"Reed\", \"Kelly\", \"Howard\", \"Ramos\", \"Kim\", \"Cox\", \"Ward\", \"Richardson\", \"Watson\", \"Brooks\", \"Chavez\", \"Wood\", \"James\", \"Bennett\", \"Gray\", \"Mendoza\", \"Ruiz\", \"Hughes\", \"Price\", \"Alvarez\", \"Castillo\", \"Sanders\", \"Patel\", \"Myers\", \"Long\", \"Ross\", \"Foster\", \"Jimenez\", \"Powell\", \"Jenkins\", \"Perry\", \"Russell\", \"Sullivan\", \"Bell\", \"Coleman\",  \"Hamilton\", \"Graham\", \"Reynolds\", \"Griffin\", \"Wallace\", \"Moreno\", \"West\", \"Cole\", \"Hayes\", \"Bryant\", \"Herrera\", \"Gibson\", \"Ellis\", \"Tran\", \"Medina\", \"Aguilar\", \"Stevens\", \"Murray\", \"Ford\", \"Castro\", \"Marshall\", \"Owens\", \"Harrison\", \"Fernandez\", \"McDonald\", \"Woods\", \"Washington\", \"Kennedy\", \"Wells\", \"Vargas\", \"Henry\", \"Chen\", \"Freeman\", \"Webb\", \"Tucker\", \"Guzman\", \"Burns\", \"Crawford\", \"Olson\", \"Simpson\", \"Porter\", \"Hunter\", \"Gordon\", \"Mendez\", \"Silva\", \"Shaw\", \"Snyder\", \"Mason\", \"Smith\", \"Johnson\", \"Williams\", \"Brown\", \"Jones\", \"Garcia\", \"Miller\", \"Davis\", \"Rodriguez\", \"Martinez\", \"Hernandez\", \"Lopez\", \"Clark\", \"Ramirez\", \"Lewis\", \"Robinson\", \"Walker\", \"Young\", \"Allen\", \"King\", \"Wright\", \"Scott\", \"Torres\", \"Nguyen\", \"Hill\", \"Flores\", \"Green\", \"Adams\", \"Nelson\", \"Baker\", \"Hall\", \"Rivera\", \"Campbell\", \"Mitchell\", \"Carter\", \"Roberts\", \"Gomez\", \"Phillips\", \"Evans\", \"Turner\", \"Diaz\", \"Parker\", \"Cruz\", \"Edwards\", \"Collins\", \"Reyes\", \"Stewart\", \"Morris\", \"Morales\", \"Murphy\", \"Cook\", \"Rogers\", \"Gutierrez\", \"Ortiz\", \"Morgan\", \"Cooper\", \"Peterson\", \"Bailey\", \"Reed\", \"Kelly\", \"Howard\", \"Ramos\",  \"Fisher\", \"Vasquez\", \"Simmons\", \"Romero\", \"Jordan\", \"Patterson\", \"Alexander\", \"Hamilton\", \"Graham\", \"Reynolds\", \"Griffin\", \"Wallace\", \"Moreno\", \"West\", \"Cole\", \"Hayes\", \"Bryant\", \"Herrera\", \"Gibson\", \"Ellis\", \"Tran\", \"Medina\", \"Aguilar\", \"Stevens\", \"Vargas\", \"Henry\", \"Chen\", \"Freeman\", \"Webb\", \"Tucker\", \"Guzman\", \n",
    "    \"Burns\", \"Crawford\", \"Olson\", \"Simpson\", \"Porter\", \"Hunter\", \"Gordon\", \"Mendez\", \"Silva\", \"Shaw\", \"Snyder\", \"Mason\", \"Smith\", \"Johnson\", \"Williams\", \"Brown\", \"Jones\", \"Garcia\", \"Miller\", \"Davis\", \"Rodriguez\", \"Martinez\", \"Hernandez\", \"Lopez\", \"Gonzalez\", \"Wilson\", \"Anderson\", \"Thomas\", \"Taylor\", \"Moore\", \"Jackson\", \"Martin\", \"Lee\", \"Perez\", \"Thompson\", \"White\", \"Harris\", \"Sanchez\", \"Clark\", \"Ramirez\", \"Lewis\", \"Robinson\", \"Walker\", \"Young\", \"Allen\", \"King\", \"Wright\", \"Scott\", \"Torres\", \"Nguyen\", \"Hill\", \"Flores\", \"Green\", \n",
    "    \"Adams\", \"Nelson\", \"Baker\", \"Hall\", \"Rivera\", \"Campbell\", \"Mitchell\", \"Carter\", \"Roberts\", \"Gomez\", \"Phillips\", \"Evans\", \"Turner\", \"Diaz\", \"Parker\", \"Cruz\", \"Edwards\", \"Collins\", \"Reyes\", \"Stewart\", \"Morris\", \"Morales\", \"Murphy\", \"Cook\", \"Rogers\", \"Gutierrez\", \"Ortiz\", \"Morgan\", \"Cooper\", \"Peterson\", \"Bailey\", \"Reed\", \"Kelly\", \"Howard\", \"Ramos\", \"Kim\", \"Cox\", \"Ward\", \"Richardson\", \"Watson\", \"Brooks\", \n",
    "    \"Chavez\", \"Wood\", \"James\", \"Bennett\", \"Gray\", \"Mendoza\", \"Ruiz\", \"Hughes\", \"Price\", \"Alvarez\", \"Castillo\", \"Sanders\", \"Patel\", \"Myers\", \"Barnes\", \"Gonzales\", \"Fisher\", \"Vasquez\", \"Simmons\", \"Romero\", \"Jordan\", \"Herrera\", \"Gibson\", \"Ellis\", \"Tran\", \"Medina\", \"Aguilar\", \n",
    "    \"Stevens\", \"Murray\", \"Ford\", \"Castro\", \"Marshall\", \"Owens\", \"Harrison\", \"Fernandez\", \"McDonald\", \"Woods\", \"Washington\", \"Kennedy\", \"Wells\", \"Vargas\", \"Henry\", \"Chen\", \"Freeman\", \"Webb\", \"Tucker\", \"Guzman\", \"Burns\", \"Crawford\", \"Olson\", \"Simpson\", \"Porter\", \"Hunter\", \"Gordon\", \"Mendez\", \"Silva\", \"Shaw\", \"Snyder\", \"Mason\", \"Vazquez\", \"Ruiz\", \"Cortese\", \"Murphy\", \"Corinto\", \"Golden\", \"Welles\"\n",
    "]\n",
    "\n",
    "gender = ['M','M', 'M', 'M', 'M', 'M', 'M', 'M', 'M', 'M', 'M', 'M', 'M', 'M', 'M', 'M', 'M', 'M', 'M', 'M', 'M', 'M', 'M', 'M', 'M', 'M', 'M', 'M', 'M', 'M', 'M', 'M', 'M', 'M', 'M', 'M', 'M', 'M', 'M', 'M','M', 'M', 'M', 'M', 'M', 'M', 'M', 'M', 'M', 'M', 'M', 'M', 'M', 'M', 'M', 'M', 'M', 'M', 'M', 'M', 'M', 'M', 'M', 'M', 'M', 'M', 'M', 'M', 'M', 'M', 'M', 'M', 'M', 'M', 'M', 'M', 'M', 'M', 'M', 'M', 'M', 'M', 'M', 'M', 'M', 'M', 'M', 'M', 'M', 'M', 'M', 'M', 'M', 'M', 'M', 'F', 'F', 'F', 'F', 'F', 'F', 'F', 'F', 'F', 'F', 'F', 'F', 'F', 'F', 'F','F', 'F', 'F', 'F', 'F', 'F', 'F', 'F', 'F', 'F', 'F', 'F', 'F', 'F', 'F', 'F', 'F', 'F', 'F', 'F', 'F', 'F', 'F', 'F', 'F', 'F', 'F', 'F','F', 'F', 'F', 'F', 'F', 'F', 'F', 'F', 'F', 'F', 'F', 'F', 'F', 'F', 'F', 'F', 'F', 'F', 'F', 'F', 'F', 'F', 'F', 'F', 'F', 'F', 'F', 'F', 'M','M', 'M', 'M', 'M', 'M', 'M', 'M', 'M', 'M', 'M', 'M', 'M', 'M', 'M', 'M', 'M', 'M', 'M', 'M', 'M', 'M', 'M', 'M', 'M', 'M', 'M', 'M', 'M', 'M', 'M', 'M', 'M', 'M', 'M', 'M', 'M', 'M', 'M', 'M', 'M', 'M', 'M', 'M', 'M', 'M', 'M', 'M', 'M', 'M', 'M', 'M', 'M', 'M', 'M', 'M', 'M', 'M', 'M', 'M', 'M', 'M', 'M', 'M', 'M', 'M', 'M', 'M', 'M', 'M', 'M', 'M', 'M', 'M', 'M', 'M', 'M', 'M', 'M', 'M', 'M', 'M', 'M', 'M', 'M', 'M', 'M', 'M', 'M', 'M', 'M', 'M', 'F', 'F', 'F', 'F', 'F', 'F', 'F', 'F', 'F', 'F', 'F', 'F', 'F', 'F', 'F','F', 'F', 'F', 'F', 'F', 'F', 'F', 'F', 'F', 'F', 'F', 'F', 'F', 'F', 'F', 'F', 'F', 'F', 'F', 'F', 'F', 'F', 'F', 'F', 'F', 'F', 'F', 'F','F', 'F', 'F', 'F', 'F', 'F', 'F', 'F', 'F', 'F', 'F', 'F', 'F', 'F', 'F', 'F', 'F', 'F', 'F', 'F', 'F', 'F', 'F', 'F', 'F', 'F', 'F', 'F', 'F', 'F', 'F', 'F', 'F', 'F', 'F', 'F', 'F', 'F', 'F', 'M','M', 'M', 'M', 'M', 'M', 'M', 'M', 'M', 'M', 'M', 'M', 'M', 'M', 'M', 'M', 'M', 'M', 'M', 'M', 'M', 'M', 'M', 'M', 'M', 'M', 'M', 'M', 'M', 'M', 'M', 'M', 'M', 'M', 'M', 'M', 'M', 'M', 'M', 'M', 'M', 'M', 'M', 'M', 'M', 'M', 'M', 'M', 'M', 'M', 'M', 'M', 'M', 'M', 'M', 'M', 'M', 'M', 'M', 'M', 'M', 'M', 'M', 'M', 'M', 'M', 'M', 'M', 'M', 'M', 'M', 'M', 'M', 'M', 'M', 'M', 'M', 'M', 'M', 'M', 'F', 'F', 'F', 'F', 'F', 'F', 'F', 'F', 'F', 'F', 'F', 'F', 'F', 'F', 'F','F', 'F', 'F', 'F', 'F', 'F', 'F', 'F', 'F', 'F', 'F', 'F', 'F', 'F', 'F', 'F', 'F', 'F', 'F', 'F', 'F', 'F', 'F', 'F', 'F', 'F', 'F', 'F','F', 'F', 'F', 'F', 'F', 'F', 'F', 'F', 'F', 'F', 'F', 'F', 'F', 'F', 'F', 'F', 'F', 'F', 'F', 'F', 'F', 'F', 'F', 'F', 'F', 'F', 'F', 'F', 'F', 'F', 'F', 'F', 'F', 'F', 'F', 'F', 'F', 'F', 'F','F', 'F', 'F' ]\n",
    "\n",
    "emp_age = np.random.randint(20, 68, size=505)\n",
    "\n",
    "print(len(names), len(surnames), len(gender))\n",
    "print(gender.count('M'), gender.count('F'))\n",
    "\n"
   ]
  },
  {
   "cell_type": "code",
   "execution_count": 10,
   "metadata": {},
   "outputs": [
    {
     "name": "stdout",
     "output_type": "stream",
     "text": [
      "Empty DataFrame\n",
      "Columns: [emp_id, Name, Surname, Birthday, Age, Gender, on_license, Entry_date, hotel_id]\n",
      "Index: []\n"
     ]
    },
    {
     "data": {
      "text/plain": [
       "hotel_id            object\n",
       "Name                object\n",
       "Location            object\n",
       "Opening             object\n",
       "mgr_id              object\n",
       "Stars                int64\n",
       "Budget             float64\n",
       "Total_employees      int64\n",
       "dtype: object"
      ]
     },
     "execution_count": 10,
     "metadata": {},
     "output_type": "execute_result"
    }
   ],
   "source": [
    "# Hotel's database\n",
    "hotel_schema = {'hotel_id':'str', 'Name':'str', 'Location':'str', 'Opening':'object', 'mgr_id':'str', 'Stars':'int64', 'Budget':'float64'}\n",
    "hotel_df = pd.DataFrame(columns=hotel_schema.keys()).astype(hotel_schema)\n",
    "\n",
    "print(hotel_df)\n",
    "hotel_df.dtypes"
   ]
  },
  {
   "cell_type": "code",
   "execution_count": 11,
   "metadata": {},
   "outputs": [
    {
     "name": "stdout",
     "output_type": "stream",
     "text": [
      "Empty DataFrame\n",
      "Columns: [hc_id, Area, Department, Active_employees, Emp_with_license, Total_employees]\n",
      "Index: []\n"
     ]
    },
    {
     "data": {
      "text/plain": [
       "hc_id               object\n",
       "Area                object\n",
       "Department          object\n",
       "Active_employees     int64\n",
       "Emp_with_license     int64\n",
       "Total_employees      int64\n",
       "dtype: object"
      ]
     },
     "execution_count": 11,
     "metadata": {},
     "output_type": "execute_result"
    }
   ],
   "source": [
    "# Hotel's Composition\n",
    "hcomp_schema = {'hc_id':'str', 'Area':'str', 'Department':'str', 'Active_employees':'int64', 'Emp_with_license':'int64', 'Total_employees':'int64'}\n",
    "hcomp_df = pd.DataFrame(columns=hcomp_schema.keys()).astype(hcomp_schema)\n",
    "\n",
    "print(hcomp_df)\n",
    "hcomp_df.dtypes"
   ]
  },
  {
   "cell_type": "code",
   "execution_count": 12,
   "metadata": {},
   "outputs": [
    {
     "name": "stdout",
     "output_type": "stream",
     "text": [
      "Empty DataFrame\n",
      "Columns: [wkc_id, Area, Department, Position, years_at_position, years_working, Staff, emp_id, hotel_id]\n",
      "Index: []\n"
     ]
    },
    {
     "data": {
      "text/plain": [
       "wkc_id               object\n",
       "Area                 object\n",
       "Department           object\n",
       "Position             object\n",
       "years_at_position     int64\n",
       "years_working         int64\n",
       "Staff                 int64\n",
       "emp_id               object\n",
       "hotel_id             object\n",
       "dtype: object"
      ]
     },
     "execution_count": 12,
     "metadata": {},
     "output_type": "execute_result"
    }
   ],
   "source": [
    "# Workforce Composition\n",
    "wfc_schema = {'wkc_id':'str', 'Area':'str', 'Department':'str', 'Position':'str', 'years_at_position':'int64', 'years_working':'int64', 'Staff':'int64', 'emp_id':'str', 'hotel_id':'str'}\n",
    "wfc_df = pd.DataFrame(columns=wfc_schema.keys()).astype(wfc_schema)\n",
    "\n",
    "print(wfc_df)\n",
    "wfc_df.dtypes"
   ]
  },
  {
   "cell_type": "code",
   "execution_count": 14,
   "metadata": {},
   "outputs": [
    {
     "name": "stdout",
     "output_type": "stream",
     "text": [
      "Empty DataFrame\n",
      "Columns: [emp_wag_id, Hours_worked, Work_overtime, Salary, Gross_pay, Deductions_3%, Total_Payment, emp_id, hotel_id]\n",
      "Index: []\n"
     ]
    },
    {
     "data": {
      "text/plain": [
       "emp_wag_id        object\n",
       "Hours_worked     float64\n",
       "Work_overtime    float64\n",
       "Salary           float64\n",
       "Gross_pay        float64\n",
       "Deductions_3%    float64\n",
       "Total_Payment    float64\n",
       "emp_id            object\n",
       "hotel_id          object\n",
       "dtype: object"
      ]
     },
     "execution_count": 14,
     "metadata": {},
     "output_type": "execute_result"
    }
   ],
   "source": [
    "# Employee's Wage database\n",
    "emp_wages_schema = {'emp_wag_id':'str', 'Hours_worked':'float64', 'Work_overtime':'float64', 'Salary':'float64', 'Gross_pay':'float64', 'Deductions_3%':'float64', 'Total_Payment':'float64','emp_id':'str', 'hotel_id':'str'}\n",
    "emp_wages_df = pd.DataFrame(columns=emp_wages_schema.keys()).astype(emp_wages_schema)\n",
    "\n",
    "print(emp_wages_df)\n",
    "emp_wages_df.dtypes"
   ]
  }
 ],
 "metadata": {
  "kernelspec": {
   "display_name": "base",
   "language": "python",
   "name": "python3"
  },
  "language_info": {
   "codemirror_mode": {
    "name": "ipython",
    "version": 3
   },
   "file_extension": ".py",
   "mimetype": "text/x-python",
   "name": "python",
   "nbconvert_exporter": "python",
   "pygments_lexer": "ipython3",
   "version": "3.11.4"
  }
 },
 "nbformat": 4,
 "nbformat_minor": 2
}
