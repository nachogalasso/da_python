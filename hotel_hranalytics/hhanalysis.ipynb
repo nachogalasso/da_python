{
 "cells": [
  {
   "cell_type": "markdown",
   "metadata": {},
   "source": [
    "# HOTEL HR PEOPLE ANALYTICS\n",
    "\n",
    "### Hotel Analysis from a People Analytics perspective.\n",
    "<p>This project will try to emulate HR analytics to continue practicing my analytical skills. Also, with this project, I want to <u>strengthen my knowledge</u> in <b><i>MySql</b></i> <b><i>and SQL</i></b>. I will use <b><i>Python</i></b> and <b><i>Power BI</i></b> for the data analysis.</p>\n",
    "<p>I will start with doing a little of data engineering to design the databases I am going to work with. I will use <b><i>Figma</i></b> to draft the databases and the relationships between each other. Then I will fill the databases with the data, and later I will start the data analysis.</p>"
   ]
  },
  {
   "cell_type": "markdown",
   "metadata": {},
   "source": [
    "### 1. Import libraries"
   ]
  },
  {
   "cell_type": "code",
   "execution_count": 22,
   "metadata": {},
   "outputs": [],
   "source": [
    "# Libraries to manipulate the data\n",
    "import pandas as pd\n",
    "import numpy as np\n",
    "from datetime import datetime, timedelta\n",
    "import random\n",
    "import string\n",
    "from app_pass import dbpass\n",
    "\n",
    "# Library to deploy charts with the data\n",
    "import seaborn as sns\n",
    "import matplotlib.pyplot as plt\n",
    "\n",
    "# Statmodels for predictions\n",
    "import statsmodels.api as sm\n",
    "import statsmodels.formula.api as smf\n",
    "\n",
    "# Connect to our MySQL database\n",
    "import mysql.connector\n",
    "from sqlalchemy import create_engine\n",
    "\n",
    "\n",
    "# This is to ignore warnings.\n",
    "import warnings\n",
    "warnings.filterwarnings('ignore')"
   ]
  },
  {
   "cell_type": "markdown",
   "metadata": {},
   "source": [
    "### 2. Working with our databases\n",
    "\n",
    "<p>Previously, I created the databases I was going to work with. Because part of the data was difficult to create randomly, I downloaded the databases into an <i>.xlsx</i> file and worked with it.</p>\n",
    "\n",
    "<p>I called the file <b><i>hotel_hranalytics.xlsx</i></b>, so now it's time to start working with it.</p>"
   ]
  },
  {
   "cell_type": "code",
   "execution_count": 23,
   "metadata": {},
   "outputs": [
    {
     "data": {
      "text/html": [
       "<div>\n",
       "<style scoped>\n",
       "    .dataframe tbody tr th:only-of-type {\n",
       "        vertical-align: middle;\n",
       "    }\n",
       "\n",
       "    .dataframe tbody tr th {\n",
       "        vertical-align: top;\n",
       "    }\n",
       "\n",
       "    .dataframe thead th {\n",
       "        text-align: right;\n",
       "    }\n",
       "</style>\n",
       "<table border=\"1\" class=\"dataframe\">\n",
       "  <thead>\n",
       "    <tr style=\"text-align: right;\">\n",
       "      <th></th>\n",
       "      <th>emp_id</th>\n",
       "      <th>Name</th>\n",
       "      <th>Surname</th>\n",
       "      <th>Birthday</th>\n",
       "      <th>Age</th>\n",
       "      <th>Gender</th>\n",
       "      <th>on_license</th>\n",
       "      <th>hotel_id</th>\n",
       "    </tr>\n",
       "  </thead>\n",
       "  <tbody>\n",
       "    <tr>\n",
       "      <th>0</th>\n",
       "      <td>3272</td>\n",
       "      <td>James</td>\n",
       "      <td>Smith</td>\n",
       "      <td>1957-08-09</td>\n",
       "      <td>67</td>\n",
       "      <td>M</td>\n",
       "      <td>0</td>\n",
       "      <td>FUESSP</td>\n",
       "    </tr>\n",
       "    <tr>\n",
       "      <th>1</th>\n",
       "      <td>3074</td>\n",
       "      <td>John</td>\n",
       "      <td>Johnson</td>\n",
       "      <td>1981-11-19</td>\n",
       "      <td>42</td>\n",
       "      <td>M</td>\n",
       "      <td>0</td>\n",
       "      <td>FUESSP</td>\n",
       "    </tr>\n",
       "    <tr>\n",
       "      <th>2</th>\n",
       "      <td>6627</td>\n",
       "      <td>Robert</td>\n",
       "      <td>Williams</td>\n",
       "      <td>1983-10-15</td>\n",
       "      <td>41</td>\n",
       "      <td>M</td>\n",
       "      <td>0</td>\n",
       "      <td>FUESSP</td>\n",
       "    </tr>\n",
       "    <tr>\n",
       "      <th>3</th>\n",
       "      <td>420</td>\n",
       "      <td>Michael</td>\n",
       "      <td>Brown</td>\n",
       "      <td>1976-04-05</td>\n",
       "      <td>48</td>\n",
       "      <td>M</td>\n",
       "      <td>0</td>\n",
       "      <td>FUESSP</td>\n",
       "    </tr>\n",
       "    <tr>\n",
       "      <th>4</th>\n",
       "      <td>4856</td>\n",
       "      <td>William</td>\n",
       "      <td>Jones</td>\n",
       "      <td>1968-11-20</td>\n",
       "      <td>55</td>\n",
       "      <td>M</td>\n",
       "      <td>0</td>\n",
       "      <td>FUESSP</td>\n",
       "    </tr>\n",
       "  </tbody>\n",
       "</table>\n",
       "</div>"
      ],
      "text/plain": [
       "  emp_id     Name   Surname   Birthday  Age Gender  on_license hotel_id\n",
       "0   3272    James     Smith 1957-08-09   67      M           0   FUESSP\n",
       "1   3074     John   Johnson 1981-11-19   42      M           0   FUESSP\n",
       "2   6627   Robert  Williams 1983-10-15   41      M           0   FUESSP\n",
       "3    420  Michael     Brown 1976-04-05   48      M           0   FUESSP\n",
       "4   4856  William     Jones 1968-11-20   55      M           0   FUESSP"
      ]
     },
     "execution_count": 23,
     "metadata": {},
     "output_type": "execute_result"
    }
   ],
   "source": [
    "# Let's load our databases\n",
    "df_rawemp = pd.read_excel('../hotel_hranalytics/hotel_hranalytics.xlsx', sheet_name='Employees', converters={'emp_id':str})\n",
    "\n",
    "df_rawemp.head()"
   ]
  },
  {
   "cell_type": "code",
   "execution_count": 24,
   "metadata": {},
   "outputs": [
    {
     "data": {
      "text/html": [
       "<div>\n",
       "<style scoped>\n",
       "    .dataframe tbody tr th:only-of-type {\n",
       "        vertical-align: middle;\n",
       "    }\n",
       "\n",
       "    .dataframe tbody tr th {\n",
       "        vertical-align: top;\n",
       "    }\n",
       "\n",
       "    .dataframe thead th {\n",
       "        text-align: right;\n",
       "    }\n",
       "</style>\n",
       "<table border=\"1\" class=\"dataframe\">\n",
       "  <thead>\n",
       "    <tr style=\"text-align: right;\">\n",
       "      <th></th>\n",
       "      <th>hotel_id</th>\n",
       "      <th>Name</th>\n",
       "      <th>Location</th>\n",
       "      <th>Opening</th>\n",
       "      <th>Stars</th>\n",
       "      <th>Budget</th>\n",
       "    </tr>\n",
       "  </thead>\n",
       "  <tbody>\n",
       "    <tr>\n",
       "      <th>0</th>\n",
       "      <td>FUESSP</td>\n",
       "      <td>Sandy Shores Park</td>\n",
       "      <td>28 03 18.9N-14 19 21.4W</td>\n",
       "      <td>2001-03-05</td>\n",
       "      <td>4</td>\n",
       "      <td>350000000</td>\n",
       "    </tr>\n",
       "    <tr>\n",
       "      <th>1</th>\n",
       "      <td>TFNOBH</td>\n",
       "      <td>Ocean Breeze Haven</td>\n",
       "      <td>28 05 56.5N-16 44 54.6W</td>\n",
       "      <td>1998-10-05</td>\n",
       "      <td>5</td>\n",
       "      <td>550000000</td>\n",
       "    </tr>\n",
       "    <tr>\n",
       "      <th>2</th>\n",
       "      <td>ACECWR</td>\n",
       "      <td>Coral Wave Resort</td>\n",
       "      <td>28 51 25.9N-13 47 48.7 W</td>\n",
       "      <td>2000-05-05</td>\n",
       "      <td>5</td>\n",
       "      <td>480000000</td>\n",
       "    </tr>\n",
       "  </tbody>\n",
       "</table>\n",
       "</div>"
      ],
      "text/plain": [
       "  hotel_id                Name                  Location     Opening  Stars  \\\n",
       "0   FUESSP   Sandy Shores Park   28 03 18.9N-14 19 21.4W  2001-03-05      4   \n",
       "1   TFNOBH  Ocean Breeze Haven   28 05 56.5N-16 44 54.6W  1998-10-05      5   \n",
       "2   ACECWR   Coral Wave Resort  28 51 25.9N-13 47 48.7 W  2000-05-05      5   \n",
       "\n",
       "      Budget  \n",
       "0  350000000  \n",
       "1  550000000  \n",
       "2  480000000  "
      ]
     },
     "execution_count": 24,
     "metadata": {},
     "output_type": "execute_result"
    }
   ],
   "source": [
    "df_rawht = pd.read_excel('../hotel_hranalytics/hotel_hranalytics.xlsx', sheet_name='Hotels')\n",
    "\n",
    "df_rawht.head()"
   ]
  },
  {
   "cell_type": "code",
   "execution_count": 25,
   "metadata": {},
   "outputs": [
    {
     "data": {
      "text/html": [
       "<div>\n",
       "<style scoped>\n",
       "    .dataframe tbody tr th:only-of-type {\n",
       "        vertical-align: middle;\n",
       "    }\n",
       "\n",
       "    .dataframe tbody tr th {\n",
       "        vertical-align: top;\n",
       "    }\n",
       "\n",
       "    .dataframe thead th {\n",
       "        text-align: right;\n",
       "    }\n",
       "</style>\n",
       "<table border=\"1\" class=\"dataframe\">\n",
       "  <thead>\n",
       "    <tr style=\"text-align: right;\">\n",
       "      <th></th>\n",
       "      <th>hc_id</th>\n",
       "      <th>Department</th>\n",
       "      <th>Active_employees</th>\n",
       "      <th>Emp_with_license</th>\n",
       "      <th>Total_employees</th>\n",
       "      <th>hotel_id</th>\n",
       "    </tr>\n",
       "  </thead>\n",
       "  <tbody>\n",
       "    <tr>\n",
       "      <th>0</th>\n",
       "      <td>REFUESSP</td>\n",
       "      <td>Reception_Reservations</td>\n",
       "      <td>11</td>\n",
       "      <td>1</td>\n",
       "      <td>12</td>\n",
       "      <td>FUESSP</td>\n",
       "    </tr>\n",
       "    <tr>\n",
       "      <th>1</th>\n",
       "      <td>FLFUESSP</td>\n",
       "      <td>Floors_Laundry</td>\n",
       "      <td>35</td>\n",
       "      <td>3</td>\n",
       "      <td>38</td>\n",
       "      <td>FUESSP</td>\n",
       "    </tr>\n",
       "    <tr>\n",
       "      <th>2</th>\n",
       "      <td>KIFUESSP</td>\n",
       "      <td>Kitchen</td>\n",
       "      <td>35</td>\n",
       "      <td>3</td>\n",
       "      <td>38</td>\n",
       "      <td>FUESSP</td>\n",
       "    </tr>\n",
       "    <tr>\n",
       "      <th>3</th>\n",
       "      <td>BAFUESSP</td>\n",
       "      <td>Bar_Restaurant</td>\n",
       "      <td>31</td>\n",
       "      <td>7</td>\n",
       "      <td>38</td>\n",
       "      <td>FUESSP</td>\n",
       "    </tr>\n",
       "    <tr>\n",
       "      <th>4</th>\n",
       "      <td>ANFUESSP</td>\n",
       "      <td>Animation</td>\n",
       "      <td>11</td>\n",
       "      <td>1</td>\n",
       "      <td>12</td>\n",
       "      <td>FUESSP</td>\n",
       "    </tr>\n",
       "  </tbody>\n",
       "</table>\n",
       "</div>"
      ],
      "text/plain": [
       "      hc_id              Department  Active_employees  Emp_with_license  \\\n",
       "0  REFUESSP  Reception_Reservations                11                 1   \n",
       "1  FLFUESSP          Floors_Laundry                35                 3   \n",
       "2  KIFUESSP                 Kitchen                35                 3   \n",
       "3  BAFUESSP          Bar_Restaurant                31                 7   \n",
       "4  ANFUESSP               Animation                11                 1   \n",
       "\n",
       "   Total_employees hotel_id  \n",
       "0               12   FUESSP  \n",
       "1               38   FUESSP  \n",
       "2               38   FUESSP  \n",
       "3               38   FUESSP  \n",
       "4               12   FUESSP  "
      ]
     },
     "execution_count": 25,
     "metadata": {},
     "output_type": "execute_result"
    }
   ],
   "source": [
    "df_rawhtcomp = pd.read_excel('../hotel_hranalytics/hotel_hranalytics.xlsx', sheet_name='Hotel_Composition')\n",
    "\n",
    "df_rawhtcomp.head()"
   ]
  },
  {
   "cell_type": "code",
   "execution_count": 26,
   "metadata": {},
   "outputs": [
    {
     "data": {
      "text/html": [
       "<div>\n",
       "<style scoped>\n",
       "    .dataframe tbody tr th:only-of-type {\n",
       "        vertical-align: middle;\n",
       "    }\n",
       "\n",
       "    .dataframe tbody tr th {\n",
       "        vertical-align: top;\n",
       "    }\n",
       "\n",
       "    .dataframe thead th {\n",
       "        text-align: right;\n",
       "    }\n",
       "</style>\n",
       "<table border=\"1\" class=\"dataframe\">\n",
       "  <thead>\n",
       "    <tr style=\"text-align: right;\">\n",
       "      <th></th>\n",
       "      <th>emp_wag_id</th>\n",
       "      <th>Price_$_Hour</th>\n",
       "      <th>Hours_worked</th>\n",
       "      <th>Work_overtime</th>\n",
       "      <th>Ovh$_75%</th>\n",
       "      <th>Gross_pay</th>\n",
       "      <th>Deductions_3%</th>\n",
       "      <th>Total_Payment</th>\n",
       "      <th>emp_id</th>\n",
       "      <th>hotel_id</th>\n",
       "      <th>hc_id</th>\n",
       "      <th>Payment_date</th>\n",
       "    </tr>\n",
       "  </thead>\n",
       "  <tbody>\n",
       "    <tr>\n",
       "      <th>0</th>\n",
       "      <td>3272REFUESSP</td>\n",
       "      <td>14</td>\n",
       "      <td>129</td>\n",
       "      <td>4</td>\n",
       "      <td>10.50</td>\n",
       "      <td>1848.00</td>\n",
       "      <td>55.4400</td>\n",
       "      <td>1792.5600</td>\n",
       "      <td>3272</td>\n",
       "      <td>FUESSP</td>\n",
       "      <td>REFUESSP</td>\n",
       "      <td>2024-01-29</td>\n",
       "    </tr>\n",
       "    <tr>\n",
       "      <th>1</th>\n",
       "      <td>3074REFUESSP</td>\n",
       "      <td>14</td>\n",
       "      <td>143</td>\n",
       "      <td>3</td>\n",
       "      <td>10.50</td>\n",
       "      <td>2033.50</td>\n",
       "      <td>61.0050</td>\n",
       "      <td>1972.4950</td>\n",
       "      <td>3074</td>\n",
       "      <td>FUESSP</td>\n",
       "      <td>REFUESSP</td>\n",
       "      <td>2024-01-29</td>\n",
       "    </tr>\n",
       "    <tr>\n",
       "      <th>2</th>\n",
       "      <td>6627REFUESSP</td>\n",
       "      <td>18</td>\n",
       "      <td>135</td>\n",
       "      <td>4</td>\n",
       "      <td>13.50</td>\n",
       "      <td>2484.00</td>\n",
       "      <td>74.5200</td>\n",
       "      <td>2409.4800</td>\n",
       "      <td>6627</td>\n",
       "      <td>FUESSP</td>\n",
       "      <td>REFUESSP</td>\n",
       "      <td>2024-01-29</td>\n",
       "    </tr>\n",
       "    <tr>\n",
       "      <th>3</th>\n",
       "      <td>420REFUESSP</td>\n",
       "      <td>19</td>\n",
       "      <td>121</td>\n",
       "      <td>11</td>\n",
       "      <td>14.25</td>\n",
       "      <td>2455.75</td>\n",
       "      <td>73.6725</td>\n",
       "      <td>2382.0775</td>\n",
       "      <td>420</td>\n",
       "      <td>FUESSP</td>\n",
       "      <td>REFUESSP</td>\n",
       "      <td>2024-01-29</td>\n",
       "    </tr>\n",
       "    <tr>\n",
       "      <th>4</th>\n",
       "      <td>4856REFUESSP</td>\n",
       "      <td>14</td>\n",
       "      <td>132</td>\n",
       "      <td>7</td>\n",
       "      <td>10.50</td>\n",
       "      <td>1921.50</td>\n",
       "      <td>57.6450</td>\n",
       "      <td>1863.8550</td>\n",
       "      <td>4856</td>\n",
       "      <td>FUESSP</td>\n",
       "      <td>REFUESSP</td>\n",
       "      <td>2024-01-29</td>\n",
       "    </tr>\n",
       "  </tbody>\n",
       "</table>\n",
       "</div>"
      ],
      "text/plain": [
       "     emp_wag_id  Price_$_Hour  Hours_worked  Work_overtime  Ovh$_75%  \\\n",
       "0  3272REFUESSP            14           129              4     10.50   \n",
       "1  3074REFUESSP            14           143              3     10.50   \n",
       "2  6627REFUESSP            18           135              4     13.50   \n",
       "3   420REFUESSP            19           121             11     14.25   \n",
       "4  4856REFUESSP            14           132              7     10.50   \n",
       "\n",
       "   Gross_pay  Deductions_3%  Total_Payment  emp_id hotel_id     hc_id  \\\n",
       "0    1848.00        55.4400      1792.5600    3272   FUESSP  REFUESSP   \n",
       "1    2033.50        61.0050      1972.4950    3074   FUESSP  REFUESSP   \n",
       "2    2484.00        74.5200      2409.4800    6627   FUESSP  REFUESSP   \n",
       "3    2455.75        73.6725      2382.0775     420   FUESSP  REFUESSP   \n",
       "4    1921.50        57.6450      1863.8550    4856   FUESSP  REFUESSP   \n",
       "\n",
       "  Payment_date  \n",
       "0   2024-01-29  \n",
       "1   2024-01-29  \n",
       "2   2024-01-29  \n",
       "3   2024-01-29  \n",
       "4   2024-01-29  "
      ]
     },
     "execution_count": 26,
     "metadata": {},
     "output_type": "execute_result"
    }
   ],
   "source": [
    "df_rawempwages = pd.read_excel('../hotel_hranalytics/hotel_hranalytics.xlsx', sheet_name='Employees_wages')\n",
    "\n",
    "df_rawempwages.head()"
   ]
  },
  {
   "cell_type": "code",
   "execution_count": 27,
   "metadata": {},
   "outputs": [
    {
     "data": {
      "text/html": [
       "<div>\n",
       "<style scoped>\n",
       "    .dataframe tbody tr th:only-of-type {\n",
       "        vertical-align: middle;\n",
       "    }\n",
       "\n",
       "    .dataframe tbody tr th {\n",
       "        vertical-align: top;\n",
       "    }\n",
       "\n",
       "    .dataframe thead th {\n",
       "        text-align: right;\n",
       "    }\n",
       "</style>\n",
       "<table border=\"1\" class=\"dataframe\">\n",
       "  <thead>\n",
       "    <tr style=\"text-align: right;\">\n",
       "      <th></th>\n",
       "      <th>wkc_id</th>\n",
       "      <th>Department</th>\n",
       "      <th>Position</th>\n",
       "      <th>years_at_position</th>\n",
       "      <th>Entry_date</th>\n",
       "      <th>years_working</th>\n",
       "      <th>Staff</th>\n",
       "      <th>emp_id</th>\n",
       "      <th>hotel_id</th>\n",
       "      <th>hc_id</th>\n",
       "    </tr>\n",
       "  </thead>\n",
       "  <tbody>\n",
       "    <tr>\n",
       "      <th>0</th>\n",
       "      <td>3272FUESSP</td>\n",
       "      <td>Reception_Reservations</td>\n",
       "      <td>Staff</td>\n",
       "      <td>1</td>\n",
       "      <td>2023-09-26</td>\n",
       "      <td>1</td>\n",
       "      <td>0</td>\n",
       "      <td>3272</td>\n",
       "      <td>FUESSP</td>\n",
       "      <td>REFUESSP</td>\n",
       "    </tr>\n",
       "    <tr>\n",
       "      <th>1</th>\n",
       "      <td>3074FUESSP</td>\n",
       "      <td>Reception_Reservations</td>\n",
       "      <td>Staff</td>\n",
       "      <td>1</td>\n",
       "      <td>2023-04-29</td>\n",
       "      <td>1</td>\n",
       "      <td>0</td>\n",
       "      <td>3074</td>\n",
       "      <td>FUESSP</td>\n",
       "      <td>REFUESSP</td>\n",
       "    </tr>\n",
       "    <tr>\n",
       "      <th>2</th>\n",
       "      <td>6627FUESSP</td>\n",
       "      <td>Reception_Reservations</td>\n",
       "      <td>3rd_Command</td>\n",
       "      <td>4</td>\n",
       "      <td>2014-01-17</td>\n",
       "      <td>10</td>\n",
       "      <td>7</td>\n",
       "      <td>6627</td>\n",
       "      <td>FUESSP</td>\n",
       "      <td>REFUESSP</td>\n",
       "    </tr>\n",
       "    <tr>\n",
       "      <th>3</th>\n",
       "      <td>420FUESSP</td>\n",
       "      <td>Reception_Reservations</td>\n",
       "      <td>3rd_Command</td>\n",
       "      <td>3</td>\n",
       "      <td>2012-10-25</td>\n",
       "      <td>12</td>\n",
       "      <td>7</td>\n",
       "      <td>420</td>\n",
       "      <td>FUESSP</td>\n",
       "      <td>REFUESSP</td>\n",
       "    </tr>\n",
       "    <tr>\n",
       "      <th>4</th>\n",
       "      <td>4856FUESSP</td>\n",
       "      <td>Reception_Reservations</td>\n",
       "      <td>Staff</td>\n",
       "      <td>1</td>\n",
       "      <td>2023-06-18</td>\n",
       "      <td>1</td>\n",
       "      <td>0</td>\n",
       "      <td>4856</td>\n",
       "      <td>FUESSP</td>\n",
       "      <td>REFUESSP</td>\n",
       "    </tr>\n",
       "  </tbody>\n",
       "</table>\n",
       "</div>"
      ],
      "text/plain": [
       "       wkc_id              Department     Position  years_at_position  \\\n",
       "0  3272FUESSP  Reception_Reservations        Staff                  1   \n",
       "1  3074FUESSP  Reception_Reservations        Staff                  1   \n",
       "2  6627FUESSP  Reception_Reservations  3rd_Command                  4   \n",
       "3   420FUESSP  Reception_Reservations  3rd_Command                  3   \n",
       "4  4856FUESSP  Reception_Reservations        Staff                  1   \n",
       "\n",
       "  Entry_date  years_working  Staff  emp_id hotel_id     hc_id  \n",
       "0 2023-09-26              1      0    3272   FUESSP  REFUESSP  \n",
       "1 2023-04-29              1      0    3074   FUESSP  REFUESSP  \n",
       "2 2014-01-17             10      7    6627   FUESSP  REFUESSP  \n",
       "3 2012-10-25             12      7     420   FUESSP  REFUESSP  \n",
       "4 2023-06-18              1      0    4856   FUESSP  REFUESSP  "
      ]
     },
     "execution_count": 27,
     "metadata": {},
     "output_type": "execute_result"
    }
   ],
   "source": [
    "df_rawworkforce = pd.read_excel('../hotel_hranalytics/hotel_hranalytics.xlsx', sheet_name='Workforce_Composition')\n",
    "\n",
    "df_rawworkforce.head()"
   ]
  },
  {
   "cell_type": "code",
   "execution_count": 28,
   "metadata": {},
   "outputs": [
    {
     "data": {
      "text/plain": [
       "emp_id                       object\n",
       "Name                         object\n",
       "Surname                      object\n",
       "Birthday             datetime64[ns]\n",
       "Age                         float64\n",
       "Gender                       object\n",
       "on_license                  float64\n",
       "hotel_id                     object\n",
       "Location                     object\n",
       "Opening                      object\n",
       "Stars                       float64\n",
       "Budget                      float64\n",
       "hc_id                        object\n",
       "Department                   object\n",
       "Active_employees            float64\n",
       "Emp_with_license            float64\n",
       "Total_employees             float64\n",
       "wkc_id                       object\n",
       "Position                     object\n",
       "years_at_position           float64\n",
       "Entry_date           datetime64[ns]\n",
       "years_working               float64\n",
       "Staff                       float64\n",
       "emp_wag_id                   object\n",
       "Price_$_Hour                float64\n",
       "Hours_worked                float64\n",
       "Work_overtime               float64\n",
       "Ovh$_75%                    float64\n",
       "Gross_pay                   float64\n",
       "Deductions_3%               float64\n",
       "Total_Payment               float64\n",
       "Payment_date         datetime64[ns]\n",
       "dtype: object"
      ]
     },
     "execution_count": 28,
     "metadata": {},
     "output_type": "execute_result"
    }
   ],
   "source": [
    "# If I needed let's put all together\n",
    "df_combined = pd.concat([df_rawemp, df_rawht, df_rawhtcomp, df_rawworkforce, df_rawempwages])\n",
    "\n",
    "df_combined.dtypes"
   ]
  },
  {
   "cell_type": "code",
   "execution_count": 29,
   "metadata": {},
   "outputs": [
    {
     "data": {
      "text/plain": [
       "emp_id                object\n",
       "Name                  object\n",
       "Surname               object\n",
       "Birthday      datetime64[ns]\n",
       "Age                    int64\n",
       "Gender                object\n",
       "on_license             int64\n",
       "hotel_id              object\n",
       "dtype: object"
      ]
     },
     "execution_count": 29,
     "metadata": {},
     "output_type": "execute_result"
    }
   ],
   "source": [
    "# Employees Table\n",
    "df_rawemp[['Age', 'on_license']].apply(pd.to_numeric)\n",
    "df_rawemp[['hotel_id']].astype('str')\n",
    "\n",
    "# Hotels Table\n",
    "df_rawht['Stars'].apply(pd.to_numeric)\n",
    "df_rawht[['hotel_id']].astype('str')\n",
    "df_rawht.rename(columns={'Stars': 'Stars_type'}, inplace=True)\n",
    "\n",
    "# Hotel Composition Table\n",
    "df_rawhtcomp[['Active_employees', 'Emp_with_license', 'Total_employees']].apply(pd.to_numeric)\n",
    "df_rawhtcomp[['hc_id', 'hotel_id']].astype('str')\n",
    "\n",
    "# Workforce Composition Table\n",
    "df_rawworkforce[['years_at_position', 'years_working', 'Staff']].apply(pd.to_numeric)\n",
    "df_rawworkforce[['wkc_id', 'emp_id', 'hotel_id', 'hc_id']].astype('str')\n",
    "\n",
    "# Employees Wages Table\n",
    "df_rawempwages[['emp_wag_id', 'emp_id', 'hotel_id',\t'hc_id']].astype('str')\n",
    "df_rawempwages[['Price_$_Hour']].apply(pd.to_numeric)\n",
    "df_rawempwages.rename(columns={'Ovh$_75%': 'Ovh$_75', 'Deductions_3%': 'Deductions_3'}, inplace=True)\n",
    "\n",
    "df_rawemp.dtypes"
   ]
  },
  {
   "cell_type": "code",
   "execution_count": 30,
   "metadata": {},
   "outputs": [
    {
     "data": {
      "text/plain": [
       "hc_id               object\n",
       "Department          object\n",
       "Active_employees     int64\n",
       "Emp_with_license     int64\n",
       "Total_employees      int64\n",
       "hotel_id            object\n",
       "dtype: object"
      ]
     },
     "execution_count": 30,
     "metadata": {},
     "output_type": "execute_result"
    }
   ],
   "source": [
    "df_rawhtcomp.dtypes"
   ]
  },
  {
   "cell_type": "code",
   "execution_count": 31,
   "metadata": {},
   "outputs": [
    {
     "data": {
      "text/plain": [
       "wkc_id                       object\n",
       "Department                   object\n",
       "Positions                    object\n",
       "years_at_position             int64\n",
       "Entry_date           datetime64[ns]\n",
       "years_working                 int64\n",
       "Staff                         int64\n",
       "emp_id                        int64\n",
       "hotel_id                     object\n",
       "hc_id                        object\n",
       "dtype: object"
      ]
     },
     "execution_count": 31,
     "metadata": {},
     "output_type": "execute_result"
    }
   ],
   "source": [
    "df_rawworkforce = df_rawworkforce.rename(columns={'Position': 'Positions'})\n",
    "df_rawworkforce.dtypes\n"
   ]
  },
  {
   "cell_type": "code",
   "execution_count": 32,
   "metadata": {},
   "outputs": [
    {
     "data": {
      "text/plain": [
       "emp_wag_id               object\n",
       "Price_$_Hour              int64\n",
       "Hours_worked              int64\n",
       "Work_overtime             int64\n",
       "Ovh$_75                 float64\n",
       "Gross_pay               float64\n",
       "Deductions_3            float64\n",
       "Total_Payment           float64\n",
       "emp_id                    int64\n",
       "hotel_id                 object\n",
       "hc_id                    object\n",
       "Payment_date     datetime64[ns]\n",
       "dtype: object"
      ]
     },
     "execution_count": 32,
     "metadata": {},
     "output_type": "execute_result"
    }
   ],
   "source": [
    "df_rawempwages.dtypes"
   ]
  },
  {
   "cell_type": "markdown",
   "metadata": {},
   "source": [
    "<h3>Let's let the power of visualizations release the beauty of our data.</h3>\n",
    "\n",
    "<p>Let's begin with something simple. How are our employees distributed by gender?</p>\n",
    "<p>To answer this question we will use the <i>Employees</i> table.</p>"
   ]
  },
  {
   "cell_type": "code",
   "execution_count": 33,
   "metadata": {},
   "outputs": [
    {
     "name": "stdout",
     "output_type": "stream",
     "text": [
      "Number of missing values:  emp_id        0\n",
      "Name          0\n",
      "Surname       0\n",
      "Birthday      0\n",
      "Age           0\n",
      "Gender        0\n",
      "on_license    0\n",
      "hotel_id      0\n",
      "dtype: int64\n"
     ]
    }
   ],
   "source": [
    "#First we let's check for missing values\n",
    "missing_values = df_rawemp.isnull().sum()\n",
    "print('Number of missing values: ', missing_values)"
   ]
  },
  {
   "cell_type": "code",
   "execution_count": 34,
   "metadata": {},
   "outputs": [
    {
     "name": "stdout",
     "output_type": "stream",
     "text": [
      "The total of registries we have at the Employees table is:  505\n"
     ]
    }
   ],
   "source": [
    "# Let's work with the gender column but firs let's create a variable with the lenght of our database\n",
    "emp_length = len(df_rawemp)\n",
    "print('The total of registries we have at the Employees table is: ', emp_length)\n"
   ]
  },
  {
   "cell_type": "code",
   "execution_count": 36,
   "metadata": {},
   "outputs": [
    {
     "name": "stdout",
     "output_type": "stream",
     "text": [
      "Gender\n",
      "M    267\n",
      "F    238\n",
      "Name: count, dtype: int64\n"
     ]
    }
   ],
   "source": [
    "# Gender\n",
    "emp_gender = df_rawemp['Gender'].value_counts()\n",
    "print(emp_gender)"
   ]
  },
  {
   "cell_type": "code",
   "execution_count": 81,
   "metadata": {},
   "outputs": [
    {
     "data": {
      "image/png": "[encoded data removed]",
      "text/plain": [
       "<Figure size 600x800 with 1 Axes>"
      ]
     },
     "metadata": {},
     "output_type": "display_data"
    }
   ],
   "source": [
    "# To visualize the gender distribution I will use a pie chart\n",
    "\n",
    "# Preparing the data\n",
    "colors = plt.get_cmap('Blues')(np.linspace(0.2, 0.7, len(emp_gender)))\n",
    "labels = 'Male', 'Female'\n",
    "\n",
    "# Creating the PIE CHART\n",
    "fig, ax = plt.subplots(figsize=(6, 8))\n",
    "ax.pie(emp_gender, colors=colors, autopct='%1.1f%%', center=(4, 4), wedgeprops={\"linewidth\": 1, \"edgecolor\": \"white\"})\n",
    "ax.legend(labels, loc='lower right', title='Genders')\n",
    "ax.set_title('Gender Distribution', fontsize=16)\n",
    "\n",
    "plt.show()"
   ]
  },
  {
   "cell_type": "code",
   "execution_count": 108,
   "metadata": {},
   "outputs": [
    {
     "name": "stdout",
     "output_type": "stream",
     "text": [
      "0           \n",
      "18 to 27         67\n",
      "28 to 37        106\n",
      "38 to 47        104\n",
      "48 to 57        105\n",
      "more than 58    123\n",
      "Name: count, dtype: int64\n"
     ]
    },
    {
     "data": {
      "text/plain": [
       "Text(0.5, 1.0, 'Age Distribution')"
      ]
     },
     "execution_count": 108,
     "metadata": {},
     "output_type": "execute_result"
    },
    {
     "data": {
      "image/png": "[encoded data removed]",
      "text/plain": [
       "<Figure size 1000x800 with 1 Axes>"
      ]
     },
     "metadata": {},
     "output_type": "display_data"
    }
   ],
   "source": [
    "#Age range\n",
    "def age_range(age):\n",
    "    if age >= 18 and age <= 27:\n",
    "        return '18 to 27'\n",
    "    elif age >= 28 and age <= 37:\n",
    "        return '28 to 37'\n",
    "    elif age >= 38 and age <= 47:\n",
    "        return '38 to 47'\n",
    "    elif age >= 48 and age <= 57:\n",
    "        return '48 to 57'\n",
    "    else:\n",
    "        return 'more than 58'\n",
    "    \n",
    "emp_age_range = df_rawemp['Age'].apply(lambda x: pd.Series(age_range(x))).value_counts().sort_index()\n",
    "print(emp_age_range)\n",
    "\n",
    "range_count = emp_age_range.sum()\n",
    "percentage = (emp_age_range / range_count) * 100\n",
    "\n",
    "fig, ax = plt.subplots(figsize=(10, 8))\n",
    "\n",
    "labels = [f'{age} ({count})' for age, count in zip(emp_age_range.index, emp_age_range)]\n",
    "\n",
    "ax.pie(emp_age_range, labels=labels, autopct='%1.1f%%', center=(4, 4), wedgeprops={\"linewidth\": 1, \"edgecolor\": \"white\"}, labeldistance=1.1)\n",
    "\n",
    "ax.set_title('Age Distribution', fontsize=16)\n",
    "\n"
   ]
  },
  {
   "cell_type": "markdown",
   "metadata": {},
   "source": [
    "<p>The data type is now corrected and transformed. It's time to upload the data into <b><i>\"hrhotelpa\"</i></b> that is what our database is called  in MySQL. I will use <i>Python</i> to upload all the data to their corresponding table. Remember we have created the tables using <i>PopSQL</i>.</p>\n",
    "\n",
    "<p>Let's start working with <b>MySQL</b>. We are required to connect to MySQL and later create a cursor to work with the queries. </p>"
   ]
  },
  {
   "cell_type": "code",
   "execution_count": 13,
   "metadata": {},
   "outputs": [
    {
     "name": "stdout",
     "output_type": "stream",
     "text": [
      "Connection established\n"
     ]
    }
   ],
   "source": [
    "# Let's create the connection to MySQL\n",
    "try:\n",
    "    \n",
    "    db = mysql.connector.connect(\n",
    "        host = \"localhost\",\n",
    "        user = \"root\",\n",
    "        password = dbpass\n",
    "    )\n",
    "    print(\"Connection established\")\n",
    "    # Creating the cursor to execute queries\n",
    "    cursor = db.cursor()\n",
    "    \n",
    "except mysql.connector.Error as err:\n",
    "    print(\"An error occurred: \", err)\n"
   ]
  },
  {
   "cell_type": "code",
   "execution_count": 14,
   "metadata": {},
   "outputs": [],
   "source": [
    "# Creating a enginge connection\n",
    "hostname = \"localhost\"\n",
    "database = \"hrhotelpa\"\n",
    "username = \"root\"\n",
    "password = dbpass\n",
    "\n",
    "engine = create_engine(\"mysql+pymysql://{user}:{pw}@{host}/{db}\".format(host=hostname, db=database, user=username, pw=password))"
   ]
  },
  {
   "cell_type": "code",
   "execution_count": 15,
   "metadata": {},
   "outputs": [],
   "source": [
    "# Add the databases to MySQL\n",
    "# df_rawht.to_sql('Hotels', engine, if_exists='append', index=False)\n",
    "# df_rawemp.to_sql('Employees', engine, if_exists='append', index=False)\n",
    "# df_rawhtcomp.to_sql('Hotel_Composition', engine, if_exists='append', index=False)\n",
    "# df_rawworkforce.to_sql('Workforce_Composition', engine, if_exists='append', index=False)\n",
    "# df_rawempwages.to_sql('Employees_Wages', engine, if_exists='append', index=False)"
   ]
  },
  {
   "cell_type": "markdown",
   "metadata": {},
   "source": [
    "<p>Now... that all the data have been uploaded to our MySQL database, it's time to close our connection.</p>"
   ]
  },
  {
   "cell_type": "code",
   "execution_count": 16,
   "metadata": {},
   "outputs": [],
   "source": [
    "cursor.close()\n",
    "db.close()"
   ]
  }
 ],
 "metadata": {
  "kernelspec": {
   "display_name": "base",
   "language": "python",
   "name": "python3"
  },
  "language_info": {
   "codemirror_mode": {
    "name": "ipython",
    "version": 3
   },
   "file_extension": ".py",
   "mimetype": "text/x-python",
   "name": "python",
   "nbconvert_exporter": "python",
   "pygments_lexer": "ipython3",
   "version": "3.12.7"
  }
 },
 "nbformat": 4,
 "nbformat_minor": 2
}
