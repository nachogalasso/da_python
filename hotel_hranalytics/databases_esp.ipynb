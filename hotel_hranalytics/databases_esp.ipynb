{
 "cells": [
  {
   "cell_type": "markdown",
   "metadata": {},
   "source": [
    "# HOTEL HR PEOPLE ANALYTICS\n",
    "\n",
    "### Análisis de Hotel desde una mirada de People Analytics.\n",
    "<p>Con el siguiente proyecto intentaré emular un análisis de People Analytics para seguir practicando mis habilidades. Además, con este proyecto, quiero <u>fortalecer mis conocimientos</u> en <b><i>MySql</b></i> <b><i>y SQL</i></b>. Usaré <b><i>Python</i></b> y <b><i>Power BI</i></b> para el análisis de datos.</p>\n",
    "<p>Empezaré haciendo un poco de ingeniería de datos para diseñar las bases de datos con las que voy a trabajar. Usaré <b><i>Figma</i></b> para diseñar las bases de datos y las relaciones entre ellas. Luego procederé a completar con datos las bases, y más tarde comenzaré el análisis de datos.</p>"
   ]
  },
  {
   "cell_type": "markdown",
   "metadata": {},
   "source": [
    "### 1. Importando las librerías"
   ]
  },
  {
   "cell_type": "code",
   "execution_count": null,
   "metadata": {},
   "outputs": [],
   "source": [
    "# Librerias para manipular los datos\n",
    "import pandas as pd\n",
    "import numpy as np\n",
    "\n",
    "# Librerias para crear gráficos\n",
    "import seaborn as sns\n",
    "import matplotlib.pyplot as plt\n",
    "\n",
    "# Librerias para modelos de predicciones / Machine Learning\n",
    "import statsmodels.api as sm\n",
    "import statsmodels.formula.api as smf\n",
    "\n",
    "# Para ignorar advertencias\n",
    "import warnings\n",
    "warnings.filterwarnings('ignore')"
   ]
  },
  {
   "cell_type": "markdown",
   "metadata": {},
   "source": [
    "### 2. Creando las bases de datos\n",
    "\n",
    "<p>Vamos a crear las bases de datos de acuerdo al <u>boceto</u> creado en <b><i>Figma</b></i>.</p>"
   ]
  },
  {
   "cell_type": "code",
   "execution_count": null,
   "metadata": {},
   "outputs": [],
   "source": [
    "# Employee's database\n",
    "emp_schema = {'emp_id':'str', 'Name':'str', 'Surname':'str', 'Birthday':'object', 'Age':'int64', 'Gender':'str', 'on_license':'bool','Entry_date':'object','hotel_id':'str'}\n",
    "emp_df = pd.DataFrame(columns=emp_schema.keys()).astype(emp_schema)\n",
    "\n",
    "print(emp_df)\n",
    "emp_df.dtypes"
   ]
  },
  {
   "cell_type": "code",
   "execution_count": null,
   "metadata": {},
   "outputs": [],
   "source": [
    "# Hotel's database\n",
    "hotel_schema = {'hotel_id':'str', 'Name':'str', 'Location':'str', 'Opening':'object', 'mgr_id':'str', 'Stars':'int64', 'Budget':'float64'}\n",
    "hotel_df = pd.DataFrame(columns=hotel_schema.keys()).astype(hotel_schema)\n",
    "\n",
    "print(hotel_df)\n",
    "hotel_df.dtypes"
   ]
  },
  {
   "cell_type": "code",
   "execution_count": null,
   "metadata": {},
   "outputs": [],
   "source": [
    "# Hotel's Composition\n",
    "hcomp_schema = {'hc_id':'str', 'Area':'str', 'Department':'str', 'Active_employees':'int64', 'Emp_with_license':'int64', 'Total_employees':'int64'}\n",
    "hcomp_df = pd.DataFrame(columns=hcomp_schema.keys()).astype(hcomp_schema)\n",
    "\n",
    "print(hcomp_df)\n",
    "hcomp_df.dtypes"
   ]
  },
  {
   "cell_type": "code",
   "execution_count": null,
   "metadata": {},
   "outputs": [],
   "source": [
    "# Workforce Composition\n",
    "wfc_schema = {'wkc_id':'str', 'Area':'str', 'Department':'str', 'Position':'str', 'years_at_position':'int64', 'years_working':'int64', 'Staff':'int64', 'emp_id':'str', 'hotel_id':'str'}\n",
    "wfc_df = pd.DataFrame(columns=wfc_schema.keys()).astype(wfc_schema)\n",
    "\n",
    "print(wfc_df)\n",
    "wfc_df.dtypes"
   ]
  },
  {
   "cell_type": "code",
   "execution_count": null,
   "metadata": {},
   "outputs": [],
   "source": [
    "# Employee's Wage database\n",
    "emp_wages_schema = {'emp_wag_id':'str', 'Hours_worked':'float64', 'Work_overtime':'float64', 'Salary':'float64', 'Gross_pay':'float64', 'Deductions_3%':'float64', 'Total_Payment':'float64','emp_id':'str', 'hotel_id':'str'}\n",
    "emp_wages_df = pd.DataFrame(columns=emp_wages_schema.keys()).astype(emp_wages_schema)\n",
    "\n",
    "print(emp_wages_df)\n",
    "emp_wages_df.dtypes"
   ]
  }
 ],
 "metadata": {
  "kernelspec": {
   "display_name": "base",
   "language": "python",
   "name": "python3"
  },
  "language_info": {
   "name": "python",
   "version": "3.11.4"
  }
 },
 "nbformat": 4,
 "nbformat_minor": 2
}
