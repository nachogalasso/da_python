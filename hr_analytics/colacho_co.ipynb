{
 "cells": [
  {
   "cell_type": "markdown",
   "metadata": {},
   "source": [
    "# People Analytic Project - Colacho Company, Inc"
   ]
  },
  {
   "cell_type": "markdown",
   "metadata": {},
   "source": [
    "## 1. Import Libraries"
   ]
  },
  {
   "cell_type": "code",
   "execution_count": 14,
   "metadata": {},
   "outputs": [],
   "source": [
    "import pandas as pd\n",
    "import numpy as np\n",
    "import random\n",
    "import string"
   ]
  },
  {
   "cell_type": "markdown",
   "metadata": {},
   "source": [
    "## 2. Create the data frame\n",
    "\n",
    "We are going to simulate a database composed be hundred employees"
   ]
  },
  {
   "cell_type": "code",
   "execution_count": 15,
   "metadata": {},
   "outputs": [
    {
     "name": "stdout",
     "output_type": "stream",
     "text": [
      "      Name   Surname  Gender\n",
      "0     John     Smith    male\n",
      "1    Emily   Johnson  female\n",
      "2  Michael  Williams    male\n",
      "3    Sarah     Jones  female\n",
      "4    David     Brown    male\n"
     ]
    }
   ],
   "source": [
    "# Let's create a list with the names and other list with their surnames\n",
    "names = [\n",
    "    'John', 'Emily', 'Michael', 'Sarah', 'David', 'Jessica', 'Daniel', 'Olivia', 'Christopher', 'Sophia',\n",
    "    'Matthew', 'Ava', 'Andrew', 'Emma', 'James', 'Isabella', 'Joseph', 'Mia', 'Anthony', 'Abigail',\n",
    "    'Robert', 'Charlotte', 'William', 'Amelia', 'David', 'Evelyn', 'Alexander', 'Harper', 'Thomas', 'Grace',\n",
    "    'Ethan', 'Chloe', 'Steven', 'Ella', 'Richard', 'Victoria', 'Ryan', 'Avery', 'Charles', 'Sofia',\n",
    "    'Edward', 'Scarlett', 'George', 'Madison', 'Samuel', 'Lily', 'Jackson', 'Aria', 'Henry', 'Lillian',\n",
    "    'Owen', 'Addison', 'Sebastian', 'Aubrey', 'Benjamin', 'Natalie', 'Nicholas', 'Zoey', 'Daniel', 'Hannah',\n",
    "    'Aiden', 'Brooklyn', 'Adam', 'Stella', 'Dylan', 'Nora', 'Wyatt', 'Leah', 'Caleb', 'Audrey',\n",
    "    'Nathan', 'Claire', 'Jayden', 'Ellie', 'Zachary', 'Savannah', 'Carter', 'Skylar', 'Luke', 'Riley',\n",
    "    'Isaac', 'Aaliyah', 'Christian', 'Penelope', 'Liam', 'Camila', 'Julian', 'Ariana', 'Gabriel', 'Kennedy',\n",
    "    'Levi', 'Maya', 'Jaxon', 'Gabriella', 'Aaron', 'Madelyn', 'Brayden', 'Elena', 'Oliver', 'Anna'\n",
    "]\n",
    "\n",
    "surnames = [\n",
    "    'Smith', 'Johnson', 'Williams', 'Jones', 'Brown', 'Davis', 'Miller', 'Wilson', 'Moore', 'Taylor',\n",
    "    'Anderson', 'Thomas', 'Jackson', 'White', 'Harris', 'Martin', 'Thompson', 'Garcia', 'Martinez', 'Robinson',\n",
    "    'Clark', 'Rodriguez', 'Lewis', 'Lee', 'Walker', 'Hall', 'Allen', 'Young', 'Hernandez', 'King',\n",
    "    'Wright', 'Lopez', 'Hill', 'Scott', 'Green', 'Adams', 'Baker', 'Gonzalez', 'Nelson', 'Carter',\n",
    "    'Mitchell', 'Perez', 'Roberts', 'Turner', 'Phillips', 'Campbell', 'Parker', 'Evans', 'Edwards', 'Collins',\n",
    "    'Stewart', 'Sanchez', 'Morris', 'Rogers', 'Reed', 'Cook', 'Morgan', 'Bell', 'Murphy', 'Bailey',\n",
    "    'Rivera', 'Cooper', 'Richardson', 'Cox', 'Howard', 'Ward', 'Torres', 'Peterson', 'Gray', 'Ramirez',\n",
    "    'James', 'Watson', 'Brooks', 'Kelly', 'Sanders', 'Price', 'Bennett', 'Wood', 'Barnes', 'Ross',\n",
    "    'Henderson', 'Coleman', 'Jenkins', 'Perry', 'Powell', 'Long', 'Patterson', 'Hughes', 'Flores', 'Washington',\n",
    "    'Butler', 'Simmons', 'Foster', 'Gonzales', 'Bryant', 'Alexander', 'Russell', 'Griffin', 'Diaz', 'Hayes'\n",
    "]\n",
    "\n",
    "sex = [\n",
    "    'male','female','male','female','male','female','male','female','male','female','male','female','male','female','male','female','male','female','male','female','male','female','male','female','male','female','male','female','male','female','male','female','male','female','male','female','male','female','male','female','male','female','male','female','male','female','male','female','male','female','male','female','male','female','male','female','male','female','male','female','male','female','male','female','male','female','male','female','male','female','male','female','male','female','male','female','male','female','male','female','male','female','male','female','male','female','male','female','male','female','male','female','male','female','male','female','male','female','male','female'\n",
    "]\n",
    "\n",
    "\n",
    "# Create our data frame\n",
    "colacho_df = pd.DataFrame({\n",
    "    'Name': names,\n",
    "    'Surname': surnames,\n",
    "    'Gender': sex\n",
    "})\n",
    "\n",
    "# Checking if everything is ok\n",
    "print(colacho_df.head())"
   ]
  },
  {
   "cell_type": "markdown",
   "metadata": {},
   "source": [
    "### 2.1 Create new columns\n",
    "\n",
    "Now we are going to create new columns, age, position, and id"
   ]
  },
  {
   "cell_type": "markdown",
   "metadata": {},
   "source": [
    "#### 2.1.a Age column\n",
    "\n",
    "For this task, we are going to create a list with random values from 20 to 68, and then add the list to the database in the column \"Age\"."
   ]
  },
  {
   "cell_type": "code",
   "execution_count": 16,
   "metadata": {},
   "outputs": [
    {
     "name": "stdout",
     "output_type": "stream",
     "text": [
      "          Name   Surname  Gender  Age\n",
      "0         John     Smith    male   53\n",
      "1        Emily   Johnson  female   44\n",
      "2      Michael  Williams    male   60\n",
      "3        Sarah     Jones  female   44\n",
      "4        David     Brown    male   67\n",
      "5      Jessica     Davis  female   61\n",
      "6       Daniel    Miller    male   30\n",
      "7       Olivia    Wilson  female   60\n",
      "8  Christopher     Moore    male   32\n",
      "9       Sophia    Taylor  female   61\n"
     ]
    }
   ],
   "source": [
    "# Random values\n",
    "age = np.random.randint(20, 68, size=100)\n",
    "colacho_df['Age'] = age\n",
    "\n",
    "# Checking if everything is OK\n",
    "print(colacho_df.head(10))"
   ]
  },
  {
   "cell_type": "markdown",
   "metadata": {},
   "source": [
    "#### 2.1.b Work Departments Column\n",
    "\n",
    "Here we are going to create a random sequence of values from 1 to 5, and then we are going to replace those values with the department's names"
   ]
  },
  {
   "cell_type": "code",
   "execution_count": 17,
   "metadata": {},
   "outputs": [
    {
     "name": "stdout",
     "output_type": "stream",
     "text": [
      "          Name   Surname  Gender  Age WorkDepartment\n",
      "0         John     Smith    male   53           HHRR\n",
      "1        Emily   Johnson  female   44      Marketing\n",
      "2      Michael  Williams    male   60        Account\n",
      "3        Sarah     Jones  female   44          Sales\n",
      "4        David     Brown    male   67           HHRR\n",
      "5      Jessica     Davis  female   61          Sales\n",
      "6       Daniel    Miller    male   30        Account\n",
      "7       Olivia    Wilson  female   60           HHRR\n",
      "8  Christopher     Moore    male   32        Account\n",
      "9       Sophia    Taylor  female   61      Marketing\n"
     ]
    }
   ],
   "source": [
    "# Random values to replace later\n",
    "work_department = np.random.randint(1, 5, size=100)\n",
    "colacho_df['WorkDepartment'] = work_department\n",
    "\n",
    "# Its time to replace the values with the areas where people are from\n",
    "department_map = {\n",
    "    1: 'HHRR',\n",
    "    2: 'Sales',\n",
    "    3: 'Account',\n",
    "    4: 'Marketing',\n",
    "    5: 'Operations'\n",
    "}\n",
    "\n",
    "colacho_df['WorkDepartment'] = colacho_df['WorkDepartment'].map(department_map)\n",
    "\n",
    "# Let's see if everthing is OK\n",
    "print(colacho_df.head(10))"
   ]
  },
  {
   "cell_type": "markdown",
   "metadata": {},
   "source": [
    "#### 2.1.c ID column\n",
    "\n",
    "For this column, we are going to create a random ID that will combine numbers with letters, we will use libraries random and string"
   ]
  },
  {
   "cell_type": "code",
   "execution_count": 20,
   "metadata": {},
   "outputs": [
    {
     "data": {
      "text/html": [
       "<div>\n",
       "<style scoped>\n",
       "    .dataframe tbody tr th:only-of-type {\n",
       "        vertical-align: middle;\n",
       "    }\n",
       "\n",
       "    .dataframe tbody tr th {\n",
       "        vertical-align: top;\n",
       "    }\n",
       "\n",
       "    .dataframe thead th {\n",
       "        text-align: right;\n",
       "    }\n",
       "</style>\n",
       "<table border=\"1\" class=\"dataframe\">\n",
       "  <thead>\n",
       "    <tr style=\"text-align: right;\">\n",
       "      <th></th>\n",
       "      <th>Name</th>\n",
       "      <th>Surname</th>\n",
       "      <th>Gender</th>\n",
       "      <th>Age</th>\n",
       "      <th>WorkDepartment</th>\n",
       "      <th>ID</th>\n",
       "    </tr>\n",
       "  </thead>\n",
       "  <tbody>\n",
       "    <tr>\n",
       "      <th>0</th>\n",
       "      <td>John</td>\n",
       "      <td>Smith</td>\n",
       "      <td>male</td>\n",
       "      <td>53</td>\n",
       "      <td>HHRR</td>\n",
       "      <td>GX1598</td>\n",
       "    </tr>\n",
       "    <tr>\n",
       "      <th>1</th>\n",
       "      <td>Emily</td>\n",
       "      <td>Johnson</td>\n",
       "      <td>female</td>\n",
       "      <td>44</td>\n",
       "      <td>Marketing</td>\n",
       "      <td>IC7215</td>\n",
       "    </tr>\n",
       "    <tr>\n",
       "      <th>2</th>\n",
       "      <td>Michael</td>\n",
       "      <td>Williams</td>\n",
       "      <td>male</td>\n",
       "      <td>60</td>\n",
       "      <td>Account</td>\n",
       "      <td>OS3741</td>\n",
       "    </tr>\n",
       "    <tr>\n",
       "      <th>3</th>\n",
       "      <td>Sarah</td>\n",
       "      <td>Jones</td>\n",
       "      <td>female</td>\n",
       "      <td>44</td>\n",
       "      <td>Sales</td>\n",
       "      <td>XV5219</td>\n",
       "    </tr>\n",
       "    <tr>\n",
       "      <th>4</th>\n",
       "      <td>David</td>\n",
       "      <td>Brown</td>\n",
       "      <td>male</td>\n",
       "      <td>67</td>\n",
       "      <td>HHRR</td>\n",
       "      <td>FE5949</td>\n",
       "    </tr>\n",
       "    <tr>\n",
       "      <th>...</th>\n",
       "      <td>...</td>\n",
       "      <td>...</td>\n",
       "      <td>...</td>\n",
       "      <td>...</td>\n",
       "      <td>...</td>\n",
       "      <td>...</td>\n",
       "    </tr>\n",
       "    <tr>\n",
       "      <th>95</th>\n",
       "      <td>Madelyn</td>\n",
       "      <td>Alexander</td>\n",
       "      <td>female</td>\n",
       "      <td>28</td>\n",
       "      <td>Marketing</td>\n",
       "      <td>XW0927</td>\n",
       "    </tr>\n",
       "    <tr>\n",
       "      <th>96</th>\n",
       "      <td>Brayden</td>\n",
       "      <td>Russell</td>\n",
       "      <td>male</td>\n",
       "      <td>66</td>\n",
       "      <td>HHRR</td>\n",
       "      <td>GM6112</td>\n",
       "    </tr>\n",
       "    <tr>\n",
       "      <th>97</th>\n",
       "      <td>Elena</td>\n",
       "      <td>Griffin</td>\n",
       "      <td>female</td>\n",
       "      <td>42</td>\n",
       "      <td>Sales</td>\n",
       "      <td>GH4345</td>\n",
       "    </tr>\n",
       "    <tr>\n",
       "      <th>98</th>\n",
       "      <td>Oliver</td>\n",
       "      <td>Diaz</td>\n",
       "      <td>male</td>\n",
       "      <td>48</td>\n",
       "      <td>Marketing</td>\n",
       "      <td>YT8719</td>\n",
       "    </tr>\n",
       "    <tr>\n",
       "      <th>99</th>\n",
       "      <td>Anna</td>\n",
       "      <td>Hayes</td>\n",
       "      <td>female</td>\n",
       "      <td>35</td>\n",
       "      <td>Account</td>\n",
       "      <td>PW9369</td>\n",
       "    </tr>\n",
       "  </tbody>\n",
       "</table>\n",
       "<p>100 rows × 6 columns</p>\n",
       "</div>"
      ],
      "text/plain": [
       "       Name    Surname  Gender  Age WorkDepartment      ID\n",
       "0      John      Smith    male   53           HHRR  GX1598\n",
       "1     Emily    Johnson  female   44      Marketing  IC7215\n",
       "2   Michael   Williams    male   60        Account  OS3741\n",
       "3     Sarah      Jones  female   44          Sales  XV5219\n",
       "4     David      Brown    male   67           HHRR  FE5949\n",
       "..      ...        ...     ...  ...            ...     ...\n",
       "95  Madelyn  Alexander  female   28      Marketing  XW0927\n",
       "96  Brayden    Russell    male   66           HHRR  GM6112\n",
       "97    Elena    Griffin  female   42          Sales  GH4345\n",
       "98   Oliver       Diaz    male   48      Marketing  YT8719\n",
       "99     Anna      Hayes  female   35        Account  PW9369\n",
       "\n",
       "[100 rows x 6 columns]"
      ]
     },
     "execution_count": 20,
     "metadata": {},
     "output_type": "execute_result"
    }
   ],
   "source": [
    "# Let's create to function to get the Id\n",
    "def generate_id():\n",
    "    letters = string.ascii_letters.upper()\n",
    "    numbers = string.digits\n",
    "    random_letters = ''.join(random.choice(letters) for i in range(2))\n",
    "    random_numbers = ''.join(random.choice(numbers) for i in range(4))\n",
    "    return random_letters + random_numbers\n",
    "\n",
    "# Our ID column with their random values\n",
    "colacho_df['ID'] = colacho_df.apply(lambda row: generate_id(), axis=1)\n",
    "\n",
    "# Checking if works fine\n",
    "# print(colacho_df.head(10))\n",
    "colacho_df"
   ]
  }
 ],
 "metadata": {
  "kernelspec": {
   "display_name": "base",
   "language": "python",
   "name": "python3"
  },
  "language_info": {
   "codemirror_mode": {
    "name": "ipython",
    "version": 3
   },
   "file_extension": ".py",
   "mimetype": "text/x-python",
   "name": "python",
   "nbconvert_exporter": "python",
   "pygments_lexer": "ipython3",
   "version": "3.11.4"
  }
 },
 "nbformat": 4,
 "nbformat_minor": 2
}
