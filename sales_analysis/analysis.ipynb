{
 "cells": [
  {
   "cell_type": "markdown",
   "metadata": {},
   "source": [
    "# Sales Analysis\n",
    "\n",
    "### Solving real-world data science tasks - from Keith Galli\n",
    "### https://www.youtube.com/watch?v=eMOA1pPVUc4"
   ]
  },
  {
   "cell_type": "markdown",
   "metadata": {},
   "source": [
    "<i>I did this project to practice my Python skills. I wanted to work with a large database and also practice solving sales data analysis problems. My approach was to try to solve the problems using my code, and when I got stuck, I used what the video showed; this is also practice.\n",
    "I will try to create and answer my questions and use the data to practice with Tableau. </i>"
   ]
  },
  {
   "cell_type": "markdown",
   "metadata": {},
   "source": [
    "### 1. Import libraries"
   ]
  },
  {
   "cell_type": "code",
   "execution_count": 1,
   "metadata": {},
   "outputs": [],
   "source": [
    "import pandas as pd\n",
    "import numpy as np"
   ]
  },
  {
   "cell_type": "markdown",
   "metadata": {},
   "source": [
    "### 2. Merging 12 months of data into a single file\n",
    "\n",
    "<p>We have 12 months of data, and to work with all of it, we are going to <u>merge</u> the files into a single one. We open all the files and then merge them into a variable. Then we save the data into a .csv file.</p>"
   ]
  },
  {
   "cell_type": "code",
   "execution_count": 2,
   "metadata": {},
   "outputs": [
    {
     "name": "stdout",
     "output_type": "stream",
     "text": [
      "<class 'pandas.core.frame.DataFrame'>\n",
      "RangeIndex: 186850 entries, 0 to 186849\n",
      "Data columns (total 6 columns):\n",
      " #   Column            Non-Null Count   Dtype \n",
      "---  ------            --------------   ----- \n",
      " 0   Order ID          186305 non-null  object\n",
      " 1   Product           186305 non-null  object\n",
      " 2   Quantity Ordered  186305 non-null  object\n",
      " 3   Price Each        186305 non-null  object\n",
      " 4   Order Date        186305 non-null  object\n",
      " 5   Purchase Address  186305 non-null  object\n",
      "dtypes: object(6)\n",
      "memory usage: 8.6+ MB\n"
     ]
    }
   ],
   "source": [
    "# Merging the data\n",
    "df_2019 = pd.concat(\n",
    "    map(pd.read_csv, ['../sales_analysis/csv_files/Sales_January_2019.csv', \n",
    "                    '../sales_analysis/csv_files/Sales_february_2019.csv', \n",
    "                    '../sales_analysis/csv_files/Sales_March_2019.csv', \n",
    "                    '../sales_analysis/csv_files/Sales_April_2019.csv', \n",
    "                    '../sales_analysis/csv_files/Sales_May_2019.csv', \n",
    "                    '../sales_analysis/csv_files/Sales_June_2019.csv', \n",
    "                    '../sales_analysis/csv_files/Sales_July_2019.csv', \n",
    "                    '../sales_analysis/csv_files/Sales_August_2019.csv', \n",
    "                    '../sales_analysis/csv_files/Sales_September_2019.csv', \n",
    "                    '../sales_analysis/csv_files/Sales_October_2019.csv', \n",
    "                    '../sales_analysis/csv_files/Sales_November_2019.csv', \n",
    "                    '../sales_analysis/csv_files/Sales_December_2019.csv']), ignore_index = True)\n",
    "\n",
    "# print(df_2019)\n",
    "df_2019.info()\n",
    "# Create a csv file with the merged data\n",
    "df_2019.to_csv('SalesData_2019.csv', index=False)"
   ]
  },
  {
   "cell_type": "markdown",
   "metadata": {},
   "source": [
    "<p>Merging the data by using <b>os.path.join</b></p>"
   ]
  },
  {
   "cell_type": "code",
   "execution_count": 3,
   "metadata": {},
   "outputs": [
    {
     "name": "stdout",
     "output_type": "stream",
     "text": [
      "Sales_April_2019.csv\n",
      "Sales_August_2019.csv\n",
      "Sales_December_2019.csv\n",
      "Sales_February_2019.csv\n",
      "Sales_January_2019.csv\n",
      "Sales_July_2019.csv\n",
      "Sales_June_2019.csv\n",
      "Sales_March_2019.csv\n",
      "Sales_May_2019.csv\n",
      "Sales_November_2019.csv\n",
      "Sales_October_2019.csv\n",
      "Sales_September_2019.csv\n"
     ]
    }
   ],
   "source": [
    "import os\n",
    "\n",
    "# We create a list with all the files\n",
    "filesList = [ file for file in os.listdir('./csv_files/')]\n",
    "\n",
    "# Checking if filesList works correctly\n",
    "for file in filesList:\n",
    "    print(file)"
   ]
  },
  {
   "cell_type": "code",
   "execution_count": 4,
   "metadata": {},
   "outputs": [
    {
     "name": "stdout",
     "output_type": "stream",
     "text": [
      "<class 'pandas.core.frame.DataFrame'>\n",
      "Int64Index: 186850 entries, 0 to 11685\n",
      "Data columns (total 6 columns):\n",
      " #   Column            Non-Null Count   Dtype \n",
      "---  ------            --------------   ----- \n",
      " 0   Order ID          186305 non-null  object\n",
      " 1   Product           186305 non-null  object\n",
      " 2   Quantity Ordered  186305 non-null  object\n",
      " 3   Price Each        186305 non-null  object\n",
      " 4   Order Date        186305 non-null  object\n",
      " 5   Purchase Address  186305 non-null  object\n",
      "dtypes: object(6)\n",
      "memory usage: 10.0+ MB\n"
     ]
    }
   ],
   "source": [
    "# First lets create our DataFrame\n",
    "all_data_2019 = pd.DataFrame()\n",
    "\n",
    "# Now we loop trough filesList\n",
    "for file in filesList:\n",
    "    df = pd.read_csv('./csv_files/'+file)\n",
    "    all_data_2019 = pd.concat([all_data_2019, df])\n",
    "    \n",
    "# checking if the data merge correctly\n",
    "all_data_2019.info()"
   ]
  },
  {
   "cell_type": "code",
   "execution_count": 5,
   "metadata": {},
   "outputs": [],
   "source": [
    "# Create a csv file with the merged data\n",
    "# all_data_2019.to_csv('SalesData_2019.csv', index=False)"
   ]
  },
  {
   "cell_type": "markdown",
   "metadata": {},
   "source": [
    "### 3. Working with our new DataFrame\n",
    "\n",
    "<p>It's time to work with our data frame. We will start exploring and cleaning the data. For future analysis, we need to check that the data types are correct and that we don´t have <i>NaN or null values</i></p>"
   ]
  },
  {
   "cell_type": "code",
   "execution_count": 6,
   "metadata": {},
   "outputs": [
    {
     "data": {
      "text/html": [
       "<div>\n",
       "<style scoped>\n",
       "    .dataframe tbody tr th:only-of-type {\n",
       "        vertical-align: middle;\n",
       "    }\n",
       "\n",
       "    .dataframe tbody tr th {\n",
       "        vertical-align: top;\n",
       "    }\n",
       "\n",
       "    .dataframe thead th {\n",
       "        text-align: right;\n",
       "    }\n",
       "</style>\n",
       "<table border=\"1\" class=\"dataframe\">\n",
       "  <thead>\n",
       "    <tr style=\"text-align: right;\">\n",
       "      <th></th>\n",
       "      <th>Order ID</th>\n",
       "      <th>Product</th>\n",
       "      <th>Quantity Ordered</th>\n",
       "      <th>Price Each</th>\n",
       "      <th>Order Date</th>\n",
       "      <th>Purchase Address</th>\n",
       "    </tr>\n",
       "  </thead>\n",
       "  <tbody>\n",
       "    <tr>\n",
       "      <th>0</th>\n",
       "      <td>141234</td>\n",
       "      <td>iPhone</td>\n",
       "      <td>1</td>\n",
       "      <td>700</td>\n",
       "      <td>01/22/19 21:25</td>\n",
       "      <td>944 Walnut St, Boston, MA 02215</td>\n",
       "    </tr>\n",
       "    <tr>\n",
       "      <th>1</th>\n",
       "      <td>141235</td>\n",
       "      <td>Lightning Charging Cable</td>\n",
       "      <td>1</td>\n",
       "      <td>14.95</td>\n",
       "      <td>01/28/19 14:15</td>\n",
       "      <td>185 Maple St, Portland, OR 97035</td>\n",
       "    </tr>\n",
       "    <tr>\n",
       "      <th>2</th>\n",
       "      <td>141236</td>\n",
       "      <td>Wired Headphones</td>\n",
       "      <td>2</td>\n",
       "      <td>11.99</td>\n",
       "      <td>01/17/19 13:33</td>\n",
       "      <td>538 Adams St, San Francisco, CA 94016</td>\n",
       "    </tr>\n",
       "    <tr>\n",
       "      <th>3</th>\n",
       "      <td>141237</td>\n",
       "      <td>27in FHD Monitor</td>\n",
       "      <td>1</td>\n",
       "      <td>149.99</td>\n",
       "      <td>01/05/19 20:33</td>\n",
       "      <td>738 10th St, Los Angeles, CA 90001</td>\n",
       "    </tr>\n",
       "    <tr>\n",
       "      <th>4</th>\n",
       "      <td>141238</td>\n",
       "      <td>Wired Headphones</td>\n",
       "      <td>1</td>\n",
       "      <td>11.99</td>\n",
       "      <td>01/25/19 11:59</td>\n",
       "      <td>387 10th St, Austin, TX 73301</td>\n",
       "    </tr>\n",
       "  </tbody>\n",
       "</table>\n",
       "</div>"
      ],
      "text/plain": [
       "  Order ID                   Product Quantity Ordered Price Each  \\\n",
       "0   141234                    iPhone                1        700   \n",
       "1   141235  Lightning Charging Cable                1      14.95   \n",
       "2   141236          Wired Headphones                2      11.99   \n",
       "3   141237          27in FHD Monitor                1     149.99   \n",
       "4   141238          Wired Headphones                1      11.99   \n",
       "\n",
       "       Order Date                       Purchase Address  \n",
       "0  01/22/19 21:25        944 Walnut St, Boston, MA 02215  \n",
       "1  01/28/19 14:15       185 Maple St, Portland, OR 97035  \n",
       "2  01/17/19 13:33  538 Adams St, San Francisco, CA 94016  \n",
       "3  01/05/19 20:33     738 10th St, Los Angeles, CA 90001  \n",
       "4  01/25/19 11:59          387 10th St, Austin, TX 73301  "
      ]
     },
     "execution_count": 6,
     "metadata": {},
     "output_type": "execute_result"
    }
   ],
   "source": [
    "df_all_data = pd.read_csv('SalesData_2019.csv')\n",
    "df_all_data.head()"
   ]
  },
  {
   "cell_type": "markdown",
   "metadata": {},
   "source": [
    "#### 3.1 Explore the dataframe\n",
    "\n",
    "<p>Checking the column names we are working with.</p>\n"
   ]
  },
  {
   "cell_type": "code",
   "execution_count": 7,
   "metadata": {},
   "outputs": [
    {
     "data": {
      "text/plain": [
       "Index(['Order ID', 'Product', 'Quantity Ordered', 'Price Each', 'Order Date',\n",
       "       'Purchase Address'],\n",
       "      dtype='object')"
      ]
     },
     "execution_count": 7,
     "metadata": {},
     "output_type": "execute_result"
    }
   ],
   "source": [
    "df_all_data.columns"
   ]
  },
  {
   "cell_type": "markdown",
   "metadata": {},
   "source": [
    "<p>We are dropping all <i>NaN or null values</i>. We can also count how many NaN or null values we have to acknowledge if we are missing a lot of data.</p>"
   ]
  },
  {
   "cell_type": "code",
   "execution_count": 8,
   "metadata": {},
   "outputs": [
    {
     "data": {
      "text/html": [
       "<div>\n",
       "<style scoped>\n",
       "    .dataframe tbody tr th:only-of-type {\n",
       "        vertical-align: middle;\n",
       "    }\n",
       "\n",
       "    .dataframe tbody tr th {\n",
       "        vertical-align: top;\n",
       "    }\n",
       "\n",
       "    .dataframe thead th {\n",
       "        text-align: right;\n",
       "    }\n",
       "</style>\n",
       "<table border=\"1\" class=\"dataframe\">\n",
       "  <thead>\n",
       "    <tr style=\"text-align: right;\">\n",
       "      <th></th>\n",
       "      <th>Order ID</th>\n",
       "      <th>Product</th>\n",
       "      <th>Quantity Ordered</th>\n",
       "      <th>Price Each</th>\n",
       "      <th>Order Date</th>\n",
       "      <th>Purchase Address</th>\n",
       "    </tr>\n",
       "  </thead>\n",
       "  <tbody>\n",
       "    <tr>\n",
       "      <th>0</th>\n",
       "      <td>141234</td>\n",
       "      <td>iPhone</td>\n",
       "      <td>1</td>\n",
       "      <td>700</td>\n",
       "      <td>01/22/19 21:25</td>\n",
       "      <td>944 Walnut St, Boston, MA 02215</td>\n",
       "    </tr>\n",
       "    <tr>\n",
       "      <th>1</th>\n",
       "      <td>141235</td>\n",
       "      <td>Lightning Charging Cable</td>\n",
       "      <td>1</td>\n",
       "      <td>14.95</td>\n",
       "      <td>01/28/19 14:15</td>\n",
       "      <td>185 Maple St, Portland, OR 97035</td>\n",
       "    </tr>\n",
       "    <tr>\n",
       "      <th>2</th>\n",
       "      <td>141236</td>\n",
       "      <td>Wired Headphones</td>\n",
       "      <td>2</td>\n",
       "      <td>11.99</td>\n",
       "      <td>01/17/19 13:33</td>\n",
       "      <td>538 Adams St, San Francisco, CA 94016</td>\n",
       "    </tr>\n",
       "    <tr>\n",
       "      <th>3</th>\n",
       "      <td>141237</td>\n",
       "      <td>27in FHD Monitor</td>\n",
       "      <td>1</td>\n",
       "      <td>149.99</td>\n",
       "      <td>01/05/19 20:33</td>\n",
       "      <td>738 10th St, Los Angeles, CA 90001</td>\n",
       "    </tr>\n",
       "    <tr>\n",
       "      <th>4</th>\n",
       "      <td>141238</td>\n",
       "      <td>Wired Headphones</td>\n",
       "      <td>1</td>\n",
       "      <td>11.99</td>\n",
       "      <td>01/25/19 11:59</td>\n",
       "      <td>387 10th St, Austin, TX 73301</td>\n",
       "    </tr>\n",
       "    <tr>\n",
       "      <th>...</th>\n",
       "      <td>...</td>\n",
       "      <td>...</td>\n",
       "      <td>...</td>\n",
       "      <td>...</td>\n",
       "      <td>...</td>\n",
       "      <td>...</td>\n",
       "    </tr>\n",
       "    <tr>\n",
       "      <th>186845</th>\n",
       "      <td>319666</td>\n",
       "      <td>Lightning Charging Cable</td>\n",
       "      <td>1</td>\n",
       "      <td>14.95</td>\n",
       "      <td>12/11/19 20:58</td>\n",
       "      <td>14 Madison St, San Francisco, CA 94016</td>\n",
       "    </tr>\n",
       "    <tr>\n",
       "      <th>186846</th>\n",
       "      <td>319667</td>\n",
       "      <td>AA Batteries (4-pack)</td>\n",
       "      <td>2</td>\n",
       "      <td>3.84</td>\n",
       "      <td>12/01/19 12:01</td>\n",
       "      <td>549 Willow St, Los Angeles, CA 90001</td>\n",
       "    </tr>\n",
       "    <tr>\n",
       "      <th>186847</th>\n",
       "      <td>319668</td>\n",
       "      <td>Vareebadd Phone</td>\n",
       "      <td>1</td>\n",
       "      <td>400</td>\n",
       "      <td>12/09/19 06:43</td>\n",
       "      <td>273 Wilson St, Seattle, WA 98101</td>\n",
       "    </tr>\n",
       "    <tr>\n",
       "      <th>186848</th>\n",
       "      <td>319669</td>\n",
       "      <td>Wired Headphones</td>\n",
       "      <td>1</td>\n",
       "      <td>11.99</td>\n",
       "      <td>12/03/19 10:39</td>\n",
       "      <td>778 River St, Dallas, TX 75001</td>\n",
       "    </tr>\n",
       "    <tr>\n",
       "      <th>186849</th>\n",
       "      <td>319670</td>\n",
       "      <td>Bose SoundSport Headphones</td>\n",
       "      <td>1</td>\n",
       "      <td>99.99</td>\n",
       "      <td>12/21/19 21:45</td>\n",
       "      <td>747 Chestnut St, Los Angeles, CA 90001</td>\n",
       "    </tr>\n",
       "  </tbody>\n",
       "</table>\n",
       "<p>186305 rows × 6 columns</p>\n",
       "</div>"
      ],
      "text/plain": [
       "       Order ID                     Product Quantity Ordered Price Each  \\\n",
       "0        141234                      iPhone                1        700   \n",
       "1        141235    Lightning Charging Cable                1      14.95   \n",
       "2        141236            Wired Headphones                2      11.99   \n",
       "3        141237            27in FHD Monitor                1     149.99   \n",
       "4        141238            Wired Headphones                1      11.99   \n",
       "...         ...                         ...              ...        ...   \n",
       "186845   319666    Lightning Charging Cable                1      14.95   \n",
       "186846   319667       AA Batteries (4-pack)                2       3.84   \n",
       "186847   319668             Vareebadd Phone                1        400   \n",
       "186848   319669            Wired Headphones                1      11.99   \n",
       "186849   319670  Bose SoundSport Headphones                1      99.99   \n",
       "\n",
       "            Order Date                        Purchase Address  \n",
       "0       01/22/19 21:25         944 Walnut St, Boston, MA 02215  \n",
       "1       01/28/19 14:15        185 Maple St, Portland, OR 97035  \n",
       "2       01/17/19 13:33   538 Adams St, San Francisco, CA 94016  \n",
       "3       01/05/19 20:33      738 10th St, Los Angeles, CA 90001  \n",
       "4       01/25/19 11:59           387 10th St, Austin, TX 73301  \n",
       "...                ...                                     ...  \n",
       "186845  12/11/19 20:58  14 Madison St, San Francisco, CA 94016  \n",
       "186846  12/01/19 12:01    549 Willow St, Los Angeles, CA 90001  \n",
       "186847  12/09/19 06:43        273 Wilson St, Seattle, WA 98101  \n",
       "186848  12/03/19 10:39          778 River St, Dallas, TX 75001  \n",
       "186849  12/21/19 21:45  747 Chestnut St, Los Angeles, CA 90001  \n",
       "\n",
       "[186305 rows x 6 columns]"
      ]
     },
     "execution_count": 8,
     "metadata": {},
     "output_type": "execute_result"
    }
   ],
   "source": [
    "df_all_data.dropna(axis=0, inplace=True)\n",
    "df_all_data\n",
    "\n",
    "# Searching for NaN or null values in 'Product' column\n",
    "# missing_values = df_all_data['Product'].isnull().sum()\n",
    "# print(\"Number of missing values: \", missing_values)"
   ]
  },
  {
   "cell_type": "markdown",
   "metadata": {},
   "source": [
    "<p>We will use the .unique() method to search for values that are not corresponding to the data that is needed. For example, we are going to work with the 'Order Date' column so we expect day and hour data type values, with the .unique() method we ensure all the values in the column are date type.</p>"
   ]
  },
  {
   "cell_type": "code",
   "execution_count": 9,
   "metadata": {},
   "outputs": [
    {
     "data": {
      "text/plain": [
       "array(['01/22/19 21:25', '01/28/19 14:15', '01/17/19 13:33', ...,\n",
       "       '12/01/19 12:01', '12/09/19 06:43', '12/03/19 10:39'], dtype=object)"
      ]
     },
     "execution_count": 9,
     "metadata": {},
     "output_type": "execute_result"
    }
   ],
   "source": [
    "df_all_data['Order Date'].unique()"
   ]
  },
  {
   "cell_type": "markdown",
   "metadata": {},
   "source": [
    "<p>Using a <u>for loop</u> to convert the data into datetime data type, if the data can not be converted, we will append the index into an array and then delete it.</p>"
   ]
  },
  {
   "cell_type": "code",
   "execution_count": 10,
   "metadata": {},
   "outputs": [
    {
     "name": "stdout",
     "output_type": "stream",
     "text": [
      "       Order ID                     Product Quantity Ordered Price Each  \\\n",
      "0        141234                      iPhone                1        700   \n",
      "1        141235    Lightning Charging Cable                1      14.95   \n",
      "2        141236            Wired Headphones                2      11.99   \n",
      "3        141237            27in FHD Monitor                1     149.99   \n",
      "4        141238            Wired Headphones                1      11.99   \n",
      "...         ...                         ...              ...        ...   \n",
      "186845   319666    Lightning Charging Cable                1      14.95   \n",
      "186846   319667       AA Batteries (4-pack)                2       3.84   \n",
      "186847   319668             Vareebadd Phone                1        400   \n",
      "186848   319669            Wired Headphones                1      11.99   \n",
      "186849   319670  Bose SoundSport Headphones                1      99.99   \n",
      "\n",
      "            Order Date                        Purchase Address  \n",
      "0       01/22/19 21:25         944 Walnut St, Boston, MA 02215  \n",
      "1       01/28/19 14:15        185 Maple St, Portland, OR 97035  \n",
      "2       01/17/19 13:33   538 Adams St, San Francisco, CA 94016  \n",
      "3       01/05/19 20:33      738 10th St, Los Angeles, CA 90001  \n",
      "4       01/25/19 11:59           387 10th St, Austin, TX 73301  \n",
      "...                ...                                     ...  \n",
      "186845  12/11/19 20:58  14 Madison St, San Francisco, CA 94016  \n",
      "186846  12/01/19 12:01    549 Willow St, Los Angeles, CA 90001  \n",
      "186847  12/09/19 06:43        273 Wilson St, Seattle, WA 98101  \n",
      "186848  12/03/19 10:39          778 River St, Dallas, TX 75001  \n",
      "186849  12/21/19 21:45  747 Chestnut St, Los Angeles, CA 90001  \n",
      "\n",
      "[185950 rows x 6 columns]\n"
     ]
    }
   ],
   "source": [
    "# If some data cannot be converted to_datetime we will search for them and delete it\n",
    "invalid_index = []\n",
    "for index, value in df_all_data['Order Date'].items():\n",
    "    try:\n",
    "        pd.to_datetime(value)\n",
    "    except ValueError:\n",
    "        invalid_index.append(index)\n",
    "        # print(f\"Invalid date format at index {index}: {value}\")\n",
    "        # print(invalid_index)\n",
    "\n",
    "df_all_data.drop(invalid_index, inplace=True)\n",
    "print(df_all_data)        \n"
   ]
  },
  {
   "cell_type": "markdown",
   "metadata": {},
   "source": [
    "<p>Once the data is converted to datetime type, now we separate the data into 'Month', 'Hour', and 'Minute' and store it in three new columns with their corresponding name.</p>"
   ]
  },
  {
   "cell_type": "code",
   "execution_count": 11,
   "metadata": {},
   "outputs": [
    {
     "data": {
      "text/html": [
       "<div>\n",
       "<style scoped>\n",
       "    .dataframe tbody tr th:only-of-type {\n",
       "        vertical-align: middle;\n",
       "    }\n",
       "\n",
       "    .dataframe tbody tr th {\n",
       "        vertical-align: top;\n",
       "    }\n",
       "\n",
       "    .dataframe thead th {\n",
       "        text-align: right;\n",
       "    }\n",
       "</style>\n",
       "<table border=\"1\" class=\"dataframe\">\n",
       "  <thead>\n",
       "    <tr style=\"text-align: right;\">\n",
       "      <th></th>\n",
       "      <th>Order ID</th>\n",
       "      <th>Product</th>\n",
       "      <th>Quantity Ordered</th>\n",
       "      <th>Price Each</th>\n",
       "      <th>Order Date</th>\n",
       "      <th>Month</th>\n",
       "      <th>Hour</th>\n",
       "      <th>Mintue</th>\n",
       "      <th>Purchase Address</th>\n",
       "    </tr>\n",
       "  </thead>\n",
       "  <tbody>\n",
       "    <tr>\n",
       "      <th>0</th>\n",
       "      <td>141234</td>\n",
       "      <td>iPhone</td>\n",
       "      <td>1</td>\n",
       "      <td>700</td>\n",
       "      <td>2019-01-22 21:25:00</td>\n",
       "      <td>1</td>\n",
       "      <td>21</td>\n",
       "      <td>25</td>\n",
       "      <td>944 Walnut St, Boston, MA 02215</td>\n",
       "    </tr>\n",
       "    <tr>\n",
       "      <th>1</th>\n",
       "      <td>141235</td>\n",
       "      <td>Lightning Charging Cable</td>\n",
       "      <td>1</td>\n",
       "      <td>14.95</td>\n",
       "      <td>2019-01-28 14:15:00</td>\n",
       "      <td>1</td>\n",
       "      <td>14</td>\n",
       "      <td>15</td>\n",
       "      <td>185 Maple St, Portland, OR 97035</td>\n",
       "    </tr>\n",
       "    <tr>\n",
       "      <th>2</th>\n",
       "      <td>141236</td>\n",
       "      <td>Wired Headphones</td>\n",
       "      <td>2</td>\n",
       "      <td>11.99</td>\n",
       "      <td>2019-01-17 13:33:00</td>\n",
       "      <td>1</td>\n",
       "      <td>13</td>\n",
       "      <td>33</td>\n",
       "      <td>538 Adams St, San Francisco, CA 94016</td>\n",
       "    </tr>\n",
       "    <tr>\n",
       "      <th>3</th>\n",
       "      <td>141237</td>\n",
       "      <td>27in FHD Monitor</td>\n",
       "      <td>1</td>\n",
       "      <td>149.99</td>\n",
       "      <td>2019-01-05 20:33:00</td>\n",
       "      <td>1</td>\n",
       "      <td>20</td>\n",
       "      <td>33</td>\n",
       "      <td>738 10th St, Los Angeles, CA 90001</td>\n",
       "    </tr>\n",
       "    <tr>\n",
       "      <th>4</th>\n",
       "      <td>141238</td>\n",
       "      <td>Wired Headphones</td>\n",
       "      <td>1</td>\n",
       "      <td>11.99</td>\n",
       "      <td>2019-01-25 11:59:00</td>\n",
       "      <td>1</td>\n",
       "      <td>11</td>\n",
       "      <td>59</td>\n",
       "      <td>387 10th St, Austin, TX 73301</td>\n",
       "    </tr>\n",
       "    <tr>\n",
       "      <th>...</th>\n",
       "      <td>...</td>\n",
       "      <td>...</td>\n",
       "      <td>...</td>\n",
       "      <td>...</td>\n",
       "      <td>...</td>\n",
       "      <td>...</td>\n",
       "      <td>...</td>\n",
       "      <td>...</td>\n",
       "      <td>...</td>\n",
       "    </tr>\n",
       "    <tr>\n",
       "      <th>186845</th>\n",
       "      <td>319666</td>\n",
       "      <td>Lightning Charging Cable</td>\n",
       "      <td>1</td>\n",
       "      <td>14.95</td>\n",
       "      <td>2019-12-11 20:58:00</td>\n",
       "      <td>12</td>\n",
       "      <td>20</td>\n",
       "      <td>58</td>\n",
       "      <td>14 Madison St, San Francisco, CA 94016</td>\n",
       "    </tr>\n",
       "    <tr>\n",
       "      <th>186846</th>\n",
       "      <td>319667</td>\n",
       "      <td>AA Batteries (4-pack)</td>\n",
       "      <td>2</td>\n",
       "      <td>3.84</td>\n",
       "      <td>2019-12-01 12:01:00</td>\n",
       "      <td>12</td>\n",
       "      <td>12</td>\n",
       "      <td>1</td>\n",
       "      <td>549 Willow St, Los Angeles, CA 90001</td>\n",
       "    </tr>\n",
       "    <tr>\n",
       "      <th>186847</th>\n",
       "      <td>319668</td>\n",
       "      <td>Vareebadd Phone</td>\n",
       "      <td>1</td>\n",
       "      <td>400</td>\n",
       "      <td>2019-12-09 06:43:00</td>\n",
       "      <td>12</td>\n",
       "      <td>6</td>\n",
       "      <td>43</td>\n",
       "      <td>273 Wilson St, Seattle, WA 98101</td>\n",
       "    </tr>\n",
       "    <tr>\n",
       "      <th>186848</th>\n",
       "      <td>319669</td>\n",
       "      <td>Wired Headphones</td>\n",
       "      <td>1</td>\n",
       "      <td>11.99</td>\n",
       "      <td>2019-12-03 10:39:00</td>\n",
       "      <td>12</td>\n",
       "      <td>10</td>\n",
       "      <td>39</td>\n",
       "      <td>778 River St, Dallas, TX 75001</td>\n",
       "    </tr>\n",
       "    <tr>\n",
       "      <th>186849</th>\n",
       "      <td>319670</td>\n",
       "      <td>Bose SoundSport Headphones</td>\n",
       "      <td>1</td>\n",
       "      <td>99.99</td>\n",
       "      <td>2019-12-21 21:45:00</td>\n",
       "      <td>12</td>\n",
       "      <td>21</td>\n",
       "      <td>45</td>\n",
       "      <td>747 Chestnut St, Los Angeles, CA 90001</td>\n",
       "    </tr>\n",
       "  </tbody>\n",
       "</table>\n",
       "<p>185950 rows × 9 columns</p>\n",
       "</div>"
      ],
      "text/plain": [
       "       Order ID                     Product Quantity Ordered Price Each  \\\n",
       "0        141234                      iPhone                1        700   \n",
       "1        141235    Lightning Charging Cable                1      14.95   \n",
       "2        141236            Wired Headphones                2      11.99   \n",
       "3        141237            27in FHD Monitor                1     149.99   \n",
       "4        141238            Wired Headphones                1      11.99   \n",
       "...         ...                         ...              ...        ...   \n",
       "186845   319666    Lightning Charging Cable                1      14.95   \n",
       "186846   319667       AA Batteries (4-pack)                2       3.84   \n",
       "186847   319668             Vareebadd Phone                1        400   \n",
       "186848   319669            Wired Headphones                1      11.99   \n",
       "186849   319670  Bose SoundSport Headphones                1      99.99   \n",
       "\n",
       "                Order Date  Month  Hour  Mintue  \\\n",
       "0      2019-01-22 21:25:00      1    21      25   \n",
       "1      2019-01-28 14:15:00      1    14      15   \n",
       "2      2019-01-17 13:33:00      1    13      33   \n",
       "3      2019-01-05 20:33:00      1    20      33   \n",
       "4      2019-01-25 11:59:00      1    11      59   \n",
       "...                    ...    ...   ...     ...   \n",
       "186845 2019-12-11 20:58:00     12    20      58   \n",
       "186846 2019-12-01 12:01:00     12    12       1   \n",
       "186847 2019-12-09 06:43:00     12     6      43   \n",
       "186848 2019-12-03 10:39:00     12    10      39   \n",
       "186849 2019-12-21 21:45:00     12    21      45   \n",
       "\n",
       "                              Purchase Address  \n",
       "0              944 Walnut St, Boston, MA 02215  \n",
       "1             185 Maple St, Portland, OR 97035  \n",
       "2        538 Adams St, San Francisco, CA 94016  \n",
       "3           738 10th St, Los Angeles, CA 90001  \n",
       "4                387 10th St, Austin, TX 73301  \n",
       "...                                        ...  \n",
       "186845  14 Madison St, San Francisco, CA 94016  \n",
       "186846    549 Willow St, Los Angeles, CA 90001  \n",
       "186847        273 Wilson St, Seattle, WA 98101  \n",
       "186848          778 River St, Dallas, TX 75001  \n",
       "186849  747 Chestnut St, Los Angeles, CA 90001  \n",
       "\n",
       "[185950 rows x 9 columns]"
      ]
     },
     "execution_count": 11,
     "metadata": {},
     "output_type": "execute_result"
    }
   ],
   "source": [
    "# Add month column and split the dates\n",
    "df_all_data['Order Date']  = pd.to_datetime(df_all_data['Order Date'])\n",
    "\n",
    "# Extract and add month and hour into separate columns\n",
    "month = df_all_data['Order Date'].dt.month\n",
    "hour = df_all_data['Order Date'].dt.hour\n",
    "minute = df_all_data['Order Date'].dt.minute\n",
    "\n",
    "# Get the index of 'Order Date' column\n",
    "order_index = df_all_data.columns.get_loc('Order Date')\n",
    "\n",
    "# Insert the new columns next to 'Order Date'\n",
    "df_all_data.insert(order_index + 1, 'Month', month)\n",
    "df_all_data.insert(order_index + 2, 'Hour', hour)\n",
    "df_all_data.insert(order_index + 3, 'Mintue', minute)\n",
    "\n",
    "# Drop the intermediate 'Month' and 'Hour' columns if necessary\n",
    "# df_all_data.drop(['Month', 'Hour'], axis=1, inplace=True)\n",
    "\n",
    "df_all_data"
   ]
  },
  {
   "cell_type": "code",
   "execution_count": 12,
   "metadata": {},
   "outputs": [
    {
     "data": {
      "text/plain": [
       "array(['700', '14.95', '11.99', '149.99', '2.99', '389.99', '11.95',\n",
       "       '99.99', '150', '1700', '300', '400', '3.84', '600', '109.99',\n",
       "       '379.99', '999.99', '600.0', '700.0', '150.0', '300.0', '1700.0',\n",
       "       '400.0'], dtype=object)"
      ]
     },
     "execution_count": 12,
     "metadata": {},
     "output_type": "execute_result"
    }
   ],
   "source": [
    "df_all_data['Price Each'].unique()"
   ]
  },
  {
   "cell_type": "code",
   "execution_count": 13,
   "metadata": {},
   "outputs": [
    {
     "data": {
      "text/html": [
       "<div>\n",
       "<style scoped>\n",
       "    .dataframe tbody tr th:only-of-type {\n",
       "        vertical-align: middle;\n",
       "    }\n",
       "\n",
       "    .dataframe tbody tr th {\n",
       "        vertical-align: top;\n",
       "    }\n",
       "\n",
       "    .dataframe thead th {\n",
       "        text-align: right;\n",
       "    }\n",
       "</style>\n",
       "<table border=\"1\" class=\"dataframe\">\n",
       "  <thead>\n",
       "    <tr style=\"text-align: right;\">\n",
       "      <th></th>\n",
       "      <th>Order ID</th>\n",
       "      <th>Product</th>\n",
       "      <th>Quantity Ordered</th>\n",
       "      <th>Price Each</th>\n",
       "      <th>Order Date</th>\n",
       "      <th>Month</th>\n",
       "      <th>Hour</th>\n",
       "      <th>Mintue</th>\n",
       "      <th>Purchase Address</th>\n",
       "    </tr>\n",
       "  </thead>\n",
       "  <tbody>\n",
       "  </tbody>\n",
       "</table>\n",
       "</div>"
      ],
      "text/plain": [
       "Empty DataFrame\n",
       "Columns: [Order ID, Product, Quantity Ordered, Price Each, Order Date, Month, Hour, Mintue, Purchase Address]\n",
       "Index: []"
      ]
     },
     "execution_count": 13,
     "metadata": {},
     "output_type": "execute_result"
    }
   ],
   "source": [
    "# Checking if there are any NaN values in our data\n",
    "nan_rows = df_all_data[df_all_data.isna().any(axis=1)]\n",
    "nan_rows"
   ]
  },
  {
   "cell_type": "markdown",
   "metadata": {},
   "source": [
    "<p>We made a <b>double-check</b> for NaN or null values. Now that the data is clean, we can start with our analysis</p>"
   ]
  },
  {
   "cell_type": "markdown",
   "metadata": {},
   "source": [
    "#### <b><u>Question 1:</u></b> What was the best month for sales? How much was earned that month?\n",
    "\n",
    "<p>We need to <u>break down</u> our problem into <i>small pieces</i>. First, we need to multiply the values from column <i>'Quantity Ordered'</i> with the values from <i>'Price Each'</i>. Let's store the new values in a new column called <i>'Sold'</i>.</p>"
   ]
  },
  {
   "cell_type": "markdown",
   "metadata": {},
   "source": [
    "<p>Before doing our calculations, <u>let's check the data types are correct</u></p>"
   ]
  },
  {
   "cell_type": "code",
   "execution_count": 14,
   "metadata": {},
   "outputs": [
    {
     "data": {
      "text/plain": [
       "dtype('int32')"
      ]
     },
     "execution_count": 14,
     "metadata": {},
     "output_type": "execute_result"
    }
   ],
   "source": [
    "# Checking if 'Quantity Ordered' has integer values as data type\n",
    "df_all_data['Quantity Ordered'].dtypes\n",
    "df_all_data['Quantity Ordered'] = df_all_data['Quantity Ordered'].astype(int)\n",
    "df_all_data['Quantity Ordered'].dtypes"
   ]
  },
  {
   "cell_type": "code",
   "execution_count": 15,
   "metadata": {},
   "outputs": [
    {
     "data": {
      "text/plain": [
       "dtype('float64')"
      ]
     },
     "execution_count": 15,
     "metadata": {},
     "output_type": "execute_result"
    }
   ],
   "source": [
    "# Checking if 'Price Each' has float values as data type\n",
    "df_all_data['Price Each'].dtypes\n",
    "df_all_data['Price Each'] = df_all_data['Price Each'].astype(float)\n",
    "df_all_data['Price Each'].dtypes"
   ]
  },
  {
   "cell_type": "code",
   "execution_count": 16,
   "metadata": {},
   "outputs": [],
   "source": [
    "# We can also use pd.to_numeric to convert our data type to numeric values\n",
    "# df_all_data['Quantity Ordered'] = pd.to_numeric(df_all_data['Quantity Ordered'])\n",
    "# df_all_data['Price Each'] = pd.to_numeric(df_all_data['Price Each'])"
   ]
  },
  {
   "cell_type": "markdown",
   "metadata": {},
   "source": [
    "<p>Now that our data types are correct, we can start with the calculations</p>"
   ]
  },
  {
   "cell_type": "code",
   "execution_count": 17,
   "metadata": {},
   "outputs": [
    {
     "data": {
      "text/html": [
       "<div>\n",
       "<style scoped>\n",
       "    .dataframe tbody tr th:only-of-type {\n",
       "        vertical-align: middle;\n",
       "    }\n",
       "\n",
       "    .dataframe tbody tr th {\n",
       "        vertical-align: top;\n",
       "    }\n",
       "\n",
       "    .dataframe thead th {\n",
       "        text-align: right;\n",
       "    }\n",
       "</style>\n",
       "<table border=\"1\" class=\"dataframe\">\n",
       "  <thead>\n",
       "    <tr style=\"text-align: right;\">\n",
       "      <th></th>\n",
       "      <th>Order ID</th>\n",
       "      <th>Product</th>\n",
       "      <th>Quantity Ordered</th>\n",
       "      <th>Price Each</th>\n",
       "      <th>Order Date</th>\n",
       "      <th>Month</th>\n",
       "      <th>Hour</th>\n",
       "      <th>Mintue</th>\n",
       "      <th>Purchase Address</th>\n",
       "      <th>Sold</th>\n",
       "    </tr>\n",
       "  </thead>\n",
       "  <tbody>\n",
       "    <tr>\n",
       "      <th>0</th>\n",
       "      <td>141234</td>\n",
       "      <td>iPhone</td>\n",
       "      <td>1</td>\n",
       "      <td>700.00</td>\n",
       "      <td>2019-01-22 21:25:00</td>\n",
       "      <td>1</td>\n",
       "      <td>21</td>\n",
       "      <td>25</td>\n",
       "      <td>944 Walnut St, Boston, MA 02215</td>\n",
       "      <td>700.00</td>\n",
       "    </tr>\n",
       "    <tr>\n",
       "      <th>1</th>\n",
       "      <td>141235</td>\n",
       "      <td>Lightning Charging Cable</td>\n",
       "      <td>1</td>\n",
       "      <td>14.95</td>\n",
       "      <td>2019-01-28 14:15:00</td>\n",
       "      <td>1</td>\n",
       "      <td>14</td>\n",
       "      <td>15</td>\n",
       "      <td>185 Maple St, Portland, OR 97035</td>\n",
       "      <td>14.95</td>\n",
       "    </tr>\n",
       "    <tr>\n",
       "      <th>2</th>\n",
       "      <td>141236</td>\n",
       "      <td>Wired Headphones</td>\n",
       "      <td>2</td>\n",
       "      <td>11.99</td>\n",
       "      <td>2019-01-17 13:33:00</td>\n",
       "      <td>1</td>\n",
       "      <td>13</td>\n",
       "      <td>33</td>\n",
       "      <td>538 Adams St, San Francisco, CA 94016</td>\n",
       "      <td>23.98</td>\n",
       "    </tr>\n",
       "    <tr>\n",
       "      <th>3</th>\n",
       "      <td>141237</td>\n",
       "      <td>27in FHD Monitor</td>\n",
       "      <td>1</td>\n",
       "      <td>149.99</td>\n",
       "      <td>2019-01-05 20:33:00</td>\n",
       "      <td>1</td>\n",
       "      <td>20</td>\n",
       "      <td>33</td>\n",
       "      <td>738 10th St, Los Angeles, CA 90001</td>\n",
       "      <td>149.99</td>\n",
       "    </tr>\n",
       "    <tr>\n",
       "      <th>4</th>\n",
       "      <td>141238</td>\n",
       "      <td>Wired Headphones</td>\n",
       "      <td>1</td>\n",
       "      <td>11.99</td>\n",
       "      <td>2019-01-25 11:59:00</td>\n",
       "      <td>1</td>\n",
       "      <td>11</td>\n",
       "      <td>59</td>\n",
       "      <td>387 10th St, Austin, TX 73301</td>\n",
       "      <td>11.99</td>\n",
       "    </tr>\n",
       "    <tr>\n",
       "      <th>...</th>\n",
       "      <td>...</td>\n",
       "      <td>...</td>\n",
       "      <td>...</td>\n",
       "      <td>...</td>\n",
       "      <td>...</td>\n",
       "      <td>...</td>\n",
       "      <td>...</td>\n",
       "      <td>...</td>\n",
       "      <td>...</td>\n",
       "      <td>...</td>\n",
       "    </tr>\n",
       "    <tr>\n",
       "      <th>186845</th>\n",
       "      <td>319666</td>\n",
       "      <td>Lightning Charging Cable</td>\n",
       "      <td>1</td>\n",
       "      <td>14.95</td>\n",
       "      <td>2019-12-11 20:58:00</td>\n",
       "      <td>12</td>\n",
       "      <td>20</td>\n",
       "      <td>58</td>\n",
       "      <td>14 Madison St, San Francisco, CA 94016</td>\n",
       "      <td>14.95</td>\n",
       "    </tr>\n",
       "    <tr>\n",
       "      <th>186846</th>\n",
       "      <td>319667</td>\n",
       "      <td>AA Batteries (4-pack)</td>\n",
       "      <td>2</td>\n",
       "      <td>3.84</td>\n",
       "      <td>2019-12-01 12:01:00</td>\n",
       "      <td>12</td>\n",
       "      <td>12</td>\n",
       "      <td>1</td>\n",
       "      <td>549 Willow St, Los Angeles, CA 90001</td>\n",
       "      <td>7.68</td>\n",
       "    </tr>\n",
       "    <tr>\n",
       "      <th>186847</th>\n",
       "      <td>319668</td>\n",
       "      <td>Vareebadd Phone</td>\n",
       "      <td>1</td>\n",
       "      <td>400.00</td>\n",
       "      <td>2019-12-09 06:43:00</td>\n",
       "      <td>12</td>\n",
       "      <td>6</td>\n",
       "      <td>43</td>\n",
       "      <td>273 Wilson St, Seattle, WA 98101</td>\n",
       "      <td>400.00</td>\n",
       "    </tr>\n",
       "    <tr>\n",
       "      <th>186848</th>\n",
       "      <td>319669</td>\n",
       "      <td>Wired Headphones</td>\n",
       "      <td>1</td>\n",
       "      <td>11.99</td>\n",
       "      <td>2019-12-03 10:39:00</td>\n",
       "      <td>12</td>\n",
       "      <td>10</td>\n",
       "      <td>39</td>\n",
       "      <td>778 River St, Dallas, TX 75001</td>\n",
       "      <td>11.99</td>\n",
       "    </tr>\n",
       "    <tr>\n",
       "      <th>186849</th>\n",
       "      <td>319670</td>\n",
       "      <td>Bose SoundSport Headphones</td>\n",
       "      <td>1</td>\n",
       "      <td>99.99</td>\n",
       "      <td>2019-12-21 21:45:00</td>\n",
       "      <td>12</td>\n",
       "      <td>21</td>\n",
       "      <td>45</td>\n",
       "      <td>747 Chestnut St, Los Angeles, CA 90001</td>\n",
       "      <td>99.99</td>\n",
       "    </tr>\n",
       "  </tbody>\n",
       "</table>\n",
       "<p>185950 rows × 10 columns</p>\n",
       "</div>"
      ],
      "text/plain": [
       "       Order ID                     Product  Quantity Ordered  Price Each  \\\n",
       "0        141234                      iPhone                 1      700.00   \n",
       "1        141235    Lightning Charging Cable                 1       14.95   \n",
       "2        141236            Wired Headphones                 2       11.99   \n",
       "3        141237            27in FHD Monitor                 1      149.99   \n",
       "4        141238            Wired Headphones                 1       11.99   \n",
       "...         ...                         ...               ...         ...   \n",
       "186845   319666    Lightning Charging Cable                 1       14.95   \n",
       "186846   319667       AA Batteries (4-pack)                 2        3.84   \n",
       "186847   319668             Vareebadd Phone                 1      400.00   \n",
       "186848   319669            Wired Headphones                 1       11.99   \n",
       "186849   319670  Bose SoundSport Headphones                 1       99.99   \n",
       "\n",
       "                Order Date  Month  Hour  Mintue  \\\n",
       "0      2019-01-22 21:25:00      1    21      25   \n",
       "1      2019-01-28 14:15:00      1    14      15   \n",
       "2      2019-01-17 13:33:00      1    13      33   \n",
       "3      2019-01-05 20:33:00      1    20      33   \n",
       "4      2019-01-25 11:59:00      1    11      59   \n",
       "...                    ...    ...   ...     ...   \n",
       "186845 2019-12-11 20:58:00     12    20      58   \n",
       "186846 2019-12-01 12:01:00     12    12       1   \n",
       "186847 2019-12-09 06:43:00     12     6      43   \n",
       "186848 2019-12-03 10:39:00     12    10      39   \n",
       "186849 2019-12-21 21:45:00     12    21      45   \n",
       "\n",
       "                              Purchase Address    Sold  \n",
       "0              944 Walnut St, Boston, MA 02215  700.00  \n",
       "1             185 Maple St, Portland, OR 97035   14.95  \n",
       "2        538 Adams St, San Francisco, CA 94016   23.98  \n",
       "3           738 10th St, Los Angeles, CA 90001  149.99  \n",
       "4                387 10th St, Austin, TX 73301   11.99  \n",
       "...                                        ...     ...  \n",
       "186845  14 Madison St, San Francisco, CA 94016   14.95  \n",
       "186846    549 Willow St, Los Angeles, CA 90001    7.68  \n",
       "186847        273 Wilson St, Seattle, WA 98101  400.00  \n",
       "186848          778 River St, Dallas, TX 75001   11.99  \n",
       "186849  747 Chestnut St, Los Angeles, CA 90001   99.99  \n",
       "\n",
       "[185950 rows x 10 columns]"
      ]
     },
     "execution_count": 17,
     "metadata": {},
     "output_type": "execute_result"
    }
   ],
   "source": [
    "# Remember we are going to put the new values into a new column named 'Sold'\n",
    "df_all_data['Sold'] = df_all_data['Quantity Ordered'] * df_all_data['Price Each']\n",
    "df_all_data"
   ]
  },
  {
   "cell_type": "code",
   "execution_count": 18,
   "metadata": {},
   "outputs": [
    {
     "name": "stdout",
     "output_type": "stream",
     "text": [
      "       Quantity Ordered  Price Each    Hour  Mintue        Sold\n",
      "Month                                                          \n",
      "1                 10903  1811768.38  139485  282440  1822256.73\n",
      "2                 13449  2188884.72  172669  354885  2202022.42\n",
      "3                 17005  2791207.83  218969  447559  2807100.38\n",
      "4                 20558  3367671.02  262259  544186  3390670.24\n",
      "5                 18667  3135125.13  238780  487899  3152606.75\n",
      "6                 15253  2562025.61  195528  402436  2577802.26\n",
      "7                 16072  2632539.56  206169  417349  2647775.76\n",
      "8                 13448  2230345.42  172289  353857  2244467.88\n",
      "9                 13109  2084992.09  168513  341698  2097560.13\n",
      "10                22703  3715554.83  290650  598437  3736726.88\n",
      "11                19798  3180600.68  254865  518231  3199603.20\n",
      "12                28114  4588415.41  359978  733082  4613443.34\n"
     ]
    },
    {
     "name": "stderr",
     "output_type": "stream",
     "text": [
      "C:\\Users\\imgal\\AppData\\Local\\Temp\\ipykernel_14636\\1279158204.py:2: FutureWarning: The default value of numeric_only in DataFrameGroupBy.sum is deprecated. In a future version, numeric_only will default to False. Either specify numeric_only or select only columns which should be valid for the function.\n",
      "  best_month = df_all_data.groupby('Month').sum()\n"
     ]
    }
   ],
   "source": [
    "# We use group by to group the data by month, also we will storage in a variable\n",
    "best_month = df_all_data.groupby('Month').sum()\n",
    "print(best_month)"
   ]
  },
  {
   "cell_type": "markdown",
   "metadata": {},
   "source": [
    "<p>Importing Matplotlib to visualize the data</p>"
   ]
  },
  {
   "cell_type": "code",
   "execution_count": 19,
   "metadata": {},
   "outputs": [
    {
     "data": {
      "image/png": "[encoded data removed]",
      "text/plain": [
       "<Figure size 640x480 with 1 Axes>"
      ]
     },
     "metadata": {},
     "output_type": "display_data"
    }
   ],
   "source": [
    "import matplotlib.pyplot as plt\n",
    "\n",
    "# Creating a range for the months\n",
    "months = range(1,13)\n",
    "\n",
    "# The plot\n",
    "plt.bar(months, best_month['Sold'])\n",
    "plt.xticks(months)\n",
    "plt.xlabel('Months Nº')\n",
    "plt.ylabel('Sales')\n",
    "plt.title('Best Month of Sales')\n",
    "plt.show()"
   ]
  },
  {
   "cell_type": "code",
   "execution_count": 20,
   "metadata": {},
   "outputs": [
    {
     "data": {
      "image/png": "[encoded data removed]",
      "text/plain": [
       "<Figure size 640x480 with 1 Axes>"
      ]
     },
     "metadata": {},
     "output_type": "display_data"
    }
   ],
   "source": [
    "import matplotlib.ticker as ticker\n",
    "\n",
    "# Creating a range for the months\n",
    "months = range(1,13)\n",
    "\n",
    "# The plot\n",
    "plt.plot(months, best_month['Sold'])\n",
    "plt.xticks(months)\n",
    "plt.xlabel('Months Nº')\n",
    "plt.ylabel('Sales')\n",
    "plt.title('Best Month of Sales')\n",
    "\n",
    "# Formatting the y-axis labels\n",
    "formatter = ticker.FuncFormatter(lambda x, pos: '${:,.0f}'.format(x))  # Format as currency\n",
    "plt.gca().yaxis.set_major_formatter(formatter)\n",
    "\n",
    "plt.show()"
   ]
  },
  {
   "cell_type": "markdown",
   "metadata": {},
   "source": [
    "<p>Looking at the data and then at the charts we can say that December was the month with the most sales. The online store registered a high in sales till April, then the sales started to decrease, registering September as the month with the lowest sales. By then the sales started to go up again, this increase may have been motivated by the holiday sales of BlackFriday and Christmans.</p>"
   ]
  },
  {
   "cell_type": "markdown",
   "metadata": {},
   "source": [
    "#### <b><u>Question 2:</u></b> What city has the highest number of sales?\n",
    "\n",
    "<p>To answer this question we are going to use the 'Purchase Address' column. First, we need to ensure that we are working with <u>string values</u>. Second, we will <u>split</u> the strings to only use the names of the cities. We can also use the state code</p>"
   ]
  },
  {
   "cell_type": "code",
   "execution_count": 21,
   "metadata": {},
   "outputs": [
    {
     "data": {
      "text/plain": [
       "array(['944 Walnut St, Boston, MA 02215',\n",
       "       '185 Maple St, Portland, OR 97035',\n",
       "       '538 Adams St, San Francisco, CA 94016', ...,\n",
       "       '273 Wilson St, Seattle, WA 98101',\n",
       "       '778 River St, Dallas, TX 75001',\n",
       "       '747 Chestnut St, Los Angeles, CA 90001'], dtype=object)"
      ]
     },
     "execution_count": 21,
     "metadata": {},
     "output_type": "execute_result"
    }
   ],
   "source": [
    "# Checking if we have string values in the 'Purchase Address' column\n",
    "\n",
    "df_all_data['Purchase Address'].dtype\n",
    "df_all_data['Purchase Address'].unique()\n",
    "# df_all_data['Purchase Address'] = df_all_data['Purchase Address'].map(str)\n",
    "# df_all_data['Purchase Address']\n"
   ]
  },
  {
   "cell_type": "code",
   "execution_count": 22,
   "metadata": {},
   "outputs": [
    {
     "name": "stdout",
     "output_type": "stream",
     "text": [
      "[]\n"
     ]
    }
   ],
   "source": [
    "# Checking and deleting NaN values.\n",
    "invalid_nan = []\n",
    "for index, value in df_all_data['Purchase Address'].items():\n",
    "    if pd.isnull(value):\n",
    "        invalid_nan.append(index)\n",
    "        \n",
    "print(invalid_nan)\n",
    "\n",
    "# all_data_2019.dropna(subset=['Purchase Address'], inplace=True)"
   ]
  },
  {
   "cell_type": "markdown",
   "metadata": {},
   "source": [
    "<p>Once we are sure we don´t have any NaN or null values, and the data type is <u>string</u>, we will split the string values to extract the cities and the state codes, this is because we can have cities with same names but they are from different states.</p>"
   ]
  },
  {
   "cell_type": "code",
   "execution_count": 23,
   "metadata": {},
   "outputs": [
    {
     "data": {
      "text/plain": [
       "0                Boston (MA)\n",
       "1              Portland (OR)\n",
       "2         San Francisco (CA)\n",
       "3           Los Angeles (CA)\n",
       "4                Austin (TX)\n",
       "                 ...        \n",
       "186845    San Francisco (CA)\n",
       "186846      Los Angeles (CA)\n",
       "186847          Seattle (WA)\n",
       "186848           Dallas (TX)\n",
       "186849      Los Angeles (CA)\n",
       "Name: City, Length: 185950, dtype: object"
      ]
     },
     "execution_count": 23,
     "metadata": {},
     "output_type": "execute_result"
    }
   ],
   "source": [
    "# Now let's split the values to extract only the city names\n",
    "# Splitting the values and store them into a variable\n",
    "extract_city_data = df_all_data['Purchase Address'].str.split(', ', expand=True)\n",
    "states = extract_city_data[2].str.split(' ').str[0]\n",
    "city_states = extract_city_data[1] + ' (' + states + ')'\n",
    "# print(city_states)\n",
    "\n",
    "# Split again the values into the variable and store them in the new column 'City'\n",
    "df_all_data['City'] = city_states\n",
    "\n",
    "# Checking if the values are correct\n",
    "df_all_data['City']"
   ]
  },
  {
   "cell_type": "markdown",
   "metadata": {},
   "source": [
    "<p>Now that we have the city names is time to answer to our second question</p>"
   ]
  },
  {
   "cell_type": "code",
   "execution_count": 24,
   "metadata": {},
   "outputs": [
    {
     "name": "stdout",
     "output_type": "stream",
     "text": [
      "                    Quantity Ordered  Price Each   Month    Hour   Mintue  \\\n",
      "City                                                                        \n",
      "Atlanta (GA)                   16602  2779908.20  104794  214264   442932   \n",
      "Austin (TX)                    11153  1809873.61   69829  141946   289060   \n",
      "Boston (MA)                    22528  3637409.77  141112  288225   590442   \n",
      "Dallas (TX)                    16730  2752627.82  104620  214390   435155   \n",
      "Los Angeles (CA)               33289  5421435.23  208325  427444   866638   \n",
      "New York City (NY)             27932  4635370.83  175741  357696   733598   \n",
      "Portland (ME)                   2750   447189.25   17144   35211    72856   \n",
      "Portland (OR)                  11303  1860558.22   70621  144421   295533   \n",
      "San Francisco (CA)             50239  8211461.74  315520  643265  1319477   \n",
      "Seattle (WA)                   16553  2733296.01  104941  213292   436368   \n",
      "\n",
      "                          Sold  \n",
      "City                            \n",
      "Atlanta (GA)        2795498.58  \n",
      "Austin (TX)         1819581.75  \n",
      "Boston (MA)         3661642.01  \n",
      "Dallas (TX)         2767975.40  \n",
      "Los Angeles (CA)    5452570.80  \n",
      "New York City (NY)  4664317.43  \n",
      "Portland (ME)        449758.27  \n",
      "Portland (OR)       1870732.34  \n",
      "San Francisco (CA)  8262203.91  \n",
      "Seattle (WA)        2747755.48  \n"
     ]
    },
    {
     "name": "stderr",
     "output_type": "stream",
     "text": [
      "C:\\Users\\imgal\\AppData\\Local\\Temp\\ipykernel_14636\\3589394245.py:1: FutureWarning: The default value of numeric_only in DataFrameGroupBy.sum is deprecated. In a future version, numeric_only will default to False. Either specify numeric_only or select only columns which should be valid for the function.\n",
      "  cities_sales = df_all_data.groupby('City').sum()\n"
     ]
    }
   ],
   "source": [
    "cities_sales = df_all_data.groupby('City').sum()\n",
    "print(cities_sales)"
   ]
  },
  {
   "cell_type": "code",
   "execution_count": 25,
   "metadata": {},
   "outputs": [
    {
     "data": {
      "image/png": "[encoded data removed]",
      "text/plain": [
       "<Figure size 640x480 with 1 Axes>"
      ]
     },
     "metadata": {},
     "output_type": "display_data"
    }
   ],
   "source": [
    "# Creating a range for the cities\n",
    "cities = cities_sales.index\n",
    "sales = cities_sales['Sold']\n",
    "cities_range = range(len(cities))\n",
    "# print(cities)\n",
    "\n",
    "# The plot\n",
    "plt.bar(cities, cities_sales['Sold'])\n",
    "plt.xticks(cities_range, cities, rotation=\"vertical\")\n",
    "# plt.yticks(rotation=45)\n",
    "plt.xlabel('Cities')\n",
    "plt.ylabel('Sales')\n",
    "plt.title('Most Sales by City')\n",
    "\n",
    "# Formatting the y-axis labels\n",
    "formatter = ticker.FuncFormatter(lambda x, pos: '${:,.0f}'.format(x))  # Format as currency\n",
    "plt.gca().yaxis.set_major_formatter(formatter)\n",
    "\n",
    "plt.tight_layout()\n",
    "plt.show()"
   ]
  },
  {
   "cell_type": "markdown",
   "metadata": {},
   "source": [
    "<p>We can say that the city with the most sales is <b><i>San Francisco</i></b> with a total of $8.262.203.91 sales, followed by <b><i>Los Angeles</i></b> with a total of $ 5.452.570.80, and in third place, is <b><i>New York</i></b> with a total of $ 4.664.317.43</p>"
   ]
  },
  {
   "cell_type": "code",
   "execution_count": 26,
   "metadata": {},
   "outputs": [
    {
     "data": {
      "text/html": [
       "<div>\n",
       "<style scoped>\n",
       "    .dataframe tbody tr th:only-of-type {\n",
       "        vertical-align: middle;\n",
       "    }\n",
       "\n",
       "    .dataframe tbody tr th {\n",
       "        vertical-align: top;\n",
       "    }\n",
       "\n",
       "    .dataframe thead th {\n",
       "        text-align: right;\n",
       "    }\n",
       "</style>\n",
       "<table border=\"1\" class=\"dataframe\">\n",
       "  <thead>\n",
       "    <tr style=\"text-align: right;\">\n",
       "      <th></th>\n",
       "      <th>Order ID</th>\n",
       "      <th>Product</th>\n",
       "      <th>Quantity Ordered</th>\n",
       "      <th>Price Each</th>\n",
       "      <th>Order Date</th>\n",
       "      <th>Month</th>\n",
       "      <th>Hour</th>\n",
       "      <th>Mintue</th>\n",
       "      <th>Purchase Address</th>\n",
       "      <th>Sold</th>\n",
       "      <th>City</th>\n",
       "    </tr>\n",
       "  </thead>\n",
       "  <tbody>\n",
       "    <tr>\n",
       "      <th>0</th>\n",
       "      <td>141234</td>\n",
       "      <td>iPhone</td>\n",
       "      <td>1</td>\n",
       "      <td>700.00</td>\n",
       "      <td>2019-01-22 21:25:00</td>\n",
       "      <td>1</td>\n",
       "      <td>21</td>\n",
       "      <td>25</td>\n",
       "      <td>944 Walnut St, Boston, MA 02215</td>\n",
       "      <td>700.00</td>\n",
       "      <td>Boston (MA)</td>\n",
       "    </tr>\n",
       "    <tr>\n",
       "      <th>1</th>\n",
       "      <td>141235</td>\n",
       "      <td>Lightning Charging Cable</td>\n",
       "      <td>1</td>\n",
       "      <td>14.95</td>\n",
       "      <td>2019-01-28 14:15:00</td>\n",
       "      <td>1</td>\n",
       "      <td>14</td>\n",
       "      <td>15</td>\n",
       "      <td>185 Maple St, Portland, OR 97035</td>\n",
       "      <td>14.95</td>\n",
       "      <td>Portland (OR)</td>\n",
       "    </tr>\n",
       "    <tr>\n",
       "      <th>2</th>\n",
       "      <td>141236</td>\n",
       "      <td>Wired Headphones</td>\n",
       "      <td>2</td>\n",
       "      <td>11.99</td>\n",
       "      <td>2019-01-17 13:33:00</td>\n",
       "      <td>1</td>\n",
       "      <td>13</td>\n",
       "      <td>33</td>\n",
       "      <td>538 Adams St, San Francisco, CA 94016</td>\n",
       "      <td>23.98</td>\n",
       "      <td>San Francisco (CA)</td>\n",
       "    </tr>\n",
       "    <tr>\n",
       "      <th>3</th>\n",
       "      <td>141237</td>\n",
       "      <td>27in FHD Monitor</td>\n",
       "      <td>1</td>\n",
       "      <td>149.99</td>\n",
       "      <td>2019-01-05 20:33:00</td>\n",
       "      <td>1</td>\n",
       "      <td>20</td>\n",
       "      <td>33</td>\n",
       "      <td>738 10th St, Los Angeles, CA 90001</td>\n",
       "      <td>149.99</td>\n",
       "      <td>Los Angeles (CA)</td>\n",
       "    </tr>\n",
       "    <tr>\n",
       "      <th>4</th>\n",
       "      <td>141238</td>\n",
       "      <td>Wired Headphones</td>\n",
       "      <td>1</td>\n",
       "      <td>11.99</td>\n",
       "      <td>2019-01-25 11:59:00</td>\n",
       "      <td>1</td>\n",
       "      <td>11</td>\n",
       "      <td>59</td>\n",
       "      <td>387 10th St, Austin, TX 73301</td>\n",
       "      <td>11.99</td>\n",
       "      <td>Austin (TX)</td>\n",
       "    </tr>\n",
       "  </tbody>\n",
       "</table>\n",
       "</div>"
      ],
      "text/plain": [
       "  Order ID                   Product  Quantity Ordered  Price Each  \\\n",
       "0   141234                    iPhone                 1      700.00   \n",
       "1   141235  Lightning Charging Cable                 1       14.95   \n",
       "2   141236          Wired Headphones                 2       11.99   \n",
       "3   141237          27in FHD Monitor                 1      149.99   \n",
       "4   141238          Wired Headphones                 1       11.99   \n",
       "\n",
       "           Order Date  Month  Hour  Mintue  \\\n",
       "0 2019-01-22 21:25:00      1    21      25   \n",
       "1 2019-01-28 14:15:00      1    14      15   \n",
       "2 2019-01-17 13:33:00      1    13      33   \n",
       "3 2019-01-05 20:33:00      1    20      33   \n",
       "4 2019-01-25 11:59:00      1    11      59   \n",
       "\n",
       "                        Purchase Address    Sold                City  \n",
       "0        944 Walnut St, Boston, MA 02215  700.00         Boston (MA)  \n",
       "1       185 Maple St, Portland, OR 97035   14.95       Portland (OR)  \n",
       "2  538 Adams St, San Francisco, CA 94016   23.98  San Francisco (CA)  \n",
       "3     738 10th St, Los Angeles, CA 90001  149.99    Los Angeles (CA)  \n",
       "4          387 10th St, Austin, TX 73301   11.99         Austin (TX)  "
      ]
     },
     "execution_count": 26,
     "metadata": {},
     "output_type": "execute_result"
    }
   ],
   "source": [
    "df_all_data.head()"
   ]
  },
  {
   "cell_type": "markdown",
   "metadata": {},
   "source": [
    "#### <b><u>Question 3</u></b>: What time should we display advertisements to maximize the likelihood of customers buying a product?\n",
    "\n",
    "<p>To answer this question we are going to need to extract the hours from the 'Order Date' column and try to create a distribution through the 24 hours</p>"
   ]
  },
  {
   "cell_type": "code",
   "execution_count": 27,
   "metadata": {},
   "outputs": [
    {
     "name": "stdout",
     "output_type": "stream",
     "text": [
      "[0, 1, 2, 3, 4, 5, 6, 7, 8, 9, 10, 11, 12, 13, 14, 15, 16, 17, 18, 19, 20, 21, 22, 23]\n"
     ]
    }
   ],
   "source": [
    "hours = [hour for hour, df in df_all_data.groupby('Hour')]\n",
    "print(hours)"
   ]
  },
  {
   "cell_type": "code",
   "execution_count": 28,
   "metadata": {},
   "outputs": [
    {
     "data": {
      "image/png": "[encoded data removed]",
      "text/plain": [
       "<Figure size 640x480 with 1 Axes>"
      ]
     },
     "metadata": {},
     "output_type": "display_data"
    }
   ],
   "source": [
    "plt.plot(hours, df_all_data.groupby('Hour').count(), marker = 'o')\n",
    "plt.grid()\n",
    "plt.xticks(hours)\n",
    "plt.xlabel('Hours', color='m')\n",
    "plt.ylabel('Number of Orders', color='m')\n",
    "plt.title('Orders by Hours', color='red')\n",
    "plt.show()"
   ]
  },
  {
   "cell_type": "markdown",
   "metadata": {},
   "source": [
    "<p>Looking at the graph, if we want to maximize advertisements, we recommend posting them at the hours when the peaks of the orders occur, which are from <u><i>11 to 13</i></u>, and from <u><i>18 to 20</i></u>. In those hours when you receive the most orders, so advertising is likely to reach more customers. Also, advertising can be old from <i>11 to 20</i>, because during this period the most orders are registered. </p>"
   ]
  },
  {
   "cell_type": "markdown",
   "metadata": {},
   "source": [
    "#### <b><u>Question 4</u></b>: What products are most often sold together?\n",
    "\n",
    "<p>For this question, we will count the products, but also for this task, we will need to know those products that go together in the same direction</p>"
   ]
  },
  {
   "cell_type": "code",
   "execution_count": 29,
   "metadata": {},
   "outputs": [
    {
     "data": {
      "text/html": [
       "<div>\n",
       "<style scoped>\n",
       "    .dataframe tbody tr th:only-of-type {\n",
       "        vertical-align: middle;\n",
       "    }\n",
       "\n",
       "    .dataframe tbody tr th {\n",
       "        vertical-align: top;\n",
       "    }\n",
       "\n",
       "    .dataframe thead th {\n",
       "        text-align: right;\n",
       "    }\n",
       "</style>\n",
       "<table border=\"1\" class=\"dataframe\">\n",
       "  <thead>\n",
       "    <tr style=\"text-align: right;\">\n",
       "      <th></th>\n",
       "      <th>Order ID</th>\n",
       "      <th>Product</th>\n",
       "      <th>Quantity Ordered</th>\n",
       "      <th>Price Each</th>\n",
       "      <th>Order Date</th>\n",
       "      <th>Month</th>\n",
       "      <th>Hour</th>\n",
       "      <th>Mintue</th>\n",
       "      <th>Purchase Address</th>\n",
       "      <th>Sold</th>\n",
       "      <th>City</th>\n",
       "    </tr>\n",
       "  </thead>\n",
       "  <tbody>\n",
       "    <tr>\n",
       "      <th>41</th>\n",
       "      <td>141275</td>\n",
       "      <td>USB-C Charging Cable</td>\n",
       "      <td>1</td>\n",
       "      <td>11.95</td>\n",
       "      <td>2019-01-07 16:06:00</td>\n",
       "      <td>1</td>\n",
       "      <td>16</td>\n",
       "      <td>6</td>\n",
       "      <td>610 Walnut St, Austin, TX 73301</td>\n",
       "      <td>11.95</td>\n",
       "      <td>Austin (TX)</td>\n",
       "    </tr>\n",
       "    <tr>\n",
       "      <th>42</th>\n",
       "      <td>141275</td>\n",
       "      <td>Wired Headphones</td>\n",
       "      <td>1</td>\n",
       "      <td>11.99</td>\n",
       "      <td>2019-01-07 16:06:00</td>\n",
       "      <td>1</td>\n",
       "      <td>16</td>\n",
       "      <td>6</td>\n",
       "      <td>610 Walnut St, Austin, TX 73301</td>\n",
       "      <td>11.99</td>\n",
       "      <td>Austin (TX)</td>\n",
       "    </tr>\n",
       "    <tr>\n",
       "      <th>57</th>\n",
       "      <td>141290</td>\n",
       "      <td>Apple Airpods Headphones</td>\n",
       "      <td>1</td>\n",
       "      <td>150.00</td>\n",
       "      <td>2019-01-02 08:25:00</td>\n",
       "      <td>1</td>\n",
       "      <td>8</td>\n",
       "      <td>25</td>\n",
       "      <td>4 1st St, Los Angeles, CA 90001</td>\n",
       "      <td>150.00</td>\n",
       "      <td>Los Angeles (CA)</td>\n",
       "    </tr>\n",
       "    <tr>\n",
       "      <th>58</th>\n",
       "      <td>141290</td>\n",
       "      <td>AA Batteries (4-pack)</td>\n",
       "      <td>3</td>\n",
       "      <td>3.84</td>\n",
       "      <td>2019-01-02 08:25:00</td>\n",
       "      <td>1</td>\n",
       "      <td>8</td>\n",
       "      <td>25</td>\n",
       "      <td>4 1st St, Los Angeles, CA 90001</td>\n",
       "      <td>11.52</td>\n",
       "      <td>Los Angeles (CA)</td>\n",
       "    </tr>\n",
       "    <tr>\n",
       "      <th>133</th>\n",
       "      <td>141365</td>\n",
       "      <td>Vareebadd Phone</td>\n",
       "      <td>1</td>\n",
       "      <td>400.00</td>\n",
       "      <td>2019-01-10 11:19:00</td>\n",
       "      <td>1</td>\n",
       "      <td>11</td>\n",
       "      <td>19</td>\n",
       "      <td>20 Dogwood St, New York City, NY 10001</td>\n",
       "      <td>400.00</td>\n",
       "      <td>New York City (NY)</td>\n",
       "    </tr>\n",
       "  </tbody>\n",
       "</table>\n",
       "</div>"
      ],
      "text/plain": [
       "    Order ID                   Product  Quantity Ordered  Price Each  \\\n",
       "41    141275      USB-C Charging Cable                 1       11.95   \n",
       "42    141275          Wired Headphones                 1       11.99   \n",
       "57    141290  Apple Airpods Headphones                 1      150.00   \n",
       "58    141290     AA Batteries (4-pack)                 3        3.84   \n",
       "133   141365           Vareebadd Phone                 1      400.00   \n",
       "\n",
       "             Order Date  Month  Hour  Mintue  \\\n",
       "41  2019-01-07 16:06:00      1    16       6   \n",
       "42  2019-01-07 16:06:00      1    16       6   \n",
       "57  2019-01-02 08:25:00      1     8      25   \n",
       "58  2019-01-02 08:25:00      1     8      25   \n",
       "133 2019-01-10 11:19:00      1    11      19   \n",
       "\n",
       "                           Purchase Address    Sold                City  \n",
       "41          610 Walnut St, Austin, TX 73301   11.95         Austin (TX)  \n",
       "42          610 Walnut St, Austin, TX 73301   11.99         Austin (TX)  \n",
       "57          4 1st St, Los Angeles, CA 90001  150.00    Los Angeles (CA)  \n",
       "58          4 1st St, Los Angeles, CA 90001   11.52    Los Angeles (CA)  \n",
       "133  20 Dogwood St, New York City, NY 10001  400.00  New York City (NY)  "
      ]
     },
     "execution_count": 29,
     "metadata": {},
     "output_type": "execute_result"
    }
   ],
   "source": [
    "# We create a new data frame with the duplicate values\n",
    "prod_by_id = df_all_data[df_all_data['Order ID'].duplicated(keep=False)]\n",
    "prod_by_id.head()"
   ]
  },
  {
   "cell_type": "code",
   "execution_count": 30,
   "metadata": {},
   "outputs": [
    {
     "name": "stderr",
     "output_type": "stream",
     "text": [
      "C:\\Users\\imgal\\AppData\\Local\\Temp\\ipykernel_14636\\605619940.py:4: SettingWithCopyWarning: \n",
      "A value is trying to be set on a copy of a slice from a DataFrame.\n",
      "Try using .loc[row_indexer,col_indexer] = value instead\n",
      "\n",
      "See the caveats in the documentation: https://pandas.pydata.org/pandas-docs/stable/user_guide/indexing.html#returning-a-view-versus-a-copy\n",
      "  prod_by_id['Grouped'] = grouped\n"
     ]
    },
    {
     "data": {
      "text/html": [
       "<div>\n",
       "<style scoped>\n",
       "    .dataframe tbody tr th:only-of-type {\n",
       "        vertical-align: middle;\n",
       "    }\n",
       "\n",
       "    .dataframe tbody tr th {\n",
       "        vertical-align: top;\n",
       "    }\n",
       "\n",
       "    .dataframe thead th {\n",
       "        text-align: right;\n",
       "    }\n",
       "</style>\n",
       "<table border=\"1\" class=\"dataframe\">\n",
       "  <thead>\n",
       "    <tr style=\"text-align: right;\">\n",
       "      <th></th>\n",
       "      <th>Order ID</th>\n",
       "      <th>Product</th>\n",
       "      <th>Quantity Ordered</th>\n",
       "      <th>Price Each</th>\n",
       "      <th>Order Date</th>\n",
       "      <th>Month</th>\n",
       "      <th>Hour</th>\n",
       "      <th>Mintue</th>\n",
       "      <th>Purchase Address</th>\n",
       "      <th>Sold</th>\n",
       "      <th>City</th>\n",
       "      <th>Grouped</th>\n",
       "    </tr>\n",
       "  </thead>\n",
       "  <tbody>\n",
       "    <tr>\n",
       "      <th>41</th>\n",
       "      <td>141275</td>\n",
       "      <td>USB-C Charging Cable</td>\n",
       "      <td>1</td>\n",
       "      <td>11.95</td>\n",
       "      <td>2019-01-07 16:06:00</td>\n",
       "      <td>1</td>\n",
       "      <td>16</td>\n",
       "      <td>6</td>\n",
       "      <td>610 Walnut St, Austin, TX 73301</td>\n",
       "      <td>11.95</td>\n",
       "      <td>Austin (TX)</td>\n",
       "      <td>USB-C Charging Cable, Wired Headphones</td>\n",
       "    </tr>\n",
       "    <tr>\n",
       "      <th>42</th>\n",
       "      <td>141275</td>\n",
       "      <td>Wired Headphones</td>\n",
       "      <td>1</td>\n",
       "      <td>11.99</td>\n",
       "      <td>2019-01-07 16:06:00</td>\n",
       "      <td>1</td>\n",
       "      <td>16</td>\n",
       "      <td>6</td>\n",
       "      <td>610 Walnut St, Austin, TX 73301</td>\n",
       "      <td>11.99</td>\n",
       "      <td>Austin (TX)</td>\n",
       "      <td>USB-C Charging Cable, Wired Headphones</td>\n",
       "    </tr>\n",
       "    <tr>\n",
       "      <th>57</th>\n",
       "      <td>141290</td>\n",
       "      <td>Apple Airpods Headphones</td>\n",
       "      <td>1</td>\n",
       "      <td>150.00</td>\n",
       "      <td>2019-01-02 08:25:00</td>\n",
       "      <td>1</td>\n",
       "      <td>8</td>\n",
       "      <td>25</td>\n",
       "      <td>4 1st St, Los Angeles, CA 90001</td>\n",
       "      <td>150.00</td>\n",
       "      <td>Los Angeles (CA)</td>\n",
       "      <td>Apple Airpods Headphones, AA Batteries (4-pack)</td>\n",
       "    </tr>\n",
       "    <tr>\n",
       "      <th>58</th>\n",
       "      <td>141290</td>\n",
       "      <td>AA Batteries (4-pack)</td>\n",
       "      <td>3</td>\n",
       "      <td>3.84</td>\n",
       "      <td>2019-01-02 08:25:00</td>\n",
       "      <td>1</td>\n",
       "      <td>8</td>\n",
       "      <td>25</td>\n",
       "      <td>4 1st St, Los Angeles, CA 90001</td>\n",
       "      <td>11.52</td>\n",
       "      <td>Los Angeles (CA)</td>\n",
       "      <td>Apple Airpods Headphones, AA Batteries (4-pack)</td>\n",
       "    </tr>\n",
       "    <tr>\n",
       "      <th>133</th>\n",
       "      <td>141365</td>\n",
       "      <td>Vareebadd Phone</td>\n",
       "      <td>1</td>\n",
       "      <td>400.00</td>\n",
       "      <td>2019-01-10 11:19:00</td>\n",
       "      <td>1</td>\n",
       "      <td>11</td>\n",
       "      <td>19</td>\n",
       "      <td>20 Dogwood St, New York City, NY 10001</td>\n",
       "      <td>400.00</td>\n",
       "      <td>New York City (NY)</td>\n",
       "      <td>Vareebadd Phone, Wired Headphones</td>\n",
       "    </tr>\n",
       "    <tr>\n",
       "      <th>134</th>\n",
       "      <td>141365</td>\n",
       "      <td>Wired Headphones</td>\n",
       "      <td>1</td>\n",
       "      <td>11.99</td>\n",
       "      <td>2019-01-10 11:19:00</td>\n",
       "      <td>1</td>\n",
       "      <td>11</td>\n",
       "      <td>19</td>\n",
       "      <td>20 Dogwood St, New York City, NY 10001</td>\n",
       "      <td>11.99</td>\n",
       "      <td>New York City (NY)</td>\n",
       "      <td>Vareebadd Phone, Wired Headphones</td>\n",
       "    </tr>\n",
       "    <tr>\n",
       "      <th>153</th>\n",
       "      <td>141384</td>\n",
       "      <td>Google Phone</td>\n",
       "      <td>1</td>\n",
       "      <td>600.00</td>\n",
       "      <td>2019-01-03 00:14:00</td>\n",
       "      <td>1</td>\n",
       "      <td>0</td>\n",
       "      <td>14</td>\n",
       "      <td>223 Jackson St, Boston, MA 02215</td>\n",
       "      <td>600.00</td>\n",
       "      <td>Boston (MA)</td>\n",
       "      <td>Google Phone, USB-C Charging Cable</td>\n",
       "    </tr>\n",
       "    <tr>\n",
       "      <th>154</th>\n",
       "      <td>141384</td>\n",
       "      <td>USB-C Charging Cable</td>\n",
       "      <td>1</td>\n",
       "      <td>11.95</td>\n",
       "      <td>2019-01-03 00:14:00</td>\n",
       "      <td>1</td>\n",
       "      <td>0</td>\n",
       "      <td>14</td>\n",
       "      <td>223 Jackson St, Boston, MA 02215</td>\n",
       "      <td>11.95</td>\n",
       "      <td>Boston (MA)</td>\n",
       "      <td>Google Phone, USB-C Charging Cable</td>\n",
       "    </tr>\n",
       "    <tr>\n",
       "      <th>220</th>\n",
       "      <td>141450</td>\n",
       "      <td>Google Phone</td>\n",
       "      <td>1</td>\n",
       "      <td>600.00</td>\n",
       "      <td>2019-01-12 11:16:00</td>\n",
       "      <td>1</td>\n",
       "      <td>11</td>\n",
       "      <td>16</td>\n",
       "      <td>521 Park St, San Francisco, CA 94016</td>\n",
       "      <td>600.00</td>\n",
       "      <td>San Francisco (CA)</td>\n",
       "      <td>Google Phone, Bose SoundSport Headphones</td>\n",
       "    </tr>\n",
       "    <tr>\n",
       "      <th>221</th>\n",
       "      <td>141450</td>\n",
       "      <td>Bose SoundSport Headphones</td>\n",
       "      <td>1</td>\n",
       "      <td>99.99</td>\n",
       "      <td>2019-01-12 11:16:00</td>\n",
       "      <td>1</td>\n",
       "      <td>11</td>\n",
       "      <td>16</td>\n",
       "      <td>521 Park St, San Francisco, CA 94016</td>\n",
       "      <td>99.99</td>\n",
       "      <td>San Francisco (CA)</td>\n",
       "      <td>Google Phone, Bose SoundSport Headphones</td>\n",
       "    </tr>\n",
       "  </tbody>\n",
       "</table>\n",
       "</div>"
      ],
      "text/plain": [
       "    Order ID                     Product  Quantity Ordered  Price Each  \\\n",
       "41    141275        USB-C Charging Cable                 1       11.95   \n",
       "42    141275            Wired Headphones                 1       11.99   \n",
       "57    141290    Apple Airpods Headphones                 1      150.00   \n",
       "58    141290       AA Batteries (4-pack)                 3        3.84   \n",
       "133   141365             Vareebadd Phone                 1      400.00   \n",
       "134   141365            Wired Headphones                 1       11.99   \n",
       "153   141384                Google Phone                 1      600.00   \n",
       "154   141384        USB-C Charging Cable                 1       11.95   \n",
       "220   141450                Google Phone                 1      600.00   \n",
       "221   141450  Bose SoundSport Headphones                 1       99.99   \n",
       "\n",
       "             Order Date  Month  Hour  Mintue  \\\n",
       "41  2019-01-07 16:06:00      1    16       6   \n",
       "42  2019-01-07 16:06:00      1    16       6   \n",
       "57  2019-01-02 08:25:00      1     8      25   \n",
       "58  2019-01-02 08:25:00      1     8      25   \n",
       "133 2019-01-10 11:19:00      1    11      19   \n",
       "134 2019-01-10 11:19:00      1    11      19   \n",
       "153 2019-01-03 00:14:00      1     0      14   \n",
       "154 2019-01-03 00:14:00      1     0      14   \n",
       "220 2019-01-12 11:16:00      1    11      16   \n",
       "221 2019-01-12 11:16:00      1    11      16   \n",
       "\n",
       "                           Purchase Address    Sold                City  \\\n",
       "41          610 Walnut St, Austin, TX 73301   11.95         Austin (TX)   \n",
       "42          610 Walnut St, Austin, TX 73301   11.99         Austin (TX)   \n",
       "57          4 1st St, Los Angeles, CA 90001  150.00    Los Angeles (CA)   \n",
       "58          4 1st St, Los Angeles, CA 90001   11.52    Los Angeles (CA)   \n",
       "133  20 Dogwood St, New York City, NY 10001  400.00  New York City (NY)   \n",
       "134  20 Dogwood St, New York City, NY 10001   11.99  New York City (NY)   \n",
       "153        223 Jackson St, Boston, MA 02215  600.00         Boston (MA)   \n",
       "154        223 Jackson St, Boston, MA 02215   11.95         Boston (MA)   \n",
       "220    521 Park St, San Francisco, CA 94016  600.00  San Francisco (CA)   \n",
       "221    521 Park St, San Francisco, CA 94016   99.99  San Francisco (CA)   \n",
       "\n",
       "                                             Grouped  \n",
       "41            USB-C Charging Cable, Wired Headphones  \n",
       "42            USB-C Charging Cable, Wired Headphones  \n",
       "57   Apple Airpods Headphones, AA Batteries (4-pack)  \n",
       "58   Apple Airpods Headphones, AA Batteries (4-pack)  \n",
       "133                Vareebadd Phone, Wired Headphones  \n",
       "134                Vareebadd Phone, Wired Headphones  \n",
       "153               Google Phone, USB-C Charging Cable  \n",
       "154               Google Phone, USB-C Charging Cable  \n",
       "220         Google Phone, Bose SoundSport Headphones  \n",
       "221         Google Phone, Bose SoundSport Headphones  "
      ]
     },
     "execution_count": 30,
     "metadata": {},
     "output_type": "execute_result"
    }
   ],
   "source": [
    "# Now we 'join' the duplicated values and put them into a new column\n",
    "grouped =  prod_by_id.groupby('Order ID')['Product'].transform(lambda x: ', '.join(x))\n",
    "# grouped.head(10)\n",
    "prod_by_id['Grouped'] = grouped\n",
    "prod_by_id.head(10)"
   ]
  },
  {
   "cell_type": "code",
   "execution_count": 31,
   "metadata": {},
   "outputs": [
    {
     "data": {
      "text/html": [
       "<div>\n",
       "<style scoped>\n",
       "    .dataframe tbody tr th:only-of-type {\n",
       "        vertical-align: middle;\n",
       "    }\n",
       "\n",
       "    .dataframe tbody tr th {\n",
       "        vertical-align: top;\n",
       "    }\n",
       "\n",
       "    .dataframe thead th {\n",
       "        text-align: right;\n",
       "    }\n",
       "</style>\n",
       "<table border=\"1\" class=\"dataframe\">\n",
       "  <thead>\n",
       "    <tr style=\"text-align: right;\">\n",
       "      <th></th>\n",
       "      <th>Order ID</th>\n",
       "      <th>Grouped</th>\n",
       "    </tr>\n",
       "  </thead>\n",
       "  <tbody>\n",
       "    <tr>\n",
       "      <th>41</th>\n",
       "      <td>141275</td>\n",
       "      <td>USB-C Charging Cable, Wired Headphones</td>\n",
       "    </tr>\n",
       "    <tr>\n",
       "      <th>57</th>\n",
       "      <td>141290</td>\n",
       "      <td>Apple Airpods Headphones, AA Batteries (4-pack)</td>\n",
       "    </tr>\n",
       "    <tr>\n",
       "      <th>133</th>\n",
       "      <td>141365</td>\n",
       "      <td>Vareebadd Phone, Wired Headphones</td>\n",
       "    </tr>\n",
       "    <tr>\n",
       "      <th>153</th>\n",
       "      <td>141384</td>\n",
       "      <td>Google Phone, USB-C Charging Cable</td>\n",
       "    </tr>\n",
       "    <tr>\n",
       "      <th>220</th>\n",
       "      <td>141450</td>\n",
       "      <td>Google Phone, Bose SoundSport Headphones</td>\n",
       "    </tr>\n",
       "  </tbody>\n",
       "</table>\n",
       "</div>"
      ],
      "text/plain": [
       "    Order ID                                          Grouped\n",
       "41    141275           USB-C Charging Cable, Wired Headphones\n",
       "57    141290  Apple Airpods Headphones, AA Batteries (4-pack)\n",
       "133   141365                Vareebadd Phone, Wired Headphones\n",
       "153   141384               Google Phone, USB-C Charging Cable\n",
       "220   141450         Google Phone, Bose SoundSport Headphones"
      ]
     },
     "execution_count": 31,
     "metadata": {},
     "output_type": "execute_result"
    }
   ],
   "source": [
    "# Let's remove those values that are not necessary to our analysis\n",
    "prod_by_id = prod_by_id[['Order ID', 'Grouped']].drop_duplicates()\n",
    "prod_by_id.head()"
   ]
  },
  {
   "cell_type": "code",
   "execution_count": 32,
   "metadata": {},
   "outputs": [
    {
     "name": "stdout",
     "output_type": "stream",
     "text": [
      "('iPhone', 'Lightning Charging Cable') 1005\n",
      "('Google Phone', 'USB-C Charging Cable') 987\n",
      "('iPhone', 'Wired Headphones') 447\n",
      "('Google Phone', 'Wired Headphones') 414\n",
      "('Vareebadd Phone', 'USB-C Charging Cable') 361\n",
      "('iPhone', 'Apple Airpods Headphones') 360\n",
      "('Google Phone', 'Bose SoundSport Headphones') 220\n",
      "('USB-C Charging Cable', 'Wired Headphones') 160\n"
     ]
    }
   ],
   "source": [
    "# It's time to count the values, for this task, we will use two more libraries\n",
    "from itertools import combinations\n",
    "from collections import Counter\n",
    "\n",
    "# To use Counter, we will need to save it into a variable\n",
    "counter = Counter()\n",
    "\n",
    "# We use a for loop to count the pair of values from 'Grouped' column\n",
    "for row in prod_by_id['Grouped']:\n",
    "    row_list = row.split(', ')\n",
    "    counter.update(Counter(combinations(row_list, 2)))\n",
    "    \n",
    "# Checking our count\n",
    "for key, value in counter.most_common(8):\n",
    "    print(key, value)"
   ]
  },
  {
   "cell_type": "markdown",
   "metadata": {},
   "source": [
    "<p>The purpose of this analysis was to understand the sales and determine which products were most likely to be bought together. This is to help our stakeholders understand their customer purchases and will help them decide if they want to create sales promotions with their products. We appreciate that most purchases are phones with charging cables. If they want, they can establish a promotion for phones, charging cables, or wired headphones</p>"
   ]
  },
  {
   "cell_type": "markdown",
   "metadata": {},
   "source": [
    "#### <b><u>Question 5</u></b>: What product sold the most? Why do you think it sold the most?\n",
    "\n",
    "<p>Let's analyze which product sold the most, why was so demanded, and what we can do to ensure stock.</p>"
   ]
  },
  {
   "cell_type": "code",
   "execution_count": 33,
   "metadata": {},
   "outputs": [
    {
     "name": "stderr",
     "output_type": "stream",
     "text": [
      "C:\\Users\\imgal\\AppData\\Local\\Temp\\ipykernel_14636\\566538657.py:2: FutureWarning: The default value of numeric_only in DataFrameGroupBy.sum is deprecated. In a future version, numeric_only will default to False. Either specify numeric_only or select only columns which should be valid for the function.\n",
      "  group_prod = df_all_data.groupby('Product').sum()\n"
     ]
    },
    {
     "data": {
      "text/html": [
       "<div>\n",
       "<style scoped>\n",
       "    .dataframe tbody tr th:only-of-type {\n",
       "        vertical-align: middle;\n",
       "    }\n",
       "\n",
       "    .dataframe tbody tr th {\n",
       "        vertical-align: top;\n",
       "    }\n",
       "\n",
       "    .dataframe thead th {\n",
       "        text-align: right;\n",
       "    }\n",
       "</style>\n",
       "<table border=\"1\" class=\"dataframe\">\n",
       "  <thead>\n",
       "    <tr style=\"text-align: right;\">\n",
       "      <th></th>\n",
       "      <th>Quantity Ordered</th>\n",
       "      <th>Price Each</th>\n",
       "      <th>Month</th>\n",
       "      <th>Hour</th>\n",
       "      <th>Mintue</th>\n",
       "      <th>Sold</th>\n",
       "    </tr>\n",
       "    <tr>\n",
       "      <th>Product</th>\n",
       "      <th></th>\n",
       "      <th></th>\n",
       "      <th></th>\n",
       "      <th></th>\n",
       "      <th></th>\n",
       "      <th></th>\n",
       "    </tr>\n",
       "  </thead>\n",
       "  <tbody>\n",
       "    <tr>\n",
       "      <th>20in Monitor</th>\n",
       "      <td>4129</td>\n",
       "      <td>451068.99</td>\n",
       "      <td>29336</td>\n",
       "      <td>58764</td>\n",
       "      <td>122252</td>\n",
       "      <td>454148.71</td>\n",
       "    </tr>\n",
       "    <tr>\n",
       "      <th>27in 4K Gaming Monitor</th>\n",
       "      <td>6244</td>\n",
       "      <td>2429637.70</td>\n",
       "      <td>44440</td>\n",
       "      <td>90916</td>\n",
       "      <td>184331</td>\n",
       "      <td>2435097.56</td>\n",
       "    </tr>\n",
       "    <tr>\n",
       "      <th>27in FHD Monitor</th>\n",
       "      <td>7550</td>\n",
       "      <td>1125974.93</td>\n",
       "      <td>52558</td>\n",
       "      <td>107540</td>\n",
       "      <td>219948</td>\n",
       "      <td>1132424.50</td>\n",
       "    </tr>\n",
       "    <tr>\n",
       "      <th>34in Ultrawide Monitor</th>\n",
       "      <td>6199</td>\n",
       "      <td>2348718.19</td>\n",
       "      <td>43304</td>\n",
       "      <td>89076</td>\n",
       "      <td>183480</td>\n",
       "      <td>2355558.01</td>\n",
       "    </tr>\n",
       "    <tr>\n",
       "      <th>AA Batteries (4-pack)</th>\n",
       "      <td>27635</td>\n",
       "      <td>79015.68</td>\n",
       "      <td>145558</td>\n",
       "      <td>298342</td>\n",
       "      <td>609039</td>\n",
       "      <td>106118.40</td>\n",
       "    </tr>\n",
       "    <tr>\n",
       "      <th>AAA Batteries (4-pack)</th>\n",
       "      <td>31017</td>\n",
       "      <td>61716.59</td>\n",
       "      <td>146370</td>\n",
       "      <td>297332</td>\n",
       "      <td>612113</td>\n",
       "      <td>92740.83</td>\n",
       "    </tr>\n",
       "    <tr>\n",
       "      <th>Apple Airpods Headphones</th>\n",
       "      <td>15661</td>\n",
       "      <td>2332350.00</td>\n",
       "      <td>109477</td>\n",
       "      <td>223304</td>\n",
       "      <td>455570</td>\n",
       "      <td>2349150.00</td>\n",
       "    </tr>\n",
       "    <tr>\n",
       "      <th>Bose SoundSport Headphones</th>\n",
       "      <td>13457</td>\n",
       "      <td>1332366.75</td>\n",
       "      <td>94113</td>\n",
       "      <td>192445</td>\n",
       "      <td>392603</td>\n",
       "      <td>1345565.43</td>\n",
       "    </tr>\n",
       "    <tr>\n",
       "      <th>Flatscreen TV</th>\n",
       "      <td>4819</td>\n",
       "      <td>1440000.00</td>\n",
       "      <td>34224</td>\n",
       "      <td>68815</td>\n",
       "      <td>142789</td>\n",
       "      <td>1445700.00</td>\n",
       "    </tr>\n",
       "    <tr>\n",
       "      <th>Google Phone</th>\n",
       "      <td>5532</td>\n",
       "      <td>3315000.00</td>\n",
       "      <td>38305</td>\n",
       "      <td>79479</td>\n",
       "      <td>162773</td>\n",
       "      <td>3319200.00</td>\n",
       "    </tr>\n",
       "    <tr>\n",
       "      <th>LG Dryer</th>\n",
       "      <td>646</td>\n",
       "      <td>387600.00</td>\n",
       "      <td>4383</td>\n",
       "      <td>9326</td>\n",
       "      <td>19043</td>\n",
       "      <td>387600.00</td>\n",
       "    </tr>\n",
       "    <tr>\n",
       "      <th>LG Washing Machine</th>\n",
       "      <td>666</td>\n",
       "      <td>399600.00</td>\n",
       "      <td>4523</td>\n",
       "      <td>9785</td>\n",
       "      <td>19462</td>\n",
       "      <td>399600.00</td>\n",
       "    </tr>\n",
       "    <tr>\n",
       "      <th>Lightning Charging Cable</th>\n",
       "      <td>23217</td>\n",
       "      <td>323787.10</td>\n",
       "      <td>153092</td>\n",
       "      <td>312529</td>\n",
       "      <td>634442</td>\n",
       "      <td>347094.15</td>\n",
       "    </tr>\n",
       "    <tr>\n",
       "      <th>Macbook Pro Laptop</th>\n",
       "      <td>4728</td>\n",
       "      <td>8030800.00</td>\n",
       "      <td>33548</td>\n",
       "      <td>68261</td>\n",
       "      <td>137574</td>\n",
       "      <td>8037600.00</td>\n",
       "    </tr>\n",
       "    <tr>\n",
       "      <th>ThinkPad Laptop</th>\n",
       "      <td>4130</td>\n",
       "      <td>4127958.72</td>\n",
       "      <td>28950</td>\n",
       "      <td>59746</td>\n",
       "      <td>121508</td>\n",
       "      <td>4129958.70</td>\n",
       "    </tr>\n",
       "    <tr>\n",
       "      <th>USB-C Charging Cable</th>\n",
       "      <td>23975</td>\n",
       "      <td>261740.85</td>\n",
       "      <td>154819</td>\n",
       "      <td>314645</td>\n",
       "      <td>647586</td>\n",
       "      <td>286501.25</td>\n",
       "    </tr>\n",
       "    <tr>\n",
       "      <th>Vareebadd Phone</th>\n",
       "      <td>2068</td>\n",
       "      <td>826000.00</td>\n",
       "      <td>14309</td>\n",
       "      <td>29472</td>\n",
       "      <td>61835</td>\n",
       "      <td>827200.00</td>\n",
       "    </tr>\n",
       "    <tr>\n",
       "      <th>Wired Headphones</th>\n",
       "      <td>20557</td>\n",
       "      <td>226395.18</td>\n",
       "      <td>133397</td>\n",
       "      <td>271720</td>\n",
       "      <td>554023</td>\n",
       "      <td>246478.43</td>\n",
       "    </tr>\n",
       "    <tr>\n",
       "      <th>iPhone</th>\n",
       "      <td>6849</td>\n",
       "      <td>4789400.00</td>\n",
       "      <td>47941</td>\n",
       "      <td>98657</td>\n",
       "      <td>201688</td>\n",
       "      <td>4794300.00</td>\n",
       "    </tr>\n",
       "  </tbody>\n",
       "</table>\n",
       "</div>"
      ],
      "text/plain": [
       "                            Quantity Ordered  Price Each   Month    Hour  \\\n",
       "Product                                                                    \n",
       "20in Monitor                            4129   451068.99   29336   58764   \n",
       "27in 4K Gaming Monitor                  6244  2429637.70   44440   90916   \n",
       "27in FHD Monitor                        7550  1125974.93   52558  107540   \n",
       "34in Ultrawide Monitor                  6199  2348718.19   43304   89076   \n",
       "AA Batteries (4-pack)                  27635    79015.68  145558  298342   \n",
       "AAA Batteries (4-pack)                 31017    61716.59  146370  297332   \n",
       "Apple Airpods Headphones               15661  2332350.00  109477  223304   \n",
       "Bose SoundSport Headphones             13457  1332366.75   94113  192445   \n",
       "Flatscreen TV                           4819  1440000.00   34224   68815   \n",
       "Google Phone                            5532  3315000.00   38305   79479   \n",
       "LG Dryer                                 646   387600.00    4383    9326   \n",
       "LG Washing Machine                       666   399600.00    4523    9785   \n",
       "Lightning Charging Cable               23217   323787.10  153092  312529   \n",
       "Macbook Pro Laptop                      4728  8030800.00   33548   68261   \n",
       "ThinkPad Laptop                         4130  4127958.72   28950   59746   \n",
       "USB-C Charging Cable                   23975   261740.85  154819  314645   \n",
       "Vareebadd Phone                         2068   826000.00   14309   29472   \n",
       "Wired Headphones                       20557   226395.18  133397  271720   \n",
       "iPhone                                  6849  4789400.00   47941   98657   \n",
       "\n",
       "                            Mintue        Sold  \n",
       "Product                                         \n",
       "20in Monitor                122252   454148.71  \n",
       "27in 4K Gaming Monitor      184331  2435097.56  \n",
       "27in FHD Monitor            219948  1132424.50  \n",
       "34in Ultrawide Monitor      183480  2355558.01  \n",
       "AA Batteries (4-pack)       609039   106118.40  \n",
       "AAA Batteries (4-pack)      612113    92740.83  \n",
       "Apple Airpods Headphones    455570  2349150.00  \n",
       "Bose SoundSport Headphones  392603  1345565.43  \n",
       "Flatscreen TV               142789  1445700.00  \n",
       "Google Phone                162773  3319200.00  \n",
       "LG Dryer                     19043   387600.00  \n",
       "LG Washing Machine           19462   399600.00  \n",
       "Lightning Charging Cable    634442   347094.15  \n",
       "Macbook Pro Laptop          137574  8037600.00  \n",
       "ThinkPad Laptop             121508  4129958.70  \n",
       "USB-C Charging Cable        647586   286501.25  \n",
       "Vareebadd Phone              61835   827200.00  \n",
       "Wired Headphones            554023   246478.43  \n",
       "iPhone                      201688  4794300.00  "
      ]
     },
     "execution_count": 33,
     "metadata": {},
     "output_type": "execute_result"
    }
   ],
   "source": [
    "# We will group the data by products and then sum their totals.\n",
    "group_prod = df_all_data.groupby('Product').sum()\n",
    "group_prod"
   ]
  },
  {
   "cell_type": "code",
   "execution_count": 34,
   "metadata": {},
   "outputs": [
    {
     "data": {
      "text/plain": [
       "Product\n",
       "20in Monitor                   4129\n",
       "27in 4K Gaming Monitor         6244\n",
       "27in FHD Monitor               7550\n",
       "34in Ultrawide Monitor         6199\n",
       "AA Batteries (4-pack)         27635\n",
       "AAA Batteries (4-pack)        31017\n",
       "Apple Airpods Headphones      15661\n",
       "Bose SoundSport Headphones    13457\n",
       "Flatscreen TV                  4819\n",
       "Google Phone                   5532\n",
       "LG Dryer                        646\n",
       "LG Washing Machine              666\n",
       "Lightning Charging Cable      23217\n",
       "Macbook Pro Laptop             4728\n",
       "ThinkPad Laptop                4130\n",
       "USB-C Charging Cable          23975\n",
       "Vareebadd Phone                2068\n",
       "Wired Headphones              20557\n",
       "iPhone                         6849\n",
       "Name: Quantity Ordered, dtype: int32"
      ]
     },
     "execution_count": 34,
     "metadata": {},
     "output_type": "execute_result"
    }
   ],
   "source": [
    "# We put the values from 'Quantity Ordered' column into a variable, so later we can create our plot\n",
    "quantity_ordered = group_prod['Quantity Ordered']\n",
    "quantity_ordered"
   ]
  },
  {
   "cell_type": "code",
   "execution_count": 35,
   "metadata": {},
   "outputs": [
    {
     "data": {
      "image/png": "[encoded data removed]",
      "text/plain": [
       "<Figure size 640x480 with 1 Axes>"
      ]
     },
     "metadata": {},
     "output_type": "display_data"
    }
   ],
   "source": [
    "# Let's visualize our data creating a bar plot\n",
    "\n",
    "xprod = group_prod.index\n",
    "\n",
    "plt.bar(group_prod.index, quantity_ordered)\n",
    "plt.xticks(xprod, rotation=\"vertical\")\n",
    "plt.xlabel('Products sold')\n",
    "plt.ylabel('Quantity Of Products')\n",
    "plt.title('Most sold products')\n",
    "plt.show()"
   ]
  },
  {
   "cell_type": "markdown",
   "metadata": {},
   "source": [
    "<p>By looking at the values, we can create a hypothesis of why some products are sold most, but it is important to sustain our conclusions with data, so that is what we are going to do now. Batteries are the most popular product, followed by charging cables and headphones. Also, this will help with better stock control.</p>"
   ]
  },
  {
   "cell_type": "code",
   "execution_count": 36,
   "metadata": {},
   "outputs": [
    {
     "name": "stderr",
     "output_type": "stream",
     "text": [
      "C:\\Users\\imgal\\AppData\\Local\\Temp\\ipykernel_14636\\1170635099.py:2: FutureWarning: The default value of numeric_only in DataFrameGroupBy.mean is deprecated. In a future version, numeric_only will default to False. Either specify numeric_only or select only columns which should be valid for the function.\n",
      "  prices = df_all_data.groupby('Product').mean()['Price Each']\n"
     ]
    },
    {
     "data": {
      "text/plain": [
       "Product\n",
       "20in Monitor                   109.99\n",
       "27in 4K Gaming Monitor         389.99\n",
       "27in FHD Monitor               149.99\n",
       "34in Ultrawide Monitor         379.99\n",
       "AA Batteries (4-pack)            3.84\n",
       "AAA Batteries (4-pack)           2.99\n",
       "Apple Airpods Headphones       150.00\n",
       "Bose SoundSport Headphones      99.99\n",
       "Flatscreen TV                  300.00\n",
       "Google Phone                   600.00\n",
       "LG Dryer                       600.00\n",
       "LG Washing Machine             600.00\n",
       "Lightning Charging Cable        14.95\n",
       "Macbook Pro Laptop            1700.00\n",
       "ThinkPad Laptop                999.99\n",
       "USB-C Charging Cable            11.95\n",
       "Vareebadd Phone                400.00\n",
       "Wired Headphones                11.99\n",
       "iPhone                         700.00\n",
       "Name: Price Each, dtype: float64"
      ]
     },
     "execution_count": 36,
     "metadata": {},
     "output_type": "execute_result"
    }
   ],
   "source": [
    "# We will work with the price of the products and calculate the mean values\n",
    "prices = df_all_data.groupby('Product').mean()['Price Each']\n",
    "prices"
   ]
  },
  {
   "cell_type": "markdown",
   "metadata": {},
   "source": [
    "<p>With the new data, we will use it to overlay our bar chart</p>"
   ]
  },
  {
   "cell_type": "code",
   "execution_count": 37,
   "metadata": {},
   "outputs": [
    {
     "name": "stderr",
     "output_type": "stream",
     "text": [
      "C:\\Users\\imgal\\AppData\\Local\\Temp\\ipykernel_14636\\1032566757.py:9: UserWarning: FixedFormatter should only be used together with FixedLocator\n",
      "  ax1.set_xticklabels(xprod, rotation=\"vertical\")\n"
     ]
    },
    {
     "data": {
      "image/png": "[encoded data removed]",
      "text/plain": [
       "<Figure size 640x480 with 2 Axes>"
      ]
     },
     "metadata": {},
     "output_type": "display_data"
    }
   ],
   "source": [
    "# First we indicate the mix of the plots\n",
    "fig, ax1 = plt.subplots()\n",
    "\n",
    "# Create the 2do plot an mix it to the first one\n",
    "ax2 = ax1.twinx()\n",
    "\n",
    "ax1.bar(group_prod.index, quantity_ordered, color=\"green\")\n",
    "ax2.plot(group_prod.index, prices, 'r-')\n",
    "ax1.set_xticklabels(xprod, rotation=\"vertical\")\n",
    "ax1.set_xlabel('Products sold', color=\"green\")\n",
    "ax1.set_ylabel('Quantity Of Products', color=\"green\")\n",
    "ax1.set_title('Most sold products', color='blue')\n",
    "ax2.set_ylabel('Prices ($)', color='r')\n",
    "plt.show()"
   ]
  },
  {
   "cell_type": "markdown",
   "metadata": {},
   "source": [
    "<p> As we said before, we need to sustain our hypothesis with data, so to our chart for the most sold product, we add the mean of the prices of the products. The lowest prices confirm the most-sold products, and the highest prices show us the products that are sold less. </p>"
   ]
  },
  {
   "cell_type": "code",
   "execution_count": 40,
   "metadata": {},
   "outputs": [],
   "source": [
    "df_all_data.to_csv('Clean_SalesData_2019.csv', index=False)\n",
    "df_all_data.to_excel('Clean_SalesData_2019.xlsx', sheet_name='Sales 2019 (Clean)', index=False)"
   ]
  },
  {
   "cell_type": "markdown",
   "metadata": {},
   "source": [
    "<p>Here you can visit Tableau charts and dashboard:</p> \n",
    "<a>https://public.tableau.com/views/Sales_Data_Analysis_17049903648730/Dashboard1?:language=es-ES&publish=yes&:display_count=n&:origin=viz_share_link</a>"
   ]
  }
 ],
 "metadata": {
  "kernelspec": {
   "display_name": "base",
   "language": "python",
   "name": "python3"
  },
  "language_info": {
   "codemirror_mode": {
    "name": "ipython",
    "version": 3
   },
   "file_extension": ".py",
   "mimetype": "text/x-python",
   "name": "python",
   "nbconvert_exporter": "python",
   "pygments_lexer": "ipython3",
   "version": "3.11.4"
  }
 },
 "nbformat": 4,
 "nbformat_minor": 2
}
